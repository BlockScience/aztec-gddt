{
 "cells": [
  {
   "cell_type": "code",
   "execution_count": 1,
   "id": "5c65a5d7",
   "metadata": {},
   "outputs": [],
   "source": [
    "from pathlib import Path\n",
    "import os\n",
    "import sys\n",
    "from random import sample\n",
    "sys.path.append(\"../\")"
   ]
  },
  {
   "cell_type": "code",
   "execution_count": null,
   "id": "f1d83486",
   "metadata": {},
   "outputs": [],
   "source": [
    "%pwd"
   ]
  },
  {
   "cell_type": "code",
   "execution_count": 2,
   "id": "4ebbdcab",
   "metadata": {},
   "outputs": [],
   "source": [
    "import aztec_gddt.psuu.tensor_transform as tt"
   ]
  },
  {
   "cell_type": "code",
   "execution_count": 3,
   "id": "a3b34a20",
   "metadata": {},
   "outputs": [],
   "source": [
    "json_config_file = \"../aztec_gddt/psuu/config.json\""
   ]
  },
  {
   "cell_type": "code",
   "execution_count": 4,
   "id": "8582d8be",
   "metadata": {},
   "outputs": [],
   "source": [
    "my_files = tt.get_timestep_files_from_info(config_file = json_config_file)"
   ]
  },
  {
   "cell_type": "code",
   "execution_count": 5,
   "id": "24bf525d",
   "metadata": {},
   "outputs": [
    {
     "data": {
      "application/vnd.jupyter.widget-view+json": {
       "model_id": "c802326fb3a1464dbb21c823753271c5",
       "version_major": 2,
       "version_minor": 0
      },
      "text/plain": [
       "  0%|          | 0/1 [00:00<?, ?it/s]"
      ]
     },
     "metadata": {},
     "output_type": "display_data"
    }
   ],
   "source": [
    "tt.process_timestep_files_to_csv(per_timestep_tensor_paths = my_files,\n",
    "                                filename = \"test.csv\")"
   ]
  },
  {
   "cell_type": "code",
   "execution_count": null,
   "id": "b2962083",
   "metadata": {},
   "outputs": [],
   "source": [
    "import aztec_gddt.metrics as m\n",
    "import aztec_gddt.plot_tools as pt \n",
    "\n",
    "for filename in files_to_use:\n",
    "    processed_df = m.process_df(pd.read_pickle(filename))\n",
    "    grouped_df = processed_df.groupby(['simulation', 'subset', 'run'])\n",
    "    print(f\"Processing {filename}.\")\n",
    "    for key in grouped_df.groups.keys():\n",
    "        trajectory = grouped_df.get_group(key)\n",
    "        if m.find_proportion_slashed_due_to_prover(trajectory) > 1.0:\n",
    "            print(f\"{key} has too high slashed due to prover.\")\n",
    "        if m.find_proportion_slashed_due_to_sequencer(trajectory) > 1.0:\n",
    "            print(f\"{key} has too high slashed due to sequencer.\")"
   ]
  },
  {
   "cell_type": "code",
   "execution_count": null,
   "id": "d89b023e",
   "metadata": {},
   "outputs": [],
   "source": [
    "dfs_to_use = [m.process_df(pd.read_pickle(file)) for file in files_to_use]\n",
    "for df in dfs_to_use:\n",
    "    extracted_df = pt.extract_df(df, trajectory_kpis = KPIs)\n",
    "    bad_df = extracted_df[(extracted_df['proportion_slashed_due_to_sequencer'] > 1.0)\n",
    "                          | (extracted_df['proportion_slashed_due_to_prover'] > 1.0)]\n",
    "    print(bad_df.head())"
   ]
  },
  {
   "cell_type": "code",
   "execution_count": null,
   "id": "f50f16ee",
   "metadata": {},
   "outputs": [],
   "source": [
    "trajectory['slashes'].iloc[-1].get('to_sequencers', 0)\n",
    "m.find_proportion_slashed_due_to_sequencer(trajectory)"
   ]
  },
  {
   "cell_type": "code",
   "execution_count": null,
   "id": "cd5d3b0c",
   "metadata": {},
   "outputs": [],
   "source": [
    "for key in grouped_df.groups.keys():\n",
    "    trajectory = grouped_df.get_group(key)\n",
    "    if m.find_proportion_slashed_due_to_prover(trajectory) > 1.0:\n",
    "        print(key)\n"
   ]
  },
  {
   "cell_type": "code",
   "execution_count": null,
   "id": "9b57ea34",
   "metadata": {},
   "outputs": [],
   "source": [
    "metrics = grouped_df.apply(m.find_proportion_slashed_due_to_prover)\n",
    "any(metrics > 1.0)"
   ]
  },
  {
   "cell_type": "code",
   "execution_count": null,
   "id": "aca39968",
   "metadata": {},
   "outputs": [],
   "source": []
  },
  {
   "cell_type": "code",
   "execution_count": null,
   "id": "d55735a4",
   "metadata": {},
   "outputs": [],
   "source": [
    "my_series = grouped_df.apply(lambda x: True)"
   ]
  },
  {
   "cell_type": "code",
   "execution_count": null,
   "id": "b41dd316",
   "metadata": {},
   "outputs": [],
   "source": [
    "col_names = list(my_series.index.names)"
   ]
  },
  {
   "cell_type": "code",
   "execution_count": null,
   "id": "56145e68",
   "metadata": {},
   "outputs": [],
   "source": [
    "col_names[0]"
   ]
  },
  {
   "cell_type": "code",
   "execution_count": null,
   "id": "cb1db33b",
   "metadata": {},
   "outputs": [],
   "source": [
    "data_values = list(my_series.index.values)"
   ]
  },
  {
   "cell_type": "code",
   "execution_count": null,
   "id": "585b79bc",
   "metadata": {},
   "outputs": [],
   "source": [
    "data_values[0]"
   ]
  },
  {
   "cell_type": "code",
   "execution_count": null,
   "id": "0e426cf4",
   "metadata": {},
   "outputs": [],
   "source": [
    "base_df = pd.DataFrame(columns = col_names, data=data_values) # Define initial dataframe to add to\n"
   ]
  },
  {
   "cell_type": "code",
   "execution_count": null,
   "id": "fb6084f4",
   "metadata": {},
   "outputs": [],
   "source": [
    "base_df.head()"
   ]
  },
  {
   "cell_type": "code",
   "execution_count": null,
   "id": "f2928667",
   "metadata": {},
   "outputs": [],
   "source": [
    "params_to_use =  [\n",
    "    'phase_duration_proposal_min_blocks',\n",
    "    'phase_duration_proposal_max_blocks',\n",
    "    'phase_duration_reveal_min_blocks',\n",
    "    'phase_duration_reveal_max_blocks',\n",
    "    'phase_duration_commit_bond_min_blocks',\n",
    "    'phase_duration_commit_bond_max_blocks',\n",
    "    'phase_duration_rollup_min_blocks',\n",
    "    'phase_duration_rollup_max_blocks',\n",
    "    'phase_duration_race_min_blocks',\n",
    "    'phase_duration_race_max_blocks',\n",
    "    'reward_per_block'\n",
    "]\n",
    "\n",
    "for param in params_to_use:\n",
    "    base_df[param] = grouped_df.apply(lambda x: x[param].iloc[0]).to_list()\n",
    "\n",
    "    \n"
   ]
  },
  {
   "cell_type": "code",
   "execution_count": null,
   "id": "c547c8a5",
   "metadata": {},
   "outputs": [],
   "source": [
    "base_df"
   ]
  },
  {
   "cell_type": "code",
   "execution_count": null,
   "id": "190703a1",
   "metadata": {},
   "outputs": [],
   "source": [
    "trajectory_kpis = KPIs\n",
    "\n",
    "for kpi_name, kpi_func in trajectory_kpis.items():\n",
    "    base_df[kpi_name] = grouped_df.apply(kpi_func).to_list()"
   ]
  },
  {
   "cell_type": "code",
   "execution_count": null,
   "id": "e68a2ad0",
   "metadata": {},
   "outputs": [],
   "source": [
    "base_df"
   ]
  },
  {
   "cell_type": "code",
   "execution_count": null,
   "id": "600ac1c4",
   "metadata": {},
   "outputs": [],
   "source": []
  }
 ],
 "metadata": {
  "kernelspec": {
   "display_name": "Python 3 (ipykernel)",
   "language": "python",
   "name": "python3"
  },
  "language_info": {
   "codemirror_mode": {
    "name": "ipython",
    "version": 3
   },
   "file_extension": ".py",
   "mimetype": "text/x-python",
   "name": "python",
   "nbconvert_exporter": "python",
   "pygments_lexer": "ipython3",
   "version": "3.11.6"
  }
 },
 "nbformat": 4,
 "nbformat_minor": 5
}
