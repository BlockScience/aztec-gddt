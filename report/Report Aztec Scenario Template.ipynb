{
 "cells": [
  {
   "cell_type": "markdown",
   "id": "70dbbaab",
   "metadata": {},
   "source": [
    "# Summary\n",
    "\n",
    "TLDR: This scenario group analyses the effect of L1 congestion on relevant KPIs. \n",
    "\n",
    "The **Congestion** scenario group is a series of simulations designed to help inform the specification of protocol parameters assumed to impact the block production in the Aztec ecosystem. The scenarios cover a variety of different environments for block production by varying the mode (\"fixed\" vs \"dynamical\") and duration of individual phases and gas prices incurred on Ethereum L1. Different combinations of protocol parameter values generate different simulation outcomes, that are summarized by key peformance indicators (KPIs). The KPIs are then assessed according to desired values (success criteria), using _threshold inequalities_ generated from threshold values for KPIs that meet stakeholder criteria.\n",
    "\n",
    "As many relevant protocol parameters are currently undecided (\"block reward\", \"costs\", \"fees\", etc) and because an exhaustive 'sweep' of every possible combination of relevant protocol parameters is computationally infeasible, this study has instead performed an **adaptive search**, whereby a coarse initial grid of parameters is successively refined by applying the success criteria to generated KPIs, and inferring a new 'direction' of search for a succeeding grid. Convergence is achieved when all success criteria are met across the performed simulations. Although it is always possible that multiple \"equilibria\" exist, such that success criteria are met by parameter combinations that are not found from adaptive search, the initial grid is informed by existing parameter values from the Aztec network and hence benefit from the expert knowledge used to define those initial values. \n",
    "\n",
    "Future work can perform a more thorough search of the underlying parameter space, in addition to performing more scenarios and \"fixing\" parameters or assumptions that are currently unknown."
   ]
  },
  {
   "cell_type": "markdown",
   "id": "2d8e53ec-eaa7-438f-aea9-19534bcee47f",
   "metadata": {},
   "source": [
    "# Contents\n",
    "\n",
    "\n",
    "**Experimental Setup**: This covers the objective of the study and its methodology, describes the KPIs and success indicators (threshold inequalities), the protocol and environmental sweep parameters and their initial ranges, and finally summarizes the computational complexity of the simulations themselves.\n",
    "\n",
    "**Adaptive Grid Results**: The evolution of the parameter selection process is presented as a visualization, showing the convergence of the protocol parameter ranges as different success criteria are achieved.\n",
    "\n",
    "**Protocol Parameter Recommendations**: Based upon the adaptive grid results, the recommended parameter ranges are presented.\n",
    "\n",
    "**Decision Tree and Parameter Importance**: Using the adaptive grid results, a machine-learning process is applied to infer the importance of different parameters on the associated KPI-based threshold inequalities. This provides a method of assessing whether one or more parameters are 'crucial' to success, in the sense that they have an outsized impact on the success criteria. This approach leverages decision trees that are fit to the results of the entire adaptive grid process.\n",
    "\n",
    "**Parameter Impact on KPIs**: A density approach (histogram) can be used to assess the impact of protocol parameters on the KPIs of the scenario. The KPI densities are shown for each protocol parameter sweep value, providing a visual indication of the impact of the parameter on the density shape and location.\n",
    "\n",
    "**Conclusion**: An overall assessment of the scenario results is provided, highlighting any problems, caveats, implications and possibilities for future/extended work."
   ]
  },
  {
   "cell_type": "markdown",
   "id": "3104f6c1-7e80-4d33-8688-46168d995972",
   "metadata": {},
   "source": [
    "# Experimental Setup"
   ]
  },
  {
   "cell_type": "markdown",
   "id": "5c099a38-2ac2-4fbf-81b5-e99246ffbc15",
   "metadata": {},
   "source": [
    "## Objective and Methodology\n",
    "\n",
    "The objective of the congestion scenario group is to the impact of phase durations on the viability to produce blocks consistently.\n",
    "\n",
    "- **System Goals Targeted**:\n",
    "  - G1: L1 Congestion Resilience\n",
    "  - G2: Predictable & Fast Block Duration\n",
    "  - G3: Predictable Returns\n",
    "- **Design**: create different L1 state scenarios that impact block production\n",
    "- **Testing Variables**:\n",
    "  - Environmental:\n",
    "      - Steady State (SS): \"regular\" L1 gas prices \n",
    "      - Congestion Shocks:\n",
    "        - Intermittent Shock (IS): SS followed by shock, followed by SS, followed by Shock (shock comes in \"waves\")\n",
    "        - Continuous Shock (CS): SS followed by continuous shock, followed by SS\n",
    "  - Protocol:\n",
    "      - Assess the impact of different `phase duration` values. `Phase duration` is measured in L1 blocks. The phase duration has an upper bound (UB) as well as a lower bound (defined as `Lower Bound per Upper Bound` (LBpUB), so that it is either 0 or 1). The UB value defines the maximum duration of the phase, while the LBpUB value lets us switch whether a phase is \"fixed\" or \"dynamical\". When min and max phase durations are equal (LBpUB = 1), the phase always ends only after the maximum duration passed and is \"fixed\" in time. When the min and max values are inequal (LBpUB = 0), the phase can end earlier if a conditional event happens (e.g.: A valid rollup proof is submitted, ending the `Proving Phase`) and is \"dynamical\" in time. \n",
    "      - Assess the impact of different `Block Reward` (BR) values. This is a direct reward to Sequencers and Provers, affecting their willingness to incur higher costs for gas.\n",
    "      - Assess the impact of different `Commitment Bond` (CB) values. This bond is put up by Provers, leaving them at-risk if they do not perform their role. \n",
    "      - Assess the impact of different `Op_cost` structures. "
   ]
  },
  {
   "cell_type": "markdown",
   "id": "27f60296-8ad7-488f-ab83-f36379b375dc",
   "metadata": {},
   "source": [
    "## KPIs\n",
    "\n",
    "A KPI helps us assess whether simulation trajectories score better or worse on our goals. As trajectories vary in the underlying parameters (such as different phase durations, or block rewards) we can use them to identify parameter combinations that score better on our overall goals. \n",
    "\n",
    "- proportion_race_mode (KPI-1): This measures the proportion of race_mode to total blocks.\n",
    "- proportion_slashed_prover (KPI-2): This measures the proportion of provers that were slashed (commitment bond).\n",
    "- proportion_slashed_sequencer (KPI-3): This measures the proportion of provers that were slashed (stake).\n",
    "- proportion_skipped (KPI-4): This measures the proportion of blocks that were skipped (no proposals, or no finalized proof).\n",
    "- average_duration_finalized_blocks (KPI-5): This measures the average duration of succesfully finalized blocks.\n",
    "- stddev_duration_finalized_blocks (KPI-6): This measures the standard deviation of the duration of succesfully finalized blocks.\n",
    "- average_duration_nonfinalized_blocks (KPI-7): This measures the average duration of unfinalized blocks.\n",
    "- stddev_duration_nonfinalized_blocks (KPI-8): This measures the standard deviation of the duration of succesfully finalized blocks.\n",
    "- delta_total_revenue_agents (KPI-9): This measures the total revenue of agents. "
   ]
  },
  {
   "cell_type": "markdown",
   "id": "480d36fe-155e-4661-bd33-ec39d150a6c5",
   "metadata": {},
   "source": [
    "## Threshold Inequalities\n",
    "\n",
    "To decide whether KPIs are better or worse, we define a directional threshold inequality. We compare single run KPIs against the median of all runs, and decide whether we want to fall under or above it. \n",
    "\n",
    "1. **Below Median across Trajectories (BMaT)**: Across all simulated trajectories, we want this KPI to be below the median value. (Lower is better) \n",
    "2. (**Larger than Median across Trajectories (LMaT**) Across all simulated trajectories, we want this KPI to be above the median value. (Higher is better)"
   ]
  },
  {
   "cell_type": "markdown",
   "id": "55ddf389-0454-4cf7-923e-d878c4ac8adb",
   "metadata": {},
   "source": [
    "## Sweep Parameters\n",
    "\n",
    "As many aspects are currently undecided, we sweep over different combinations of parameter values. Below, a list of the currently set sweep params can be seen. This lets us go over a large number of trajectories quickly, iterate over results, and adapt the simulation. "
   ]
  },
  {
   "cell_type": "markdown",
   "id": "ac8a6864-e4c3-4b23-8b2c-a969c1094268",
   "metadata": {},
   "source": [
    "### Swept Protocol Parameters\n",
    "\n",
    "1. `ProposalPhaseUpperBound` (`PropUB`)\n",
    "2. `CommitPhaseUpperBound` (`CUB`)\n",
    "3. `RevealPhaseUpperBound` (`RUB`)\n",
    "4. `ProvingPhaseUpperBound` (`ProvUB`)\n",
    "5. `RaceModePhaseUpperBound` (`RaceUB`)\n",
    "6. `CommitPhaseLowerBoundPerUpperBound` (`CLBpUB`)\n",
    "7. `RevealPhaseLowerBoundPerUpperBound` (`RLBpUB`)\n",
    "8. `ProvingPhaseLowerBoundPerUpperBound` (`ProvLBpUB`)\n",
    "9. `RaceModePhaseLowerBoundPerUpperBound` (`RaceLBpUB`)\n",
    "10. `BlockRewardConstant` (`BR`)\n",
    "11. `CommitBondSize` (`CB`) "
   ]
  },
  {
   "cell_type": "markdown",
   "id": "84ab94de-e3a7-43ae-a14f-fcc41f18fd24",
   "metadata": {},
   "source": [
    "### L1 Parameters\n",
    "\n",
    "To simulate L1 congestion, we create a stochastic process to define a gas price on each timestep. This gas price serves as an evaluation for Sequencers and Provers on whether they deem it feasible to make an L1 transaction within the allotted time. \n",
    "Similarly, we also create a time series for blob gas prices. \n",
    "\n",
    "Both L1 gas parameters use a median and standard deviation to decide where they fall on each timestep. During shocks, this value is modified. \n",
    "\n",
    "While agents might not make decisions based on profitability, similarly they might be excluded from doing any L1 transactions at all. To simulate this, we use thresholds for both L1 gas and L1 blobgas to decide whether a current timestep is censored. \n"
   ]
  },
  {
   "cell_type": "markdown",
   "id": "62142496-68fb-4338-8e86-919e479e90a0",
   "metadata": {},
   "source": [
    "## Initial Parameter Sweep Ranges\n",
    "\n",
    "Protocol and Environmental parameters were initialized for the first adaptive grid search according to:\n",
    "1. Values found in the specifications provided to BlockScience,\n",
    "2. Values generated through analysing L1 gas prices,\n",
    "3. Discussions with the Aztec team, and\n",
    "4. BlockScience best practice. "
   ]
  },
  {
   "cell_type": "markdown",
   "id": "8dc190c3-a2a1-4b6a-8fc9-027f6038df3f",
   "metadata": {},
   "source": [
    "### Environmental Parameters\n",
    "\n",
    "| Full Name |  Sweep Variable Name | Sweep Values | Units |\n",
    "| --- | --- | ---| ---|\n",
    "| Gas Price Threshold for transactions  | `gas_threshold_for_tx` |(50, 500, 5_000) | gas price |\n",
    "| Blob Gas Price Threshold for DA  | `blob_gas_threshold_for_tx` | (50, 500, 5_000) | blob gas price |\n",
    "| Likelihood of using marketplace (vs self-proving)  | `proving_marketplace_usage_probability` | (0, 0.5) | probability |"
   ]
  },
  {
   "cell_type": "markdown",
   "id": "daa35e13-9adc-47c2-839c-250ef76494b9",
   "metadata": {},
   "source": [
    "### Sweep values for Protocol Parameters\n",
    "\n",
    "| Full Name |  Sweep Variable Name | Sweep Values | Units |\n",
    "| --- | --- | ---| ---|\n",
    "| `ProposalPhaseUpperBound`  | `phase_duration_proposal_max_blocks` | (3, 6, 12) | L1 blocks |\n",
    "| `CommitPhaseUpperBound`       | `phase_duration_commit_bond_max_blocks` | (3, 6, 12) | L1 blocks |\n",
    "| `RevealPhaseUpperBound`   | `phase_duration_reveal_max_blocks` | (3, 12, 24) | L1 blocks |\n",
    "| `ProvingPhaseUpperBound`      | `phase_duration_rollup_max_blocks`  | (15, 40, 80) | L1 blocks |\n",
    "| `RaceModePhaseUpperBound`  | `phase_duration_race_max_blocks`  | (3, 6)  | L1 blocks |\n",
    "| `CommitPhaseLowerBoundPerUpperBound`  | `phase_duration_commit_bond_min_blocks`  | (0, 1)  | LBpUB |\n",
    "| `RevealPhaseLowerBoundPerUpperBound`  | `phase_duration_reveal_min_blocks`  | (0, 1)  | LBpUB |\n",
    "| `ProvingPhaseLowerBoundPerUpperBound`  | `phase_duration_rollup_min_blocks`  | (0, 1)  | LBpUB |\n",
    "| `RaceModePhaseLowerBoundPerUpperBound`  | `phase_duration_race_min_blocks`  | (0, 1)  | LBpUB |\n",
    "| `BlockRewardConstant`  | `reward_per_block`  | ($\\{\\pi_-, \\pi+\\}$)  | GWei |\n",
    "| `CommitBondSize`  | `commit_bond_amount`  | $\\{B_{s,-}, B_{s,+}\\}$  | GWei |\n",
    "| `Reward Share of Provers`  | `rewards_to_provers` | (0.0, 0.1, 0.5) | percentage of rewards |\n",
    "| `Reward Share of Relays`  | `rewards_to_relay` | (0.0, 0.03, 0.1) | percentage of rewards |"
   ]
  },
  {
   "cell_type": "markdown",
   "id": "e72bf30d-49c9-469c-aba3-29bfd1233439",
   "metadata": {},
   "source": [
    "## Computational Complexity\n",
    "\n",
    "**TODO: Update.** \n",
    "\n",
    "**Total number of parameter constellations**: \n",
    "\n",
    "**Total number of Monte Carlo runs per constellation**: \n",
    "\n",
    "**Total number of experiments per adaptive grid**: \n",
    "\n",
    "**Number of adaptive grid searches**: \n",
    "\n",
    "**Total number of parameter constellations evaluated**: "
   ]
  },
  {
   "cell_type": "markdown",
   "id": "b8abd443-f64b-42b8-9ffa-10f8947f34ea",
   "metadata": {},
   "source": [
    "# Results"
   ]
  },
  {
   "cell_type": "code",
   "execution_count": 1,
   "id": "ae5589cd-c769-41ce-83a2-1899bf748373",
   "metadata": {},
   "outputs": [],
   "source": [
    "import os\n",
    "os.chdir(\"..\")\n",
    "\n",
    "import pandas as pd\n",
    "import matplotlib.pyplot as plt\n",
    "import seaborn as sns"
   ]
  },
  {
   "cell_type": "code",
   "execution_count": 2,
   "id": "46604233",
   "metadata": {},
   "outputs": [],
   "source": [
    "from aztec_gddt.metrics import *\n",
    "from aztec_gddt.plot_tools import *     "
   ]
  },
  {
   "cell_type": "code",
   "execution_count": 3,
   "id": "aa75c5a5",
   "metadata": {},
   "outputs": [],
   "source": [
    "FILENAME_TO_USE = \"s3://aztec-gddt/psuu_run_2024-04-12T161455Z/trajectory_tensor.csv.zip\" # Replace with actual filename"
   ]
  },
  {
   "cell_type": "code",
   "execution_count": 4,
   "id": "ef930a2e",
   "metadata": {},
   "outputs": [
    {
     "ename": "ImportError",
     "evalue": "Missing optional dependency 'fsspec'.  Use pip or conda to install fsspec.",
     "output_type": "error",
     "traceback": [
      "\u001b[1;31m---------------------------------------------------------------------------\u001b[0m",
      "\u001b[1;31mModuleNotFoundError\u001b[0m                       Traceback (most recent call last)",
      "File \u001b[1;32m~\\AppData\\Roaming\\Python\\Python311\\site-packages\\pandas\\compat\\_optional.py:141\u001b[0m, in \u001b[0;36mimport_optional_dependency\u001b[1;34m(name, extra, errors, min_version)\u001b[0m\n\u001b[0;32m    140\u001b[0m \u001b[38;5;28;01mtry\u001b[39;00m:\n\u001b[1;32m--> 141\u001b[0m     module \u001b[38;5;241m=\u001b[39m \u001b[43mimportlib\u001b[49m\u001b[38;5;241;43m.\u001b[39;49m\u001b[43mimport_module\u001b[49m\u001b[43m(\u001b[49m\u001b[43mname\u001b[49m\u001b[43m)\u001b[49m\n\u001b[0;32m    142\u001b[0m \u001b[38;5;28;01mexcept\u001b[39;00m \u001b[38;5;167;01mImportError\u001b[39;00m:\n",
      "File \u001b[1;32mc:\\Program Files\\Python311\\Lib\\importlib\\__init__.py:126\u001b[0m, in \u001b[0;36mimport_module\u001b[1;34m(name, package)\u001b[0m\n\u001b[0;32m    125\u001b[0m         level \u001b[38;5;241m+\u001b[39m\u001b[38;5;241m=\u001b[39m \u001b[38;5;241m1\u001b[39m\n\u001b[1;32m--> 126\u001b[0m \u001b[38;5;28;01mreturn\u001b[39;00m \u001b[43m_bootstrap\u001b[49m\u001b[38;5;241;43m.\u001b[39;49m\u001b[43m_gcd_import\u001b[49m\u001b[43m(\u001b[49m\u001b[43mname\u001b[49m\u001b[43m[\u001b[49m\u001b[43mlevel\u001b[49m\u001b[43m:\u001b[49m\u001b[43m]\u001b[49m\u001b[43m,\u001b[49m\u001b[43m \u001b[49m\u001b[43mpackage\u001b[49m\u001b[43m,\u001b[49m\u001b[43m \u001b[49m\u001b[43mlevel\u001b[49m\u001b[43m)\u001b[49m\n",
      "File \u001b[1;32m<frozen importlib._bootstrap>:1206\u001b[0m, in \u001b[0;36m_gcd_import\u001b[1;34m(name, package, level)\u001b[0m\n",
      "File \u001b[1;32m<frozen importlib._bootstrap>:1178\u001b[0m, in \u001b[0;36m_find_and_load\u001b[1;34m(name, import_)\u001b[0m\n",
      "File \u001b[1;32m<frozen importlib._bootstrap>:1142\u001b[0m, in \u001b[0;36m_find_and_load_unlocked\u001b[1;34m(name, import_)\u001b[0m\n",
      "\u001b[1;31mModuleNotFoundError\u001b[0m: No module named 'fsspec'",
      "\nDuring handling of the above exception, another exception occurred:\n",
      "\u001b[1;31mImportError\u001b[0m                               Traceback (most recent call last)",
      "Cell \u001b[1;32mIn[4], line 2\u001b[0m\n\u001b[0;32m      1\u001b[0m \u001b[38;5;66;03m# Cleaning data\u001b[39;00m\n\u001b[1;32m----> 2\u001b[0m base_df \u001b[38;5;241m=\u001b[39m add_additional_info(\u001b[43mpd\u001b[49m\u001b[38;5;241;43m.\u001b[39;49m\u001b[43mread_csv\u001b[49m\u001b[43m(\u001b[49m\u001b[43mFILENAME_TO_USE\u001b[49m\u001b[43m)\u001b[49m)\n",
      "File \u001b[1;32m~\\AppData\\Roaming\\Python\\Python311\\site-packages\\pandas\\util\\_decorators.py:211\u001b[0m, in \u001b[0;36mdeprecate_kwarg.<locals>._deprecate_kwarg.<locals>.wrapper\u001b[1;34m(*args, **kwargs)\u001b[0m\n\u001b[0;32m    209\u001b[0m     \u001b[38;5;28;01melse\u001b[39;00m:\n\u001b[0;32m    210\u001b[0m         kwargs[new_arg_name] \u001b[38;5;241m=\u001b[39m new_arg_value\n\u001b[1;32m--> 211\u001b[0m \u001b[38;5;28;01mreturn\u001b[39;00m \u001b[43mfunc\u001b[49m\u001b[43m(\u001b[49m\u001b[38;5;241;43m*\u001b[39;49m\u001b[43margs\u001b[49m\u001b[43m,\u001b[49m\u001b[43m \u001b[49m\u001b[38;5;241;43m*\u001b[39;49m\u001b[38;5;241;43m*\u001b[39;49m\u001b[43mkwargs\u001b[49m\u001b[43m)\u001b[49m\n",
      "File \u001b[1;32m~\\AppData\\Roaming\\Python\\Python311\\site-packages\\pandas\\util\\_decorators.py:331\u001b[0m, in \u001b[0;36mdeprecate_nonkeyword_arguments.<locals>.decorate.<locals>.wrapper\u001b[1;34m(*args, **kwargs)\u001b[0m\n\u001b[0;32m    325\u001b[0m \u001b[38;5;28;01mif\u001b[39;00m \u001b[38;5;28mlen\u001b[39m(args) \u001b[38;5;241m>\u001b[39m num_allow_args:\n\u001b[0;32m    326\u001b[0m     warnings\u001b[38;5;241m.\u001b[39mwarn(\n\u001b[0;32m    327\u001b[0m         msg\u001b[38;5;241m.\u001b[39mformat(arguments\u001b[38;5;241m=\u001b[39m_format_argument_list(allow_args)),\n\u001b[0;32m    328\u001b[0m         \u001b[38;5;167;01mFutureWarning\u001b[39;00m,\n\u001b[0;32m    329\u001b[0m         stacklevel\u001b[38;5;241m=\u001b[39mfind_stack_level(),\n\u001b[0;32m    330\u001b[0m     )\n\u001b[1;32m--> 331\u001b[0m \u001b[38;5;28;01mreturn\u001b[39;00m \u001b[43mfunc\u001b[49m\u001b[43m(\u001b[49m\u001b[38;5;241;43m*\u001b[39;49m\u001b[43margs\u001b[49m\u001b[43m,\u001b[49m\u001b[43m \u001b[49m\u001b[38;5;241;43m*\u001b[39;49m\u001b[38;5;241;43m*\u001b[39;49m\u001b[43mkwargs\u001b[49m\u001b[43m)\u001b[49m\n",
      "File \u001b[1;32m~\\AppData\\Roaming\\Python\\Python311\\site-packages\\pandas\\io\\parsers\\readers.py:950\u001b[0m, in \u001b[0;36mread_csv\u001b[1;34m(filepath_or_buffer, sep, delimiter, header, names, index_col, usecols, squeeze, prefix, mangle_dupe_cols, dtype, engine, converters, true_values, false_values, skipinitialspace, skiprows, skipfooter, nrows, na_values, keep_default_na, na_filter, verbose, skip_blank_lines, parse_dates, infer_datetime_format, keep_date_col, date_parser, dayfirst, cache_dates, iterator, chunksize, compression, thousands, decimal, lineterminator, quotechar, quoting, doublequote, escapechar, comment, encoding, encoding_errors, dialect, error_bad_lines, warn_bad_lines, on_bad_lines, delim_whitespace, low_memory, memory_map, float_precision, storage_options)\u001b[0m\n\u001b[0;32m    935\u001b[0m kwds_defaults \u001b[38;5;241m=\u001b[39m _refine_defaults_read(\n\u001b[0;32m    936\u001b[0m     dialect,\n\u001b[0;32m    937\u001b[0m     delimiter,\n\u001b[1;32m   (...)\u001b[0m\n\u001b[0;32m    946\u001b[0m     defaults\u001b[38;5;241m=\u001b[39m{\u001b[38;5;124m\"\u001b[39m\u001b[38;5;124mdelimiter\u001b[39m\u001b[38;5;124m\"\u001b[39m: \u001b[38;5;124m\"\u001b[39m\u001b[38;5;124m,\u001b[39m\u001b[38;5;124m\"\u001b[39m},\n\u001b[0;32m    947\u001b[0m )\n\u001b[0;32m    948\u001b[0m kwds\u001b[38;5;241m.\u001b[39mupdate(kwds_defaults)\n\u001b[1;32m--> 950\u001b[0m \u001b[38;5;28;01mreturn\u001b[39;00m \u001b[43m_read\u001b[49m\u001b[43m(\u001b[49m\u001b[43mfilepath_or_buffer\u001b[49m\u001b[43m,\u001b[49m\u001b[43m \u001b[49m\u001b[43mkwds\u001b[49m\u001b[43m)\u001b[49m\n",
      "File \u001b[1;32m~\\AppData\\Roaming\\Python\\Python311\\site-packages\\pandas\\io\\parsers\\readers.py:605\u001b[0m, in \u001b[0;36m_read\u001b[1;34m(filepath_or_buffer, kwds)\u001b[0m\n\u001b[0;32m    602\u001b[0m _validate_names(kwds\u001b[38;5;241m.\u001b[39mget(\u001b[38;5;124m\"\u001b[39m\u001b[38;5;124mnames\u001b[39m\u001b[38;5;124m\"\u001b[39m, \u001b[38;5;28;01mNone\u001b[39;00m))\n\u001b[0;32m    604\u001b[0m \u001b[38;5;66;03m# Create the parser.\u001b[39;00m\n\u001b[1;32m--> 605\u001b[0m parser \u001b[38;5;241m=\u001b[39m \u001b[43mTextFileReader\u001b[49m\u001b[43m(\u001b[49m\u001b[43mfilepath_or_buffer\u001b[49m\u001b[43m,\u001b[49m\u001b[43m \u001b[49m\u001b[38;5;241;43m*\u001b[39;49m\u001b[38;5;241;43m*\u001b[39;49m\u001b[43mkwds\u001b[49m\u001b[43m)\u001b[49m\n\u001b[0;32m    607\u001b[0m \u001b[38;5;28;01mif\u001b[39;00m chunksize \u001b[38;5;129;01mor\u001b[39;00m iterator:\n\u001b[0;32m    608\u001b[0m     \u001b[38;5;28;01mreturn\u001b[39;00m parser\n",
      "File \u001b[1;32m~\\AppData\\Roaming\\Python\\Python311\\site-packages\\pandas\\io\\parsers\\readers.py:1442\u001b[0m, in \u001b[0;36mTextFileReader.__init__\u001b[1;34m(self, f, engine, **kwds)\u001b[0m\n\u001b[0;32m   1439\u001b[0m     \u001b[38;5;28mself\u001b[39m\u001b[38;5;241m.\u001b[39moptions[\u001b[38;5;124m\"\u001b[39m\u001b[38;5;124mhas_index_names\u001b[39m\u001b[38;5;124m\"\u001b[39m] \u001b[38;5;241m=\u001b[39m kwds[\u001b[38;5;124m\"\u001b[39m\u001b[38;5;124mhas_index_names\u001b[39m\u001b[38;5;124m\"\u001b[39m]\n\u001b[0;32m   1441\u001b[0m \u001b[38;5;28mself\u001b[39m\u001b[38;5;241m.\u001b[39mhandles: IOHandles \u001b[38;5;241m|\u001b[39m \u001b[38;5;28;01mNone\u001b[39;00m \u001b[38;5;241m=\u001b[39m \u001b[38;5;28;01mNone\u001b[39;00m\n\u001b[1;32m-> 1442\u001b[0m \u001b[38;5;28mself\u001b[39m\u001b[38;5;241m.\u001b[39m_engine \u001b[38;5;241m=\u001b[39m \u001b[38;5;28;43mself\u001b[39;49m\u001b[38;5;241;43m.\u001b[39;49m\u001b[43m_make_engine\u001b[49m\u001b[43m(\u001b[49m\u001b[43mf\u001b[49m\u001b[43m,\u001b[49m\u001b[43m \u001b[49m\u001b[38;5;28;43mself\u001b[39;49m\u001b[38;5;241;43m.\u001b[39;49m\u001b[43mengine\u001b[49m\u001b[43m)\u001b[49m\n",
      "File \u001b[1;32m~\\AppData\\Roaming\\Python\\Python311\\site-packages\\pandas\\io\\parsers\\readers.py:1735\u001b[0m, in \u001b[0;36mTextFileReader._make_engine\u001b[1;34m(self, f, engine)\u001b[0m\n\u001b[0;32m   1733\u001b[0m     \u001b[38;5;28;01mif\u001b[39;00m \u001b[38;5;124m\"\u001b[39m\u001b[38;5;124mb\u001b[39m\u001b[38;5;124m\"\u001b[39m \u001b[38;5;129;01mnot\u001b[39;00m \u001b[38;5;129;01min\u001b[39;00m mode:\n\u001b[0;32m   1734\u001b[0m         mode \u001b[38;5;241m+\u001b[39m\u001b[38;5;241m=\u001b[39m \u001b[38;5;124m\"\u001b[39m\u001b[38;5;124mb\u001b[39m\u001b[38;5;124m\"\u001b[39m\n\u001b[1;32m-> 1735\u001b[0m \u001b[38;5;28mself\u001b[39m\u001b[38;5;241m.\u001b[39mhandles \u001b[38;5;241m=\u001b[39m \u001b[43mget_handle\u001b[49m\u001b[43m(\u001b[49m\n\u001b[0;32m   1736\u001b[0m \u001b[43m    \u001b[49m\u001b[43mf\u001b[49m\u001b[43m,\u001b[49m\n\u001b[0;32m   1737\u001b[0m \u001b[43m    \u001b[49m\u001b[43mmode\u001b[49m\u001b[43m,\u001b[49m\n\u001b[0;32m   1738\u001b[0m \u001b[43m    \u001b[49m\u001b[43mencoding\u001b[49m\u001b[38;5;241;43m=\u001b[39;49m\u001b[38;5;28;43mself\u001b[39;49m\u001b[38;5;241;43m.\u001b[39;49m\u001b[43moptions\u001b[49m\u001b[38;5;241;43m.\u001b[39;49m\u001b[43mget\u001b[49m\u001b[43m(\u001b[49m\u001b[38;5;124;43m\"\u001b[39;49m\u001b[38;5;124;43mencoding\u001b[39;49m\u001b[38;5;124;43m\"\u001b[39;49m\u001b[43m,\u001b[49m\u001b[43m \u001b[49m\u001b[38;5;28;43;01mNone\u001b[39;49;00m\u001b[43m)\u001b[49m\u001b[43m,\u001b[49m\n\u001b[0;32m   1739\u001b[0m \u001b[43m    \u001b[49m\u001b[43mcompression\u001b[49m\u001b[38;5;241;43m=\u001b[39;49m\u001b[38;5;28;43mself\u001b[39;49m\u001b[38;5;241;43m.\u001b[39;49m\u001b[43moptions\u001b[49m\u001b[38;5;241;43m.\u001b[39;49m\u001b[43mget\u001b[49m\u001b[43m(\u001b[49m\u001b[38;5;124;43m\"\u001b[39;49m\u001b[38;5;124;43mcompression\u001b[39;49m\u001b[38;5;124;43m\"\u001b[39;49m\u001b[43m,\u001b[49m\u001b[43m \u001b[49m\u001b[38;5;28;43;01mNone\u001b[39;49;00m\u001b[43m)\u001b[49m\u001b[43m,\u001b[49m\n\u001b[0;32m   1740\u001b[0m \u001b[43m    \u001b[49m\u001b[43mmemory_map\u001b[49m\u001b[38;5;241;43m=\u001b[39;49m\u001b[38;5;28;43mself\u001b[39;49m\u001b[38;5;241;43m.\u001b[39;49m\u001b[43moptions\u001b[49m\u001b[38;5;241;43m.\u001b[39;49m\u001b[43mget\u001b[49m\u001b[43m(\u001b[49m\u001b[38;5;124;43m\"\u001b[39;49m\u001b[38;5;124;43mmemory_map\u001b[39;49m\u001b[38;5;124;43m\"\u001b[39;49m\u001b[43m,\u001b[49m\u001b[43m \u001b[49m\u001b[38;5;28;43;01mFalse\u001b[39;49;00m\u001b[43m)\u001b[49m\u001b[43m,\u001b[49m\n\u001b[0;32m   1741\u001b[0m \u001b[43m    \u001b[49m\u001b[43mis_text\u001b[49m\u001b[38;5;241;43m=\u001b[39;49m\u001b[43mis_text\u001b[49m\u001b[43m,\u001b[49m\n\u001b[0;32m   1742\u001b[0m \u001b[43m    \u001b[49m\u001b[43merrors\u001b[49m\u001b[38;5;241;43m=\u001b[39;49m\u001b[38;5;28;43mself\u001b[39;49m\u001b[38;5;241;43m.\u001b[39;49m\u001b[43moptions\u001b[49m\u001b[38;5;241;43m.\u001b[39;49m\u001b[43mget\u001b[49m\u001b[43m(\u001b[49m\u001b[38;5;124;43m\"\u001b[39;49m\u001b[38;5;124;43mencoding_errors\u001b[39;49m\u001b[38;5;124;43m\"\u001b[39;49m\u001b[43m,\u001b[49m\u001b[43m \u001b[49m\u001b[38;5;124;43m\"\u001b[39;49m\u001b[38;5;124;43mstrict\u001b[39;49m\u001b[38;5;124;43m\"\u001b[39;49m\u001b[43m)\u001b[49m\u001b[43m,\u001b[49m\n\u001b[0;32m   1743\u001b[0m \u001b[43m    \u001b[49m\u001b[43mstorage_options\u001b[49m\u001b[38;5;241;43m=\u001b[39;49m\u001b[38;5;28;43mself\u001b[39;49m\u001b[38;5;241;43m.\u001b[39;49m\u001b[43moptions\u001b[49m\u001b[38;5;241;43m.\u001b[39;49m\u001b[43mget\u001b[49m\u001b[43m(\u001b[49m\u001b[38;5;124;43m\"\u001b[39;49m\u001b[38;5;124;43mstorage_options\u001b[39;49m\u001b[38;5;124;43m\"\u001b[39;49m\u001b[43m,\u001b[49m\u001b[43m \u001b[49m\u001b[38;5;28;43;01mNone\u001b[39;49;00m\u001b[43m)\u001b[49m\u001b[43m,\u001b[49m\n\u001b[0;32m   1744\u001b[0m \u001b[43m\u001b[49m\u001b[43m)\u001b[49m\n\u001b[0;32m   1745\u001b[0m \u001b[38;5;28;01massert\u001b[39;00m \u001b[38;5;28mself\u001b[39m\u001b[38;5;241m.\u001b[39mhandles \u001b[38;5;129;01mis\u001b[39;00m \u001b[38;5;129;01mnot\u001b[39;00m \u001b[38;5;28;01mNone\u001b[39;00m\n\u001b[0;32m   1746\u001b[0m f \u001b[38;5;241m=\u001b[39m \u001b[38;5;28mself\u001b[39m\u001b[38;5;241m.\u001b[39mhandles\u001b[38;5;241m.\u001b[39mhandle\n",
      "File \u001b[1;32m~\\AppData\\Roaming\\Python\\Python311\\site-packages\\pandas\\io\\common.py:713\u001b[0m, in \u001b[0;36mget_handle\u001b[1;34m(path_or_buf, mode, encoding, compression, memory_map, is_text, errors, storage_options)\u001b[0m\n\u001b[0;32m    710\u001b[0m     codecs\u001b[38;5;241m.\u001b[39mlookup_error(errors)\n\u001b[0;32m    712\u001b[0m \u001b[38;5;66;03m# open URLs\u001b[39;00m\n\u001b[1;32m--> 713\u001b[0m ioargs \u001b[38;5;241m=\u001b[39m \u001b[43m_get_filepath_or_buffer\u001b[49m\u001b[43m(\u001b[49m\n\u001b[0;32m    714\u001b[0m \u001b[43m    \u001b[49m\u001b[43mpath_or_buf\u001b[49m\u001b[43m,\u001b[49m\n\u001b[0;32m    715\u001b[0m \u001b[43m    \u001b[49m\u001b[43mencoding\u001b[49m\u001b[38;5;241;43m=\u001b[39;49m\u001b[43mencoding\u001b[49m\u001b[43m,\u001b[49m\n\u001b[0;32m    716\u001b[0m \u001b[43m    \u001b[49m\u001b[43mcompression\u001b[49m\u001b[38;5;241;43m=\u001b[39;49m\u001b[43mcompression\u001b[49m\u001b[43m,\u001b[49m\n\u001b[0;32m    717\u001b[0m \u001b[43m    \u001b[49m\u001b[43mmode\u001b[49m\u001b[38;5;241;43m=\u001b[39;49m\u001b[43mmode\u001b[49m\u001b[43m,\u001b[49m\n\u001b[0;32m    718\u001b[0m \u001b[43m    \u001b[49m\u001b[43mstorage_options\u001b[49m\u001b[38;5;241;43m=\u001b[39;49m\u001b[43mstorage_options\u001b[49m\u001b[43m,\u001b[49m\n\u001b[0;32m    719\u001b[0m \u001b[43m\u001b[49m\u001b[43m)\u001b[49m\n\u001b[0;32m    721\u001b[0m handle \u001b[38;5;241m=\u001b[39m ioargs\u001b[38;5;241m.\u001b[39mfilepath_or_buffer\n\u001b[0;32m    722\u001b[0m handles: \u001b[38;5;28mlist\u001b[39m[BaseBuffer]\n",
      "File \u001b[1;32m~\\AppData\\Roaming\\Python\\Python311\\site-packages\\pandas\\io\\common.py:388\u001b[0m, in \u001b[0;36m_get_filepath_or_buffer\u001b[1;34m(filepath_or_buffer, encoding, compression, mode, storage_options)\u001b[0m\n\u001b[0;32m    386\u001b[0m \u001b[38;5;28;01mif\u001b[39;00m filepath_or_buffer\u001b[38;5;241m.\u001b[39mstartswith(\u001b[38;5;124m\"\u001b[39m\u001b[38;5;124ms3n://\u001b[39m\u001b[38;5;124m\"\u001b[39m):\n\u001b[0;32m    387\u001b[0m     filepath_or_buffer \u001b[38;5;241m=\u001b[39m filepath_or_buffer\u001b[38;5;241m.\u001b[39mreplace(\u001b[38;5;124m\"\u001b[39m\u001b[38;5;124ms3n://\u001b[39m\u001b[38;5;124m\"\u001b[39m, \u001b[38;5;124m\"\u001b[39m\u001b[38;5;124ms3://\u001b[39m\u001b[38;5;124m\"\u001b[39m)\n\u001b[1;32m--> 388\u001b[0m fsspec \u001b[38;5;241m=\u001b[39m \u001b[43mimport_optional_dependency\u001b[49m\u001b[43m(\u001b[49m\u001b[38;5;124;43m\"\u001b[39;49m\u001b[38;5;124;43mfsspec\u001b[39;49m\u001b[38;5;124;43m\"\u001b[39;49m\u001b[43m)\u001b[49m\n\u001b[0;32m    390\u001b[0m \u001b[38;5;66;03m# If botocore is installed we fallback to reading with anon=True\u001b[39;00m\n\u001b[0;32m    391\u001b[0m \u001b[38;5;66;03m# to allow reads from public buckets\u001b[39;00m\n\u001b[0;32m    392\u001b[0m err_types_to_retry_with_anon: \u001b[38;5;28mlist\u001b[39m[Any] \u001b[38;5;241m=\u001b[39m []\n",
      "File \u001b[1;32m~\\AppData\\Roaming\\Python\\Python311\\site-packages\\pandas\\compat\\_optional.py:144\u001b[0m, in \u001b[0;36mimport_optional_dependency\u001b[1;34m(name, extra, errors, min_version)\u001b[0m\n\u001b[0;32m    142\u001b[0m \u001b[38;5;28;01mexcept\u001b[39;00m \u001b[38;5;167;01mImportError\u001b[39;00m:\n\u001b[0;32m    143\u001b[0m     \u001b[38;5;28;01mif\u001b[39;00m errors \u001b[38;5;241m==\u001b[39m \u001b[38;5;124m\"\u001b[39m\u001b[38;5;124mraise\u001b[39m\u001b[38;5;124m\"\u001b[39m:\n\u001b[1;32m--> 144\u001b[0m         \u001b[38;5;28;01mraise\u001b[39;00m \u001b[38;5;167;01mImportError\u001b[39;00m(msg)\n\u001b[0;32m    145\u001b[0m     \u001b[38;5;28;01melse\u001b[39;00m:\n\u001b[0;32m    146\u001b[0m         \u001b[38;5;28;01mreturn\u001b[39;00m \u001b[38;5;28;01mNone\u001b[39;00m\n",
      "\u001b[1;31mImportError\u001b[0m: Missing optional dependency 'fsspec'.  Use pip or conda to install fsspec."
     ]
    }
   ],
   "source": [
    "# Cleaning data\n",
    "base_df = add_additional_info(pd.read_csv(FILENAME_TO_USE))\n"
   ]
  },
  {
   "cell_type": "markdown",
   "id": "5e1775cf",
   "metadata": {},
   "source": [
    "## General Statistical Overview of Governance Surface Parameters"
   ]
  },
  {
   "cell_type": "code",
   "execution_count": 5,
   "id": "af1dd882",
   "metadata": {},
   "outputs": [
    {
     "ename": "NameError",
     "evalue": "name 'base_df' is not defined",
     "output_type": "error",
     "traceback": [
      "\u001b[1;31m---------------------------------------------------------------------------\u001b[0m",
      "\u001b[1;31mNameError\u001b[0m                                 Traceback (most recent call last)",
      "Cell \u001b[1;32mIn[5], line 1\u001b[0m\n\u001b[1;32m----> 1\u001b[0m \u001b[43mbase_df\u001b[49m\u001b[38;5;241m.\u001b[39mset_index(governance_surface_params)\u001b[38;5;241m.\u001b[39mdescribe()\n",
      "\u001b[1;31mNameError\u001b[0m: name 'base_df' is not defined"
     ]
    }
   ],
   "source": [
    "base_df.set_index(governance_surface_params).describe()"
   ]
  },
  {
   "cell_type": "markdown",
   "id": "a1c9979e-2b7f-4a5d-9c8d-4d858f18f5e6",
   "metadata": {
    "jp-MarkdownHeadingCollapsed": true
   },
   "source": [
    "# Uncertainty surrounding protocol slots\n",
    "\n",
    "Currently, agents make decisions based on imposed functional forms. \n",
    "As an example, agents decide whether to make a transaction based on profitability tests. As we do not know enough about the actual supply cost model, our current best approach is to set a global op_cost parameter to evaluate against. \n",
    "While this approach lets us iterate quickly, it also means that current results are likely to change significantly by introducing more realistic slots. \n",
    "Below is a list of slots to iterate on.\n",
    "\n",
    "| Full Name |  Abbreviation | Current Form | Likely Direction to move in |\n",
    "| --- | --- | ---| ---|\n",
    "| `Operational Cost`| `op_cost` | global constant | per action cost item |\n",
    "| `Block Reward`| `daily_block_reward` | Daily block reward constant which is distributed over maximum duration phases | dynamic block reward |\n",
    "| `Probability to use a Proving marketplace`| `proving_marketplace_usage_probability` | global constant probability | per agent type [0, 1], mean: 0.7 |\n",
    "| `L2 Transaction Fees`| `transaction_average_fee_per_size` | global average fee, using the proposal size to decide fee | realistic tx fee for profitability calculations |"
   ]
  },
  {
   "cell_type": "markdown",
   "id": "08822865-5b9b-4c4b-976d-d4135e628177",
   "metadata": {},
   "source": [
    "# Decision Tree and Parameter Importance"
   ]
  },
  {
   "cell_type": "markdown",
   "id": "0e126c43-c492-4094-b192-60f4cd471e37",
   "metadata": {},
   "source": [
    "## Decision Tree Classification\n",
    "\n",
    "Running parameter sweeps on a large number of trajectories creates a lot of data very fast. To increase speed of iteration we are using a technique called decision tree classification. \n",
    "\n",
    "A decision tree is a machine-learning-based classifier. Given the simulation results, for each threshold inequality the tree recursively associates different _samples_ from the results, according to sorting criteria based upon one or more of the protocol parameters of the simulation.\n",
    "\n",
    "> Note: Treshold Inequalities define whether a KPI is better above, or below the median of all trajectories sampled. \n",
    "\n",
    "Each decision tree below corresponds to one of the threshold inequalities stated above. Where the decision tree is 'empty', the threshold inequality was either 1) always fulfilled during the simulations, or 2) never fulfilled during the simulations. In this case no sensitivity analysis can be performed, as the threshold inequalities do not vary according to the different parameter combinations that were swept.\n",
    "\n",
    "The title of the decision tree includes the threshold inequality under scrutiny, in addition to a technical 'score' (usually \"100%\") and the number of simulation results used as the dataset. Within the decision tree presented, each **non-terminal** 'node' is labeled with the following information:\n",
    "\n",
    "1. The sorting variable used and its cutoff value used for classification, in the form of `parameter_name <= x` where `x` is the cutoff value. Branches to the left of this node indicate _satisfaction_ of this inequality, while branches to the right indicate _violation_, i.e. `parameter_name > x`.\n",
    "2. A Gini coefficient representing the method of recursive association used.\n",
    "3. The total number of simulation results (\"samples = y%\") as a percentage \"y\" that are considered at this node.\n",
    "4. The breakdown of the simulation results considered into left and right branches (\"value = [p, 1-p]\"), where \"p\" is the fraction of results that satisfy the `parameter_name <= x` constraint, and \"1-p\" the fraction satisfying `parameter_name > x`.\n",
    "5. The classification of the majority of the simulation results at this node (note that this is not a final classification, as it appears in a non-terminal node, and can be arbitrary if the results are split equally across classes).\n",
    "\n",
    "**Terminal** nodes (\"leaves\") represent the final classification of that proportion of the simulation results that arrive at the node, and have most of the same information as a non-terminal node, with the exception that there is no branching performed and hence no sorting variable displayed. Here the most important information is the classification (last line).\n",
    "\n",
    "Non-terminal and terminal nodes colored in blue correspond to the threshold inequality being met, and by following blue boxes from a terminal node up to the root of tree a set of `parameter_name <= x` and/or `parameter_name > x` sorting criteria can be chained together. \n",
    "\n",
    "Upon successful classification, it is usual for the terminal node to have a breakdown \"value = [1.0, 0.0]\" or \"value = [0.0, 1.0]\", indicating that 100% of the remaining simulation results treated are either satisfying the threshold inequality under treatment (left value is 1.0), or not satisfying the threshold inequality (right value is 1.0).\n",
    "\n",
    "For further information regarding the decision tree approach adopted here please see the [Decision Trees](https://scikit-learn.org/stable/modules/tree.html#) documentation for the scikit-learn library."
   ]
  },
  {
   "cell_type": "markdown",
   "id": "909128cf-abaa-4508-8182-9b2573e9d2e2",
   "metadata": {},
   "source": [
    "## Feature Importance\n",
    "\n",
    "Below each non-empty decision tree is a bar graph indicating the relative importance of each swept protocol parameter (\"feature\") in determining the satisfaction of the threshold inequality. This leverages the use of \"random forests\", which is a technique to average over many different decision tree realizations over different subsets of the simulation results, assessing the relative contribution of each protocol parameter in the branching of each tree. Roughly speaking, the more times a protocol parameter was used in the branching process, the higher its importance is to the threshold inequality--in other words, the protocol parameter carries a larger 'weight' in determining satisfaction or violation of the inequality, and so the inequality is more sensitive to the values of the parameter.\n",
    "\n",
    "For further information regarding the random forest and feature importance approach adopted here please see the [Random Forest Classifier](https://scikit-learn.org/stable/modules/generated/sklearn.ensemble.RandomForestClassifier.html) documentation from the `scikit-learn` library."
   ]
  },
  {
   "cell_type": "markdown",
   "id": "65cd88cf",
   "metadata": {},
   "source": [
    "## Group 1 Tree Importance Plots"
   ]
  },
  {
   "cell_type": "code",
   "execution_count": null,
   "id": "55b6ba31-98f2-4508-aacb-24ab0b6f48bd",
   "metadata": {},
   "outputs": [],
   "source": [
    "goal_name = \"G1\"\n",
    "group_name = G1\n",
    "\n",
    "final_G1_df = calculate_goal_score(grouped_df = base_df,\n",
    "                    group = group_name,\n",
    "                    new_column_name = f\"{goal_name}_final_score\" )"
   ]
  },
  {
   "cell_type": "code",
   "execution_count": null,
   "id": "cf236108",
   "metadata": {},
   "outputs": [],
   "source": [
    "create_decision_tree_importances_plot(final_G1_df,\n",
    "                                      col_name = \"G1_final_score\",\n",
    "                                      success_criteria='higher_than_median')\n"
   ]
  },
  {
   "cell_type": "code",
   "execution_count": null,
   "id": "129afa2b",
   "metadata": {},
   "outputs": [],
   "source": [
    "create_decision_tree_importances_plot(data = final_G1_df,\n",
    "                                      col_name = \"proportion_race_mode\",\n",
    "                                      success_criteria='lower_than_median')"
   ]
  },
  {
   "cell_type": "code",
   "execution_count": null,
   "id": "8a68594a",
   "metadata": {},
   "outputs": [],
   "source": [
    "create_decision_tree_importances_plot(data = final_G1_df,\n",
    "                                      col_name = \"proportion_slashed_sequencer\",\n",
    "                                      success_criteria='lower_than_median')"
   ]
  },
  {
   "cell_type": "code",
   "execution_count": null,
   "id": "a89589b9",
   "metadata": {},
   "outputs": [],
   "source": [
    "create_decision_tree_importances_plot(data = final_G1_df,\n",
    "                                      col_name = \"proportion_slashed_prover\",\n",
    "                                      success_criteria='lower_than_median')"
   ]
  },
  {
   "cell_type": "code",
   "execution_count": null,
   "id": "90bae890",
   "metadata": {},
   "outputs": [],
   "source": [
    "create_decision_tree_importances_plot(data = final_G1_df,\n",
    "                                      col_name = \"proportion_skipped\",\n",
    "                                      success_criteria='lower_than_median')"
   ]
  },
  {
   "cell_type": "markdown",
   "id": "c402aeaa",
   "metadata": {},
   "source": [
    "## Group 2 Tree Importance Plots"
   ]
  },
  {
   "cell_type": "code",
   "execution_count": null,
   "id": "cc3df8cf",
   "metadata": {},
   "outputs": [],
   "source": [
    "goal_number = \"G2\"\n",
    "group_name = G2\n",
    "\n",
    "final_G2_df = calculate_goal_score(grouped_df = base_df,\n",
    "                    group = group_name,\n",
    "                    new_column_name = f\"{goal_number}_final_score\" )"
   ]
  },
  {
   "cell_type": "code",
   "execution_count": null,
   "id": "fe426d64",
   "metadata": {},
   "outputs": [],
   "source": [
    "create_decision_tree_importances_plot(data = final_G2_df, \n",
    "                                      col_name = \"G2_final_score\",\n",
    "                                      success_criteria='higher_than_median')"
   ]
  },
  {
   "cell_type": "code",
   "execution_count": null,
   "id": "31a60bc5",
   "metadata": {},
   "outputs": [],
   "source": [
    "create_decision_tree_importances_plot(data = final_G2_df,\n",
    "                                      col_name = \"average_duration_finalized_blocks\",\n",
    "                                      success_criteria='lower_than_median')"
   ]
  },
  {
   "cell_type": "code",
   "execution_count": null,
   "id": "ed180861",
   "metadata": {},
   "outputs": [],
   "source": [
    "create_decision_tree_importances_plot(data = final_G2_df,\n",
    "                                      col_name = \"stddev_duration_finalized_blocks\",\n",
    "                                      success_criteria='lower_than_median')"
   ]
  },
  {
   "cell_type": "code",
   "execution_count": null,
   "id": "7fd820cb",
   "metadata": {},
   "outputs": [],
   "source": [
    "create_decision_tree_importances_plot(data = final_G2_df,\n",
    "                                      col_name = \"average_duration_nonfinalized_blocks\",\n",
    "                                      success_criteria='lower_than_median')"
   ]
  },
  {
   "cell_type": "code",
   "execution_count": null,
   "id": "b5097449",
   "metadata": {},
   "outputs": [],
   "source": [
    "create_decision_tree_importances_plot(data = final_G2_df,\n",
    "                                      col_name = \"stddev_duration_nonfinalized_blocks\",\n",
    "                                      success_criteria='lower_than_median')"
   ]
  },
  {
   "cell_type": "markdown",
   "id": "1ab4b1be-571b-47d4-bea9-26dccfa09cf5",
   "metadata": {},
   "source": [
    "# Parameter Impact on KPIs\n",
    "\n",
    "The simulation results provide, for each combination of swept protocol parameter values (\"parameter constellations\"), a series of outcomes distinguished by different random realizations of stochastic (\"Monte Carlo\") distributions. Thus, each of the KPIs can be computed for each simulation result, and a _frequency distribution_ or _density_ of KPI values can be generated for each of the iterations of the adaptive grid approach. These densities can be further broken down by protocol parameter value, and the changes in the densities across different values can be visualized. This provides a method of assessing the sensitivity of the KPIs to the protocol parameters, both at the initial adaptive grid implementation, before optimization is performed, and at the end of the implementation, when the recommended parameter ranges have been achieved.\n",
    "\n",
    "**Per Figure:** \n",
    "Each image below shows estimated Kernel Density Estimator (KDE) plots for different parameter values. A KDE fits a probability distribution curve to an underlying histogram of the data distribution, similar to how a regression line is fitted to points on a scatterplot.\n",
    "\n",
    "The x-axis gives values of the KPI, while the y-axis corresponds to the proportion of simulations giving that KPI value. Generally, there will be two curves, with each curve corresponding to the value of a parameter being swept. Looking at qualitative differences between the two curves gives a visual estimate of parameter impact, useful both for complementing the Decision Tree plot analysis and for suggesting places where further data analysis would be valuable.\n",
    "\n",
    "One general guideline is to look at the number, location, and height of each curve's peaks. If the two curves are essentially identical (sometimes indicated by only one curve being visible as they completely overlap), this is a likely indication that changing the parameter value had no impact on this particular KPI. If the two curves have notable differences, this is an indicator that there are differences in the simulation data produced by the two KPI values. There can be many reasons for these differences, so further analysis into the underlying simulation data would be warranted.\n",
    "\n",
    "**Per Group of Figures:** \n",
    "Each group of figures below corresponds to one of the protocol parameters. Each row in a figure group corresponds to a different KPI, and each column to the initial adaptive grid and final adaptive grid simulation results. Within a figure, the density corresponding to each swept value of the associated protocol parameter is presented (generally, the lower sweep value is displayed in black, while the upper sweep value is in red, although this may not always be the case). \n",
    "\n",
    "By examining the changes in the shape of the KPI densities across sweep values and across the adaptive grid results, a qualitative visual assessment of how sensitive the KPI under scrutiny is to the swept protocol parameter can be made."
   ]
  },
  {
   "cell_type": "markdown",
   "id": "3421759c",
   "metadata": {},
   "source": [
    "## Parameter Impact Plots, Group 1"
   ]
  },
  {
   "cell_type": "markdown",
   "id": "c445383a",
   "metadata": {},
   "source": [
    "### Impact of Parameter Values on `proportion_race_mode` and `proportion_skipped`"
   ]
  },
  {
   "cell_type": "code",
   "execution_count": null,
   "id": "0388d739",
   "metadata": {},
   "outputs": [],
   "source": [
    "create_phase_impact_dist_plots_by_kpi(df_to_use = base_df,\n",
    "                                      phase = \"proposal\",\n",
    "                                      kpi_cols = [\"proportion_race_mode\",\"proportion_skipped\"])\n"
   ]
  },
  {
   "cell_type": "code",
   "execution_count": null,
   "id": "87beb878",
   "metadata": {},
   "outputs": [],
   "source": [
    "create_phase_impact_dist_plots_by_kpi(df_to_use = base_df,\n",
    "                                      phase = \"reveal\",\n",
    "                                      kpi_cols = [\"proportion_race_mode\",\"proportion_skipped\"])"
   ]
  },
  {
   "cell_type": "code",
   "execution_count": null,
   "id": "63b1a52b",
   "metadata": {},
   "outputs": [],
   "source": [
    "create_phase_impact_dist_plots_by_kpi(df_to_use = base_df,\n",
    "                                      phase = \"commit_bond\",\n",
    "                                      kpi_cols = [\"proportion_race_mode\",\"proportion_skipped\"])"
   ]
  },
  {
   "cell_type": "code",
   "execution_count": null,
   "id": "8cfcc3a8",
   "metadata": {},
   "outputs": [],
   "source": [
    "create_phase_impact_dist_plots_by_kpi(df_to_use = base_df,\n",
    "                                      phase = \"rollup\",\n",
    "                                      kpi_cols = [\"proportion_race_mode\",\"proportion_skipped\"])"
   ]
  },
  {
   "cell_type": "code",
   "execution_count": null,
   "id": "3671ed2b",
   "metadata": {},
   "outputs": [],
   "source": [
    "create_phase_impact_dist_plots_by_kpi(df_to_use = base_df,\n",
    "                                      phase = \"race\",\n",
    "                                      kpi_cols = [\"proportion_race_mode\",\"proportion_skipped\"])"
   ]
  },
  {
   "cell_type": "markdown",
   "id": "32f80e15",
   "metadata": {},
   "source": [
    "### Impact of Parameter Values on `proportion_slashed_prover` and `proportion_slashed_sequencer`"
   ]
  },
  {
   "cell_type": "code",
   "execution_count": null,
   "id": "9a2f3d41",
   "metadata": {},
   "outputs": [],
   "source": [
    "create_phase_impact_dist_plots_by_kpi(df_to_use = base_df,\n",
    "                                      phase = \"proposal\",\n",
    "                                      kpi_cols = [\"proportion_slashed_sequencer\",\n",
    "                                                  \"proportion_slashed_prover\"])"
   ]
  },
  {
   "cell_type": "code",
   "execution_count": null,
   "id": "d431065d",
   "metadata": {},
   "outputs": [],
   "source": [
    "create_phase_impact_dist_plots_by_kpi(df_to_use = base_df,\n",
    "                                      phase = \"reveal\",\n",
    "                                      kpi_cols = [\"proportion_slashed_sequencer\",\n",
    "                                                  \"proportion_slashed_prover\"])"
   ]
  },
  {
   "cell_type": "code",
   "execution_count": null,
   "id": "3b01b66f",
   "metadata": {},
   "outputs": [],
   "source": [
    "create_phase_impact_dist_plots_by_kpi(df_to_use = base_df,\n",
    "                                      phase = \"commit_bond\",\n",
    "                                      kpi_cols = [\"proportion_slashed_sequencer\",\n",
    "                                                  \"proportion_slashed_prover\"])"
   ]
  },
  {
   "cell_type": "code",
   "execution_count": null,
   "id": "5a6ed8a6",
   "metadata": {},
   "outputs": [],
   "source": [
    "create_phase_impact_dist_plots_by_kpi(df_to_use = base_df,\n",
    "                                      phase = \"rollup\",\n",
    "                                      kpi_cols = [\"proportion_slashed_sequencer\",\n",
    "                                                  \"proportion_slashed_prover\"])"
   ]
  },
  {
   "cell_type": "code",
   "execution_count": null,
   "id": "bf13ed54",
   "metadata": {},
   "outputs": [],
   "source": [
    "create_phase_impact_dist_plots_by_kpi(df_to_use = base_df,\n",
    "                                      phase = \"race\",\n",
    "                                      kpi_cols = [\"proportion_slashed_sequencer\",\n",
    "                                                  \"proportion_slashed_prover\"])"
   ]
  },
  {
   "cell_type": "markdown",
   "id": "4b117f7d",
   "metadata": {},
   "source": [
    "## Parameter Impact Plots, Group 2"
   ]
  },
  {
   "cell_type": "markdown",
   "id": "03925b3c",
   "metadata": {},
   "source": [
    "### Impact of Parameter Values on `average_duration_finalized_blocks` and `stddev_duration_finalized_blocks`"
   ]
  },
  {
   "cell_type": "code",
   "execution_count": null,
   "id": "e5bb21c1",
   "metadata": {},
   "outputs": [],
   "source": [
    "create_phase_impact_dist_plots_by_kpi(df_to_use = base_df,\n",
    "                                      phase = \"proposal\",\n",
    "                                      kpi_cols = [\"average_duration_finalized_blocks\",\n",
    "                                                  \"stddev_duration_finalized_blocks\"])"
   ]
  },
  {
   "cell_type": "code",
   "execution_count": null,
   "id": "4450a84e",
   "metadata": {},
   "outputs": [],
   "source": [
    "create_phase_impact_dist_plots_by_kpi(df_to_use = base_df,\n",
    "                                      phase = \"reveal\",\n",
    "                                      kpi_cols = [\"average_duration_finalized_blocks\",\n",
    "                                                  \"stddev_duration_finalized_blocks\"])"
   ]
  },
  {
   "cell_type": "code",
   "execution_count": null,
   "id": "15ba6d34",
   "metadata": {},
   "outputs": [],
   "source": [
    "create_phase_impact_dist_plots_by_kpi(df_to_use = base_df,\n",
    "                                      phase = \"commit_bond\",\n",
    "                                      kpi_cols = [\"average_duration_finalized_blocks\",\n",
    "                                                  \"stddev_duration_finalized_blocks\"])"
   ]
  },
  {
   "cell_type": "code",
   "execution_count": null,
   "id": "050c35f1",
   "metadata": {},
   "outputs": [],
   "source": [
    "create_phase_impact_dist_plots_by_kpi(df_to_use = base_df,\n",
    "                                      phase = \"rollup\",\n",
    "                                      kpi_cols = [\"average_duration_finalized_blocks\",\n",
    "                                                  \"stddev_duration_finalized_blocks\"])"
   ]
  },
  {
   "cell_type": "code",
   "execution_count": null,
   "id": "2eff0034",
   "metadata": {},
   "outputs": [],
   "source": [
    "create_phase_impact_dist_plots_by_kpi(df_to_use = base_df,\n",
    "                                      phase = \"race\",\n",
    "                                      kpi_cols = [\"average_duration_finalized_blocks\",\n",
    "                                                  \"stddev_duration_finalized_blocks\"])"
   ]
  },
  {
   "cell_type": "markdown",
   "id": "b396e52b",
   "metadata": {},
   "source": [
    "### Impact of Parameter Values on `average_duration_nonfinalized_blocks` and `stddev_duration_nonfinalized_blocks`"
   ]
  },
  {
   "cell_type": "code",
   "execution_count": null,
   "id": "da362cdf",
   "metadata": {},
   "outputs": [],
   "source": [
    "create_phase_impact_dist_plots_by_kpi(df_to_use = base_df,\n",
    "                                      phase = \"proposal\",\n",
    "                                      kpi_cols = [\"average_duration_nonfinalized_blocks\",\n",
    "                                                  \"stddev_duration_nonfinalized_blocks\"])"
   ]
  },
  {
   "cell_type": "code",
   "execution_count": null,
   "id": "6bcc2af2",
   "metadata": {},
   "outputs": [],
   "source": [
    "create_phase_impact_dist_plots_by_kpi(df_to_use = base_df,\n",
    "                                      phase = \"reveal\",\n",
    "                                      kpi_cols = [\"average_duration_nonfinalized_blocks\",\n",
    "                                                  \"stddev_duration_nonfinalized_blocks\"])"
   ]
  },
  {
   "cell_type": "code",
   "execution_count": null,
   "id": "06637b37",
   "metadata": {},
   "outputs": [],
   "source": [
    "create_phase_impact_dist_plots_by_kpi(df_to_use = base_df,\n",
    "                                      phase = \"commit_bond\",\n",
    "                                      kpi_cols = [\"average_duration_nonfinalized_blocks\",\n",
    "                                                  \"stddev_duration_nonfinalized_blocks\"])"
   ]
  },
  {
   "cell_type": "code",
   "execution_count": null,
   "id": "ff230537",
   "metadata": {},
   "outputs": [],
   "source": [
    "create_phase_impact_dist_plots_by_kpi(df_to_use = base_df,\n",
    "                                      phase = \"rollup\",\n",
    "                                      kpi_cols = [\"average_duration_nonfinalized_blocks\",\n",
    "                                                  \"stddev_duration_nonfinalized_blocks\"])"
   ]
  },
  {
   "cell_type": "code",
   "execution_count": null,
   "id": "8d09f025",
   "metadata": {},
   "outputs": [],
   "source": [
    "create_phase_impact_dist_plots_by_kpi(df_to_use = base_df,\n",
    "                                      phase = \"race\",\n",
    "                                      kpi_cols = [\"average_duration_nonfinalized_blocks\",\n",
    "                                                  \"stddev_duration_nonfinalized_blocks\"])"
   ]
  },
  {
   "cell_type": "code",
   "execution_count": null,
   "id": "204dfc70",
   "metadata": {},
   "outputs": [],
   "source": [
    "base_df.set_index(governance_surface_params).describe()"
   ]
  },
  {
   "cell_type": "code",
   "execution_count": null,
   "id": "36a77536",
   "metadata": {},
   "outputs": [],
   "source": []
  }
 ],
 "metadata": {
  "kernelspec": {
   "display_name": "Python 3 (ipykernel)",
   "language": "python",
   "name": "python3"
  },
  "language_info": {
   "codemirror_mode": {
    "name": "ipython",
    "version": 3
   },
   "file_extension": ".py",
   "mimetype": "text/x-python",
   "name": "python",
   "nbconvert_exporter": "python",
   "pygments_lexer": "ipython3",
   "version": "3.11.1"
  }
 },
 "nbformat": 4,
 "nbformat_minor": 5
}
