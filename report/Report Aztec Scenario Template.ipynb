{
 "cells": [
  {
   "cell_type": "markdown",
   "id": "70dbbaab",
   "metadata": {},
   "source": [
    "# Summary\n",
    "\n",
    "**TODO: Summarize. POKT Summary is below.**\n",
    "\n",
    "The **Gateway Viability** scenario group is a series of simulations designed to help inform the specification of protocol parameters assumed to impact the gateway role in the ecosystem. The scenarios cover a variety of different demand environments for network services by varying both the number of applications and the number of relay requests. Different combinations of protocol parameter values generate different simulation outcomes, that are summarized by key peformance indicators (KPIs). The KPIs are then assessed according to desired values (success criteria), using _threshold inequalities_ generated from threshold values for KPIs that meet stakeholder criteria.\n",
    "\n",
    "Because an exhaustive 'sweep' of every possible combination of relevant protocol parameters is computationally infeasible, this study has instead performed an **adaptive search**, whereby a coarse initial grid of parameters is successively refined by applying the success criteria to generated KPIs, and inferring a new 'direction' of search for a succeeding grid. Convergence is achieved when all success criteria are met across the performed simulations. Although it is always possible that multiple \"equilibria\" exist, such that success criteria are met by parameter combinations that are not found from adaptive search, the initial grid is informed by existing parameter values from the Pocket network and hence benefit from the expert knowledge used to define those initial values. \n",
    "\n",
    "Future work can perform a more thorough search of the underlying parameter space, in addition to performing more demand scenarios and realizations from the exogenous distributions that represent external factors."
   ]
  },
  {
   "cell_type": "markdown",
   "id": "2d8e53ec-eaa7-438f-aea9-19534bcee47f",
   "metadata": {},
   "source": [
    "# Contents\n",
    "\n",
    "**TODO: Summarize. POKT Contents are below.**\n",
    "\n",
    "\n",
    "**Experimental Setup**: This covers the objective of the study and its methodology, describes the KPIs and success indicators (threshold inequalities), the protocol and environmental sweep parameters and their initial ranges, and finally summarizes the computational complexity of the simulations themselves.\n",
    "\n",
    "**Adaptive Grid Results**: The evolution of the parameter selection process is presented as a visualization, showing the convergence of the protocol parameter ranges as different success criteria are achieved.\n",
    "\n",
    "**Protocol Parameter Recommendations**: Based upon the adaptive grid results, the recommended parameter ranges are presented.\n",
    "\n",
    "**Decision Tree and Parameter Importance**: Using the adaptive grid results, a machine-learning process is applied to infer the importance of different parameters on the associated KPI-based threshold inequalities. This provides a method of assessing whether one or more parameters are 'crucial' to success, in the sense that they have an outsized impact on the success criteria. This approach leverages decision trees that are fit to the results of the entire adaptive grid process.\n",
    "\n",
    "**Parameter Impact on KPIs**: A density approach (histogram) can be used to assess the impact of protocol parameters on the KPIs of the scenario. The KPI densities are shown for each protocol parameter sweep value, providing a visual indication of the impact of the parameter on the density shape and location.\n",
    "\n",
    "**Conclusion**: An overall assessment of the scenario results is provided, highlighting any problems, caveats, implications and possibilities for future/extended work."
   ]
  },
  {
   "cell_type": "markdown",
   "id": "3104f6c1-7e80-4d33-8688-46168d995972",
   "metadata": {},
   "source": [
    "# Experimental Setup\n",
    "\n",
    "**TODO: Experimental Setup. POKT Setup is below.** "
   ]
  },
  {
   "cell_type": "markdown",
   "id": "5c099a38-2ac2-4fbf-81b5-e99246ffbc15",
   "metadata": {},
   "source": [
    "## Objective and Methodology\n",
    "\n",
    "The objective of the gateway viability scenario group is to understand the economic incentives to become and to remain a gateway, while ensuring that the ecosystem as a whole remains viable.\n",
    "\n",
    "- **System Goals Targeted**:\n",
    "  - Economic Viability\n",
    "  - Accessibility\n",
    "- **Design**: create different demand-side circumstances (e.g. application growth, relay per application growth) that impact gateway profitability\n",
    "- **Testing Variables**:\n",
    "  - Environmental:\n",
    "      - Introduce different application arrival rates, by changing the maximum number of applications that can exist in the simulation. This is a proxy for different demand scenarios for the network's services based upon the entities that require services. Alternatively, it may be thought of as introducing different capacity constraints of the network to handle application traffic.\n",
    "      - Introduce different relay traffic rates per session, by changing the expected value of relay traffic. This is a proxy for different demand scenarios for the network's services per application--a low value means applications participating in the network are 'light' in relay requests, while a high value implies that applications are requesting many relays per session and are thus 'heavy' in resource demand.\n",
    "  - Protocol:\n",
    "      - Assess the impact of different `TokenToRelaysMultiplier` (TTRM) values. The TTRM is the rate limiter used to convert a gateway's stake into bandwidth for handling relay traffic. A high TTRM relaxes this rate limiter, while a small TTRM restricts bandwidth and (in this simulation) reduces gateway profitability as relays served falls.\n",
    "      - Assess the impact of different `GatewayFeePerRelay` (GFPR) values. This is a direct cost assessed to gateways from having their relays served.\n",
    "      - Assess the impact of different `ApplicationFeePerRelay` (AFPR) values. A higher 'wedge' between GFPR and AFPR incentivizes (on the margine) one type of participant over the other.\n",
    "      - Assess the impact of different `GatewayMinimumStake` (GMS) values. This is a running cost that must be fulfilled in order to participate as a gateway, and has an associated opportunity cost (value of using staked funds for an alternative use, proxied here by its investment in a risk-free instrument paying a 5% annual rate of return).\n",
    "      - Assess the impact of different `ApplicationMinimumStake` (AMS) values. To prevent barriers to entry it is generally accepted that AMS < GMS, as applications are expected to operate on a smaller scale. But AMS values impact gateway profitability as well, having an impact on general relay traffic and rate-limiting via the TTRM."
   ]
  },
  {
   "cell_type": "markdown",
   "id": "27f60296-8ad7-488f-ab83-f36379b375dc",
   "metadata": {},
   "source": [
    "## KPIs\n",
    "\n",
    "**TODO: Explain KPIs. POKT KPIs are below.**\n",
    "\n",
    "- Servicer NPV (KPI-1): This measures whether or not servicers are profitable.\n",
    "- Gateway NPV (KPI-3): The main KPI for this scenario group. This measures whether or not gateways are profitable.\n",
    "- Servicer Capital Costs per Unit of Reward (KPI-14): This is an ancillary KPI to KPI-1 and KPI-3, and measures the trade-off that exists between the opportunity cost of being a servicer and the expected reward. Intuitively, the ecosystem should not 1) make it more attractive for servicers to exit the ecosystem (even if profitable), or 2) reduce security by rewarding participation to the extent that the stake does not become a deterrent to undesirable behavior."
   ]
  },
  {
   "cell_type": "markdown",
   "id": "480d36fe-155e-4661-bd33-ec39d150a6c5",
   "metadata": {},
   "source": [
    "## Threshold Inequalities\n",
    "\n",
    "**TODO: Delete or replace. Explain above median methodology.**\n",
    "\n",
    "1. (**Servicer Capital Costs**) The average servicer cost per unit of reward must lie between $0.1$ and $0.9$. This inequality restriction is referenced in the code as `servicer_capital_costs_success`.\n",
    "2. (**Servicer NPV**) The fraction of the Monte Carlo simulations for which Servicer NPV is greater than $750$ POKT must be at least $90$%. This inequality restriction is referenced in the code as `servicer_npv_success`.\n",
    "3. (**Gateway NPV**) The fraction of the Monte Carlo simulations for which Gateway NPV is greater than $7500$ POKT must be at least $90$%. This inequality is referenced in the code as `gateway_npv_success`."
   ]
  },
  {
   "cell_type": "markdown",
   "id": "55ddf389-0454-4cf7-923e-d878c4ac8adb",
   "metadata": {},
   "source": [
    "## Sweep Parameters\n",
    "\n",
    "**TODO: Revise. This can be copy-pasted from Markdown document. POKT information is below.**"
   ]
  },
  {
   "cell_type": "markdown",
   "id": "ac8a6864-e4c3-4b23-8b2c-a969c1094268",
   "metadata": {},
   "source": [
    "### Swept Protocol Parameters\n",
    "\n",
    "1. `TokenToRelaysMultiplier` (`TTRM`)\n",
    "2. `GatewayFeePerRelay` (`GFPR`)\n",
    "3. `ApplicationFeePerRelay` (`AFPR`)\n",
    "4. `GatewayMinimumStake` (`GMS`)\n",
    "5. `ApplicationMinimumStake` (`AMS`)"
   ]
  },
  {
   "cell_type": "markdown",
   "id": "84ab94de-e3a7-43ae-a14f-fcc41f18fd24",
   "metadata": {},
   "source": [
    "### Swept Environmental Parameters\n",
    "\n",
    "1. Maximum number of applications in the simulation, `application_max_number`. Sweeping this parameter changes the arrival rate of applications by adjusting the time before the network is 'saturated'.\n",
    "2. Average arrival rate of the relay request process, `relays_per_session_gamma_distribution_scale`. Coupled with the parameter `relays_per_session_gamma_distribution_shape`, this sets the expected value of the number of relays in a session, which is modeled using a [Gamma distribution](https://en.wikipedia.org/wiki/Gamma_distribution) having these scale and shape parameter values."
   ]
  },
  {
   "cell_type": "markdown",
   "id": "62142496-68fb-4338-8e86-919e479e90a0",
   "metadata": {},
   "source": [
    "## Initial Parameter Sweep Ranges\n",
    "\n",
    "**TODO: Revise. POKT information is below.**\n",
    "\n",
    "Protocol and Environmental parameters were initialized for the first adaptive grid search according to:\n",
    "1. Values found in the specifications provided to BlockScience ([V1 Mechanism spreadsheet](https://docs.google.com/spreadsheets/d/1Gpnw3ZXNh9lWFgmrbrg8wTqVKPD2M8QqJdAiAALru38/edit?usp=sharing), [V1 Minting spreadsheet](https://docs.google.com/spreadsheets/d/1QYe6NzuiyimsXs5cT1BSM-UT1DtX_K38cOZsEFJOtdA/edit?usp=sharing)),\n",
    "2. Discussions with the Pocket team, and\n",
    "3. BlockScience best practice. "
   ]
  },
  {
   "cell_type": "markdown",
   "id": "8dc190c3-a2a1-4b6a-8fc9-027f6038df3f",
   "metadata": {},
   "source": [
    "### Environmental Parameters\n",
    "\n",
    "| Full Name |  Sweep Variable Name | Sweep Values | Units |\n",
    "| --- | --- | ---| ---|\n",
    "| Maximum Number of Applications  | `application_max_number` |(5, 20, 100) | number |\n",
    "| Relays Per Session Gamma Distribution Scale  | `relays_per_session_gamma_distribution_scale` | (1e5, 3e5, 9e5) | relays/day |"
   ]
  },
  {
   "cell_type": "markdown",
   "id": "daa35e13-9adc-47c2-839c-250ef76494b9",
   "metadata": {},
   "source": [
    "### Protocol Parameters\n",
    "\n",
    "| Full Name |  Sweep Variable Name | Sweep Values | Units |\n",
    "| --- | --- | ---| ---|\n",
    "| `TokenToRelaysMultiplier`  | `session_token_bucket_token_coefficient` | (25, 400) | relay/uPOKT |\n",
    "| `GatewayFeePerRelay`       | `gateway_fee_per_relay` | (10, 100) | uPOKT/relay |\n",
    "| `ApplicationFeePerRelay`   | `application_fee_per_relay` | (10, 100) | uPOKT/relay |\n",
    "| `GatewayMinimumStake`      | `gateway_minimum_stake`  | (1e5, 2e5) | POKT |\n",
    "| `ApplicationMinimumStake`  | `minimum_application_stake`  | (1e4, 2e4)  | POKT |"
   ]
  },
  {
   "cell_type": "markdown",
   "id": "e72bf30d-49c9-469c-aba3-29bfd1233439",
   "metadata": {},
   "source": [
    "## Computational Complexity\n",
    "\n",
    "**TODO: Update. POKT information is below.** \n",
    "\n",
    "**Total number of parameter constellations**: 288\n",
    "\n",
    "**Total number of Monte Carlo runs per constellation**: 5\n",
    "\n",
    "**Total number of experiments per adaptive grid**: 1,440\n",
    "\n",
    "**Number of adaptive grid searches**: 6\n",
    "\n",
    "**Total number of parameter constellations evaluated**: 8,640"
   ]
  },
  {
   "cell_type": "markdown",
   "id": "b8abd443-f64b-42b8-9ffa-10f8947f34ea",
   "metadata": {},
   "source": [
    "# Results"
   ]
  },
  {
   "cell_type": "code",
   "execution_count": 1,
   "id": "ae5589cd-c769-41ce-83a2-1899bf748373",
   "metadata": {},
   "outputs": [],
   "source": [
    "import os\n",
    "os.chdir(\"..\")\n",
    "\n",
    "import pandas as pd\n",
    "import seaborn as sns\n",
    "\n",
    "import matplotlib.pyplot as plt\n",
    "import seaborn as sns\n"
   ]
  },
  {
   "cell_type": "code",
   "execution_count": 18,
   "id": "46604233",
   "metadata": {},
   "outputs": [
    {
     "data": {
      "text/plain": [
       "Index(['time_l1', 'delta_l1_blocks', 'advance_l1_blocks', 'agents',\n",
       "       'current_process', 'transactions', 'gas_fee_l1', 'gas_fee_blob',\n",
       "       'finalized_blocks_count', 'cumm_block_rewards', 'cumm_fee_cashback',\n",
       "       'cumm_burn', 'token_supply', 'simulation', 'subset', 'run', 'timestep',\n",
       "       'delta_blocks', 'timestep_in_blocks', 'uncle_count', 'reward_per_block',\n",
       "       'fee_subsidy_fraction', 'phase_duration_proposal_min_blocks',\n",
       "       'phase_duration_proposal_max_blocks',\n",
       "       'phase_duration_reveal_min_blocks', 'phase_duration_reveal_max_blocks',\n",
       "       'phase_duration_commit_bond_min_blocks',\n",
       "       'phase_duration_commit_bond_max_blocks',\n",
       "       'phase_duration_rollup_min_blocks', 'phase_duration_rollup_max_blocks',\n",
       "       'phase_duration_race_min_blocks', 'phase_duration_race_max_blocks',\n",
       "       'stake_activation_period', 'unstake_cooldown_period',\n",
       "       'proposal_probability_per_user_per_block',\n",
       "       'block_content_reveal_probability', 'tx_proof_reveal_probability',\n",
       "       'rollup_proof_reveal_probability', 'commit_bond_reveal_probability',\n",
       "       'gas_threshold_for_tx', 'blob_gas_threshold_for_tx',\n",
       "       'proving_marketplace_usage_probability', 'rewards_to_provers',\n",
       "       'rewards_to_relay', 'gwei_to_tokens', 'slash_params',\n",
       "       'commit_bond_amount', 'op_costs'],\n",
       "      dtype='object')"
      ]
     },
     "execution_count": 18,
     "metadata": {},
     "output_type": "execute_result"
    }
   ],
   "source": [
    "from aztec_gddt.metrics import *\n",
    "from aztec_gddt.plot_tools import *     "
   ]
  },
  {
   "cell_type": "markdown",
   "id": "a1c9979e-2b7f-4a5d-9c8d-4d858f18f5e6",
   "metadata": {
    "jp-MarkdownHeadingCollapsed": true
   },
   "source": [
    "# Protocol Parameter Recommendations\n",
    "\n",
    "**TODO:** I don't think we are making parameter recommendations here? \n",
    "\n",
    "| Full Name |  Abbreviation | Recommended Range | Units |\n",
    "| --- | --- | ---| ---|\n",
    "| `TokenToRelaysMultiplier`| `session_token_bucket_token_coefficient` | (71.875, 83.59735) | relay/uPOKT |\n",
    "| `GatewayFeePerRelay` | `gateway_fee_per_relay` |  (10, 12.8125) | uPOKT/relay |\n",
    "| `ApplicationFeePerRelay` | `application_fee_per_relay` | (26.875, 29.6875) | uPOKT/relay |\n",
    "| `GatewayMinimumStake`  | `gateway_minimum_stake`  | (1.22e5, 1.25e5) | POKT |\n",
    "| `ApplicationMinimumStake`  | `minimum_application_stake` | (1.35e4, 1.38e4)  | POKT |"
   ]
  },
  {
   "cell_type": "markdown",
   "id": "08822865-5b9b-4c4b-976d-d4135e628177",
   "metadata": {},
   "source": [
    "# Decision Tree and Parameter Importance"
   ]
  },
  {
   "cell_type": "markdown",
   "id": "0e126c43-c492-4094-b192-60f4cd471e37",
   "metadata": {},
   "source": [
    "## Decision Tree Classification\n",
    "\n",
    "**NOTE:** This part stays the same, though we might revise the prose if desired. \n",
    "\n",
    "A decision tree is a machine-learning-based classifier. Given the simulation results, for each threshold inequality the tree recursively associates different _samples_ from the results, according to sorting criteria based upon one or more of the protocol parameters of the simulation. \n",
    "\n",
    "Each decision tree below corresponds to one of the threshold inequalities stated above. Where the decision tree is 'empty', the threshold inequality was either 1) always fulfilled during the simulations, or 2) never fulfilled during the simulations. In this case no sensitivity analysis can be performed, as the threshold inequalities do not vary according to the different parameter combinations that were swept.\n",
    "\n",
    "The title of the decision tree includes the threshold inequality under scrutiny, in addition to a technical 'score' (usually \"100%\") and the number of simulation results used as the dataset. Within the decision tree presented, each **non-terminal** 'node' is labeled with the following information:\n",
    "\n",
    "1. The sorting variable used and its cutoff value used for classification, in the form of `parameter_name <= x` where `x` is the cutoff value. Branches to the left of this node indicate _satisfaction_ of this inequality, while branches to the right indicate _violation_, i.e. `parameter_name > x`.\n",
    "2. A Gini coefficient representing the method of recursive association used.\n",
    "3. The total number of simulation results (\"samples = y%\") as a percentage \"y\" that are considered at this node.\n",
    "4. The breakdown of the simulation results considered into left and right branches (\"value = [p, 1-p]\"), where \"p\" is the fraction of results that satisfy the `parameter_name <= x` constraint, and \"1-p\" the fraction satisfying `parameter_name > x`.\n",
    "5. The classification of the majority of the simulation results at this node (note that this is not a final classification, as it appears in a non-terminal node, and can be arbitrary if the results are split equally across classes).\n",
    "\n",
    "**Terminal** nodes (\"leaves\") represent the final classification of that proportion of the simulation results that arrive at the node, and have most of the same information as a non-terminal node, with the exception that there is no branching performed and hence no sorting variable displayed. Here the most important information is the classification (last line).\n",
    "\n",
    "Non-terminal and terminal nodes colored in blue correspond to the threshold inequality being met, and by following blue boxes from a terminal node up to the root of tree a set of `parameter_name <= x` and/or `parameter_name > x` sorting criteria can be chained together. \n",
    "\n",
    "Upon successful classification, it is usual for the terminal node to have a breakdown \"value = [1.0, 0.0]\" or \"value = [0.0, 1.0]\", indicating that 100% of the remaining simulation results treated are either satisfying the threshold inequality under treatment (left value is 1.0), or not satisfying the threshold inequality (right value is 1.0).\n",
    "\n",
    "For further information regarding the decision tree approach adopted here please see the [Decision Trees](https://scikit-learn.org/stable/modules/tree.html#) documentation for the scikit-learn library."
   ]
  },
  {
   "cell_type": "markdown",
   "id": "909128cf-abaa-4508-8182-9b2573e9d2e2",
   "metadata": {},
   "source": [
    "## Feature Importance\n",
    "\n",
    "Below each non-empty decision tree is a bar graph indicating the relative importance of each swept protocol parameter (\"feature\") in determining the satisfaction of the threshold inequality. This leverages the use of \"random forests\", which is a technique to average over many different decision tree realizations over different subsets of the simulation results, assessing the relative contribution of each protocol parameter in the branching of each tree. Roughly speaking, the more times a protocol parameter was used in the branching process, the higher its importance is to the threshold inequality--in other words, the protocol parameter carries a larger 'weight' in determining satisfaction or violation of the inequality, and so the inequality is more sensitive to the values of the parameter.\n",
    "\n",
    "For further information regarding the random forest and feature importance approach adopted here please see the [Random Forest Classifier](https://scikit-learn.org/stable/modules/generated/sklearn.ensemble.RandomForestClassifier.html) documentation from the `scikit-learn` library."
   ]
  },
  {
   "cell_type": "code",
   "execution_count": 3,
   "id": "55b6ba31-98f2-4508-aacb-24ab0b6f48bd",
   "metadata": {},
   "outputs": [],
   "source": [
    "# NOTE: This code remains to be tested, \n",
    "# but it should demonstrate the PSUU Decision Tree variable importance images. \n",
    "\n",
    "g1_trajectory_kpis = {\"proportion_race_mode\" : find_proportion_race_mode,\n",
    "                      \"proportion_slashed_sequencer\" : find_proportion_slashed_due_to_sequencer,\n",
    "                      \"proportion_slashed_prover\" : find_proportion_slashed_due_to_prover,\n",
    "                      \"proportion_skipped\" : find_proportion_skipped\n",
    "                     }\n",
    "\n",
    "process_df = processed_df(df)\n",
    "base_df = extract_df(df_to_use = processed_df,\n",
    "                    trajectory_kpis = g1_trajectory_kpis,\n",
    "                    cols_to_drop = [\"run\", \"simulation\", \"subset\"])\n",
    "\n",
    "for col in [\"run\", \"simulation\", \"subset\"]:\n",
    "    if col in base_df.columns:\n",
    "        base_df.drop(columns = [col], inplace = True)\n"
   ]
  },
  {
   "cell_type": "code",
   "execution_count": null,
   "id": "129afa2b",
   "metadata": {},
   "outputs": [],
   "source": [
    "create_decision_tree_importances_plot(df_to_use = base_df,\n",
    "                                      kpi = \"proportion_race_mode\")"
   ]
  },
  {
   "cell_type": "code",
   "execution_count": null,
   "id": "8a68594a",
   "metadata": {},
   "outputs": [],
   "source": [
    "create_decision_tree_importances_plot(df_to_use = base_df,\n",
    "                                      kpi = \"proportion_slashed_sequencer\")"
   ]
  },
  {
   "cell_type": "code",
   "execution_count": null,
   "id": "a89589b9",
   "metadata": {},
   "outputs": [],
   "source": [
    "create_decision_tree_importances_plot(df_to_use = base_df,\n",
    "                                      kpi = \"proportion_slashed_prover\")"
   ]
  },
  {
   "cell_type": "code",
   "execution_count": null,
   "id": "90bae890",
   "metadata": {},
   "outputs": [],
   "source": [
    "create_decision_tree_importances_plot(df_to_use = base_df,\n",
    "                                      kpi = \"proportion_skipped\")"
   ]
  },
  {
   "cell_type": "markdown",
   "id": "1ab4b1be-571b-47d4-bea9-26dccfa09cf5",
   "metadata": {},
   "source": [
    "# Parameter Impact on KPIs\n",
    "\n",
    "The simulation results provide, for each combination of swept protocol parameter values (\"parameter constellations\"), a series of outcomes distinguished by different random realizations of stochastic (\"Monte Carlo\") distributions. Thus, each of the KPIs can be computed for each simulation result, and a _frequency distribution_ or _density_ of KPI values can be generated for each of the iterations of the adaptive grid approach. These densities can be further broken down by protocol parameter value, and the changes in the densities across different values can be visualized. This provides a method of assessing the sensitivity of the KPIs to the protocol parameters, both at the initial adaptive grid implementation, before optimization is performed, and at the end of the implementation, when the recommended parameter ranges have been achieved.\n",
    "\n",
    "Each group of figures below corresponds to one of the protocol parameters. Each row in a figure group corresponds to a different KPI, and each column to the initial adaptive grid and final adaptive grid simulation results. Within a figure, the density corresponding to each swept value of the associated protocol parameter is presented (generally, the lower sweep value is displayed in black, while the upper sweep value is in red, although this may not always be the case). \n",
    "\n",
    "By examining the changes in the shape of the KPI densities across sweep values and across the adaptive grid results, a qualitative visual assessment of how sensitive the KPI under scrutiny is to the swept protocol parameter can be made."
   ]
  },
  {
   "cell_type": "code",
   "execution_count": 4,
   "id": "0388d739",
   "metadata": {},
   "outputs": [],
   "source": [
    "create_param_impact_dist_plots(df_to_use = base_df,\n",
    "                              trajectory_kpis = \n",
    "\n",
    "                               )"
   ]
  },
  {
   "cell_type": "markdown",
   "id": "7339b06f-1fed-45e2-80b1-abac4b4f8354",
   "metadata": {},
   "source": [
    "# Conclusion\n",
    "\n",
    "As is evident from the adaptive grid search results and the decision tree analysis, the success criteria for the **servicer profitability** and **servicer capital costs** threshold inequalities were met for every parameter constellation tested. This implies that either 1) initial parameter ranges were fortuitously selected within the overall parameter space for these criteria, or 2) the success criteria for the servicer are loose and can be tightened--note in particular that servicer NPV is _lifetime_ discounted profitability, and so perhaps 750 POKT as a threshold value is too low.\n",
    "\n",
    "The success criteria for the **gateway NPV** was the main delineator for parameter values, as desired for this scenario group. The decision tree analysis indicates that the `GFPR` range of $(10, 12.8125)$ uPOKT and `GMS` range of $(1.22e5, 1.25e5)$ are both consistent with threshold satisfaction, and that the `GFPR` contains the 'lion's share' of importance. This is in line with expectations. Furthermore, the density impact results clearly show that the gateway NPV KPI was most sensitive to changes in all swept protocol parameters, with `GFPR` and `GMS` providing the most impact--generally speaking, the higher were these two parameters, the less variability was observed in the gateway NPV (this is more marked in the changes over `GFPR` in the final adaptive grid results). `GMS` also had an impact on the servicer capital costs KPI, again reducing the variability of its density in the final adaptive grid results. \n",
    "\n",
    "A striking result is the higher recommended value of `AFPR` (range $(26.875, 29.6875)$ uPOKT) when compared with `GFPR`. On its own this may provide an incentive for applications to 'masquerade' as gateways, serving their own relay requests and incurring the lower `GFPR`. However, the significantly higher staking requirements [`GMS` $(1.22e5, 1.25e5)$ POKT vs. `AMS` $(1.35e4, 1.38e4)$ POKT] indicate that for this 'masquerade' to be profitable, a single application's relay traffic volume must be high. Understanding the degree to which 'high' is 'high enough' is a promising avenue for future simulation work.\n",
    "\n",
    "Finally, the range for the `TTRM` $(71.875, 83.59735)$ indicates that a slight restriction of bandwidth below the initial estimate of $100$ does not appear to materially affect the profitability of servicers or gateways. This may be useful to assess expected network load or capacity constraints for expected relay traffic."
   ]
  }
 ],
 "metadata": {
  "kernelspec": {
   "display_name": "Python 3 (ipykernel)",
   "language": "python",
   "name": "python3"
  },
  "language_info": {
   "codemirror_mode": {
    "name": "ipython",
    "version": 3
   },
   "file_extension": ".py",
   "mimetype": "text/x-python",
   "name": "python",
   "nbconvert_exporter": "python",
   "pygments_lexer": "ipython3",
   "version": "3.11.6"
  }
 },
 "nbformat": 4,
 "nbformat_minor": 5
}
