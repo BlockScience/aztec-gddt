{
 "cells": [
  {
   "cell_type": "markdown",
   "id": "2eae94a7-e705-4ae7-a0c8-548c206e13f4",
   "metadata": {},
   "source": [
    "# HOW TO USE THIS TEMPLATE\n",
    "\n",
    "1. Copy this template notebook and rename to reflect the scenario results described within.\n",
    "2. Within the scenario results notebook, content _outside_ of brackets \"<\", \">\" should remain exactly as-is in the scenario result notebook--this includes the code used to generate displayed results. Text _within_ these brackets must be replaced with the scenario-specific information noted.\n",
    "3. **Delete this Markdown block** in the scenario results notebook before delivering the report!"
   ]
  },
  {
   "cell_type": "markdown",
   "id": "37346d2d-e979-4505-9374-c60cd5eaee0f",
   "metadata": {},
   "source": [
    "# Summary\n",
    "\n",
    "<A summary of the scenario group is provided here.>"
   ]
  },
  {
   "cell_type": "markdown",
   "id": "257bce2d-ab2d-413e-983f-cb4edc446227",
   "metadata": {},
   "source": [
    "# Contents\n",
    "\n",
    "**Experimental Setup**: This covers the objective of the study and its methodology, describes the KPIs and success indicators (threshold inequalities), the protocol and environmental sweep parameters and their initial ranges, and finally summarizes the computational complexity of the simulations themselves.\n",
    "\n",
    "**Adaptive Grid Results**: The evolution of the parameter selection process is presented as a visualization, showing the convergence of the protocol parameter ranges as different success criteria are achieved.\n",
    "\n",
    "**Protocol Parameter Recommendations**: Based upon the adaptive grid results, the recommended parameter ranges are presented.\n",
    "\n",
    "**Decision Tree and Parameter Importance**: Using the adaptive grid results, a machine-learning process is applied to infer the importance of different parameters on the associated KPI-based threshold inequalities. This provides a method of assessing whether one or more parameters are 'crucial' to success, in the sense that they have an outsized impact on the success criteria. This approach leverages decision trees that are fit to the results of the entire adaptive grid process.\n",
    "\n",
    "**Parameter Impact on KPIs**: A density approach (histogram) can be used to assess the impact of protocol parameters on the KPIs of the scenario. The KPI densities are shown for each protocol parameter sweep value, providing a visual indication of the impact of the parameter on the density shape and location.\n",
    "\n",
    "**Conclusion**: An overall assessment of the scenario results is provided, highlighting any problems, caveats, implications and possibilities for future/extended work.\n"
   ]
  },
  {
   "cell_type": "markdown",
   "id": "3104f6c1-7e80-4d33-8688-46168d995972",
   "metadata": {},
   "source": [
    "# Experimental Setup"
   ]
  },
  {
   "cell_type": "markdown",
   "id": "5c099a38-2ac2-4fbf-81b5-e99246ffbc15",
   "metadata": {},
   "source": [
    "## Objective and Methodology\n",
    "\n",
    "<The objective of the scenario group is stated here.>\n",
    "\n",
    "- **System Goals Targeted**:\n",
    "  <A list of associated system goals is provided here.>\n",
    "- **Design**: <a brief statement of the scenario design is provided here.>\n",
    "- **Testing Variables**:\n",
    "  - Environmental:\n",
    "      <A list of the environmental parameters is provided here, with each item prefaced by \"Introduce\"--each list item contains a definition and description.>\n",
    "  - Protocol:\n",
    "      <A list of the protocol parameters is provided here, with each item prefaced by \"Assess\"--each list item contains a definition and description.>"
   ]
  },
  {
   "cell_type": "markdown",
   "id": "27f60296-8ad7-488f-ab83-f36379b375dc",
   "metadata": {},
   "source": [
    "## KPIs\n",
    "\n",
    "<A list of KPIs is provided here--each list item contains the KPI number, definition and brief description.>"
   ]
  },
  {
   "cell_type": "markdown",
   "id": "480d36fe-155e-4661-bd33-ec39d150a6c5",
   "metadata": {},
   "source": [
    "## Threshold Inequalities\n",
    "\n",
    "<A list of threshold inequalities is provided here--each list item contains the name of the inequality and the actual threshold values used in the scenarios. Each item's reference in the code, usually with a suffix `_success`, is given.>"
   ]
  },
  {
   "cell_type": "markdown",
   "id": "ece6151b-124c-4f1b-951b-0671145977a1",
   "metadata": {},
   "source": [
    "## Sweep Parameters"
   ]
  },
  {
   "cell_type": "markdown",
   "id": "ac8a6864-e4c3-4b23-8b2c-a969c1094268",
   "metadata": {},
   "source": [
    "### Swept Protocol Parameters\n",
    "\n",
    "<An enumerated list of the protocol parameters is given, using their `name` in the code and any relevant abbreviation.>"
   ]
  },
  {
   "cell_type": "markdown",
   "id": "84ab94de-e3a7-43ae-a14f-fcc41f18fd24",
   "metadata": {},
   "source": [
    "### Swept Environmental Parameters\n",
    "\n",
    "<An enumerated list of the environmental parameters is given, using their `name` in the code and any relevant abbreviation.>"
   ]
  },
  {
   "cell_type": "markdown",
   "id": "a1c9979e-2b7f-4a5d-9c8d-4d858f18f5e6",
   "metadata": {},
   "source": [
    "## Initial Parameter Sweep Ranges\n",
    "\n",
    "Protocol and Environmental parameters were initialized for the first adaptive grid search according to:\n",
    "1. Values found in the specifications provided to BlockScience ([V1 Mechanism spreadsheet](https://docs.google.com/spreadsheets/d/1Gpnw3ZXNh9lWFgmrbrg8wTqVKPD2M8QqJdAiAALru38/edit?usp=sharing), [V1 Minting spreadsheet](https://docs.google.com/spreadsheets/d/1QYe6NzuiyimsXs5cT1BSM-UT1DtX_K38cOZsEFJOtdA/edit?usp=sharing)),\n",
    "2. Discussions with the Pocket team, and\n",
    "3. BlockScience best practice. "
   ]
  },
  {
   "cell_type": "markdown",
   "id": "b3e9c3f4-9c91-46f1-ba22-3dc165b9acfc",
   "metadata": {},
   "source": [
    "### Environmental Parameters\n",
    "\n",
    "| Full Name |  Sweep Variable Name | Sweep Values | Units |\n",
    "| --- | --- | ---| ---|\n",
    "<A list of table entries corresponding to initial ranges for the environmental parameters is given here.>"
   ]
  },
  {
   "cell_type": "markdown",
   "id": "2896c515-4d8a-4779-a3d4-57ea3cd56319",
   "metadata": {},
   "source": [
    "### Protocol Parameters\n",
    "\n",
    "| Full Name |  Sweep Variable Name | Sweep Values | Units |\n",
    "| --- | --- | ---| ---|\n",
    "<A list of table entries corresponding to initial ranges for the protocol parameters is given here.>"
   ]
  },
  {
   "cell_type": "markdown",
   "id": "30c730ea-dc9b-4285-bfb2-6b82b0575c42",
   "metadata": {},
   "source": [
    "## Computational Complexity\n",
    "\n",
    "**Total number of parameter constellations**: <Show the total number derived here.>\n",
    "\n",
    "**Total number of Monte Carlo runs per constellation**: <Show the number of MC runs per parameter here.>\n",
    "\n",
    "**Total number of experiments per adaptive grid**: <The product of the two immediately preceding numbers is given here.>\n",
    "\n",
    "**Number of adaptive grid searches**: <The total number of adaptive grid searches performed is shown here.>\n",
    "\n",
    "**Total number of parameter constellations evaluated**: <The product of the two immediately preceding numbers is here.>"
   ]
  },
  {
   "cell_type": "markdown",
   "id": "16328a2b-27f5-4ee5-8dfa-4a404e5fd6f6",
   "metadata": {},
   "source": [
    "# Adaptive Grid Results"
   ]
  },
  {
   "cell_type": "code",
   "execution_count": null,
   "id": "976baf2d-428b-443d-a45c-a17ca7fddc55",
   "metadata": {},
   "outputs": [],
   "source": [
    "import os\n",
    "os.chdir(\"..\")\n",
    "from psuu import load_all_kpi_comparison_data, load_scenario_kpi_comparison_data, threshold_comparison_plot, decision_tree_feature_importance_plot"
   ]
  },
  {
   "cell_type": "code",
   "execution_count": null,
   "id": "e06b788b-12ac-4941-8b39-17569c4abedb",
   "metadata": {},
   "outputs": [],
   "source": [
    "scenario_sweep_category = <INSERT STRING REPRESENTING SCENARIO GROUP HERE>\n",
    "kpis = load_scenario_kpi_comparison_data(scenario_sweep_category)\n",
    "threshold_comparison_plot(kpis[scenario_sweep_category])"
   ]
  },
  {
   "cell_type": "markdown",
   "id": "195067dc-8f89-4465-a1f7-0766ae463e76",
   "metadata": {},
   "source": [
    "# Protocol Parameter Recommendations\n",
    "\n",
    "From the adaptive grid results, the recommended parameter ranges for the swept protocol parameters are:\n",
    "\n",
    "| Full Name |  Abbreviation | Recommended Range | Units |\n",
    "| --- | --- | ---| ---|\n",
    "<A list of table entries corresponding to the final ranges for the protocol parameters is given here.>"
   ]
  },
  {
   "cell_type": "markdown",
   "id": "3c7364b4-ad57-4ad0-a6fa-127824f165e1",
   "metadata": {},
   "source": [
    "# Decision Tree and Parameter Importance"
   ]
  },
  {
   "cell_type": "markdown",
   "id": "e885ef8e-34fc-4cae-adff-8299067a77ef",
   "metadata": {},
   "source": [
    "## Decision Tree Classification\n",
    "\n",
    "A decision tree is a machine-learning-based classifier. Given the simulation results, for each threshold inequality the tree recursively associates different _samples_ from the results, according to sorting criteria based upon one or more of the protocol parameters of the simulation.\n",
    "\n",
    "Each decision tree below corresponds to one of the threshold inequalities stated above. Where the decision tree is 'empty', the threshold inequality was either 1) always fulfilled during the simulations, or 2) never fulfilled during the simulations. In this case no sensitivity analysis can be performed, as the threshold inequalities do not vary according to the different parameter combinations that were swept.\n",
    "\n",
    "The title of the decision tree includes the threshold inequality under scrutiny, in addition to a technical 'score' (usually \"100%\") and the number of simulation results used as the dataset. Within the decision tree presented, each **non-terminal** 'node' is labeled with the following information:\n",
    "\n",
    "1. The sorting variable used and its cutoff value used for classification, in the form of `parameter_name <= x` where `x` is the cutoff value. Branches to the left of this node indicate satisfaction of this inequality, while branches to the right indicate violations, i.e. `parameter_name > x`.\n",
    "2. A Gini coefficient representing the method of recursive association used.\n",
    "3. The total number of simulation results (\"samples = y%\") as a percentage \"y\" that are considered at this node.\n",
    "4. The breakdown of the simulation results considered into the left and right branches (\"value = [p, 1-p]\"), where \"p\" is the fraction of results that satisfy the `parameter_name = x` constraint, and \"1-p\" the fraction satisfying `parameter_name > x`.\n",
    "5. The classification of the majority of the simulation results at this node (note that this is not a final classification, as it appears in a non-terminal node, and can be arbitrary if the results are split equally across classes).\n",
    "\n",
    "**Terminal** nodes (\"leaves\") represent the final classification of that proportion of the simulation results that arrive at the node, and have most of the same information as a non-terminal node, with the exception that there is no branching performed and hence no sorting variable displayed. Here the most important information is the classification (last line). \n",
    "\n",
    "Non-terminal and terminal nodes colored in blue correspond to the threshold inequality being met, and by following blue boxes from a terminal node up to the root of tree a set of `parameter_name <= x` and/or `parameter_name > x` sorting criteria can be chained together. \n",
    "\n",
    "Upon successful classification, it is usual for the terminal node to have a breakdown \"value = [1.0, 0.0]\" or \"value = [0.0, 1.0]\", indicating that 100% of the remaining simulation results treated are either satisfying the threshold inequality under treatment (left value is 1.0), or not satisfying the threshold inequality (right value is 1.0).\n",
    "\n",
    "For further information regarding the decision tree approach adopted here please see the [Decision Trees](https://scikit-learn.org/stable/modules/tree.html#) documentation from the `scikit-learn` library."
   ]
  },
  {
   "cell_type": "markdown",
   "id": "54c4154b-9795-41ce-8051-92677716e5cf",
   "metadata": {},
   "source": [
    "## Feature Importance\n",
    "\n",
    "Below each non-empty decision tree is a bar graph indicating the relative importance of each swept protocol parameter (\"feature\") in determining the satisfaction of the threshold inequality. This leverages the use of \"random forests\", which is a technique to average over many different decision tree realizations over different subsets of the simulation results, assessing the relative contribution of each protocol parameter in the branching of each tree. Roughly speaking, the more times a protocol parameter was used in the branching process, the higher its importance is to the threshold inequality--in other words, the protocol parameter carries a larger 'weight' in determining satisfaction or violation of the inequality, and so the inequality is more sensitive to the values of the parameter.\n",
    "\n",
    "For further information regarding the random forest and feature importance approach adopted here please see the [Random Forest Classifier](https://scikit-learn.org/stable/modules/generated/sklearn.ensemble.RandomForestClassifier.html) documentation from the `scikit-learn` library."
   ]
  },
  {
   "cell_type": "code",
   "execution_count": null,
   "id": "5129ae2a-8108-407b-88ff-9f9673425a99",
   "metadata": {},
   "outputs": [],
   "source": [
    "decision_tree_feature_importance_plot(scenario_sweep_category)"
   ]
  },
  {
   "cell_type": "markdown",
   "id": "a6392698-45c6-455d-8f47-71cd3ca9963d",
   "metadata": {},
   "source": [
    "# Parameter Impact on KPIs\n",
    "\n",
    "The simulation results provide, for each combination of swept protocol parameter values (\"parameter constellations\"), a series of outcomes distinguished by different random realizations of stochastic (\"Monte Carlo\") distributions. Thus, each of the KPIs can be computed for each simulation result, and a _frequency distribution_ or _density_ of KPI values can be generated for each of the iterations of the adaptive grid approach. These densities can be further broken down by protocol parameter value, and the changes in the densities across different values can be visualized. This provides a method of assessing the sensitivity of the KPIs to the protocol parameters, both at the initial adaptive grid implementation, before optimization is performed, and at the end of the implementation, when the recommended parameter ranges have been achieved.\n",
    "\n",
    "Each group of figures below corresponds to one of the protocol parameters. Each row in a figure group corresponds to a different KPI, and each column to the initial adaptive grid and final adaptive grid simulation results. Within a figure, the density corresponding to each swept value of the associated protocol parameter is presented (generally, the lower sweep value is displayed in blue, while the upper sweep value is in red, although this may not always be the case). \n",
    "\n",
    "By examining the changes in the shape of the KPI densities across sweep values and across the adaptive grid results, a qualitative visual assessment of how sensitive the KPI under scrutiny is to the swept protocol parameter can be made."
   ]
  },
  {
   "cell_type": "code",
   "execution_count": null,
   "id": "ac81f749-4893-434d-8228-a816eb9b50f9",
   "metadata": {},
   "outputs": [],
   "source": [
    "from psuu.parameter_impact_plots import *\n",
    "merged_df = read_and_format_data(scenario_sweep_category=scenario_sweep_category)"
   ]
  },
  {
   "cell_type": "code",
   "execution_count": null,
   "id": "5f38f2a5-bef3-4501-97a9-90619f6e9da3",
   "metadata": {},
   "outputs": [],
   "source": [
    "latest_adaptive_grid = max(kpis[scenario_sweep_category])\n",
    "for param_name in kpis[scenario_sweep_category][latest_adaptive_grid]['variable_params']:\n",
    "    make_initial_vs_final_plot(df = merged_df,\n",
    "                           scenario_sweep_category = scenario_sweep_category,\n",
    "                           param_name = \"param_\" + param_name, fig_width = 30)"
   ]
  },
  {
   "cell_type": "markdown",
   "id": "a911339e-310f-4ecf-b203-b3ad59e4e514",
   "metadata": {},
   "source": [
    "# Conclusion\n",
    "\n",
    "<A concluding paragraph is provided here, which can be used to highlight features of the results, caveats, problems, and directions for future scenario work.>"
   ]
  }
 ],
 "metadata": {
  "kernelspec": {
   "display_name": "Python 3 (ipykernel)",
   "language": "python",
   "name": "python3"
  },
  "language_info": {
   "codemirror_mode": {
    "name": "ipython",
    "version": 3
   },
   "file_extension": ".py",
   "mimetype": "text/x-python",
   "name": "python",
   "nbconvert_exporter": "python",
   "pygments_lexer": "ipython3",
   "version": "3.9.18"
  }
 },
 "nbformat": 4,
 "nbformat_minor": 5
}
