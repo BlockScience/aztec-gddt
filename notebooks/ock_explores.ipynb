{
 "cells": [
  {
   "cell_type": "markdown",
   "metadata": {},
   "source": [
    "# Exploration\n",
    "\n",
    "## Introduction \n",
    "\n",
    "In this notebook, we explore different possibilities for generating and storing data. "
   ]
  },
  {
   "cell_type": "code",
   "execution_count": 2,
   "metadata": {},
   "outputs": [],
   "source": [
    "# Importing Necessary Libraries\n",
    "\n",
    "import sys\n",
    "sys.path.append('../')\n",
    "\n",
    "import numpy as np\n",
    "import pandas as pd\n",
    "import os\n",
    "import plotly.express as px\n",
    "import seaborn as sns \n",
    "import matplotlib.pyplot as plt\n",
    "\n",
    "import plotly.io as pio\n",
    "pio.renderers.default = \"png\"\n",
    "\n",
    "from IPython.display import display, Markdown\n",
    "import ipywidgets as widgets\n",
    "from typing import List, Union\n",
    "\n",
    "\n",
    "from aztec_gddt.experiment import *\n",
    "from aztec_gddt.params import *\n",
    "from aztec_gddt.utils.sim_run import sim_run"
   ]
  },
  {
   "cell_type": "markdown",
   "metadata": {},
   "source": [
    "## Creating Proof-of-Concept GUI Input Elements (Primitive)"
   ]
  },
  {
   "cell_type": "code",
   "execution_count": 3,
   "metadata": {},
   "outputs": [
    {
     "ename": "NameError",
     "evalue": "name 'my_params_to_modify' is not defined",
     "output_type": "error",
     "traceback": [
      "\u001b[1;31m---------------------------------------------------------------------------\u001b[0m",
      "\u001b[1;31mNameError\u001b[0m                                 Traceback (most recent call last)",
      "Cell \u001b[1;32mIn[3], line 23\u001b[0m, in \u001b[0;36mon_button_clicked\u001b[1;34m(b, val_to_set)\u001b[0m\n\u001b[0;32m     19\u001b[0m vals_list \u001b[38;5;241m=\u001b[39m process_input(text_input\u001b[38;5;241m.\u001b[39mvalue)\n\u001b[0;32m     20\u001b[0m params_dict[val_to_set] \u001b[38;5;241m=\u001b[39m vals_list\n\u001b[0;32m     22\u001b[0m my_table \u001b[38;5;241m=\u001b[39m create_model_params_table(model_name \u001b[38;5;241m=\u001b[39m \u001b[38;5;124m\"\u001b[39m\u001b[38;5;124mGas Threshold Test\u001b[39m\u001b[38;5;124m\"\u001b[39m,\n\u001b[1;32m---> 23\u001b[0m                       params_to_modify \u001b[38;5;241m=\u001b[39m \u001b[43mmy_params_to_modify\u001b[49m,  \n\u001b[0;32m     24\u001b[0m                       params_to_exclude \u001b[38;5;241m=\u001b[39m [\u001b[38;5;124m\"\u001b[39m\u001b[38;5;124mgas_estimators\u001b[39m\u001b[38;5;124m\"\u001b[39m, \u001b[38;5;124m\"\u001b[39m\u001b[38;5;124mtx_estimators\u001b[39m\u001b[38;5;124m\"\u001b[39m, \u001b[38;5;124m\"\u001b[39m\u001b[38;5;124mslash_params\u001b[39m\u001b[38;5;124m\"\u001b[39m],                      \n\u001b[0;32m     25\u001b[0m                       display_to_screen \u001b[38;5;241m=\u001b[39m \u001b[38;5;28;01mTrue\u001b[39;00m)\n\u001b[0;32m     27\u001b[0m sim_df \u001b[38;5;241m=\u001b[39m custom_run(params_to_modify\u001b[38;5;241m=\u001b[39mparams_dict)\n\u001b[0;32m     29\u001b[0m \u001b[38;5;28;01mreturn\u001b[39;00m params_dict\n",
      "\u001b[1;31mNameError\u001b[0m: name 'my_params_to_modify' is not defined"
     ]
    }
   ],
   "source": [
    "text_input = widgets.Text(\n",
    "    value='',\n",
    "    placeholder='Enter values separated by commas',\n",
    "    description='Input:',\n",
    "    disabled=False\n",
    ")\n",
    "\n",
    "def process_input(input_string):\n",
    "    # Splitting the string by commas and stripping whitespace\n",
    "    values_list = [float(item.strip()) for item in input_string.split(',')]\n",
    "    return values_list\n",
    "\n",
    "button = widgets.Button(description=\"Process Input\")\n",
    "\n",
    "params_dict = {} #global dict for access by gui elements\n",
    "\n",
    "def on_button_clicked(b, \n",
    "                     val_to_set: str = 'gas_threshold_for_tx'):\n",
    "    # Using the text input's value\n",
    "    vals_list = process_input(text_input.value)\n",
    "    params_dict[val_to_set] = vals_list\n",
    "\n",
    "    my_table = create_model_params_table(model_name = \"Gas Threshold Test\",\n",
    "                          params_to_modify = params_dict,  \n",
    "                          params_to_exclude = [\"gas_estimators\", \"tx_estimators\", \"slash_params\"],                      \n",
    "                          display_to_screen = True)\n",
    "\n",
    "    sim_df = custom_run(params_to_modify=params_dict)\n",
    "    \n",
    "    return params_dict\n",
    "\n",
    "button.on_click(on_button_clicked)"
   ]
  },
  {
   "cell_type": "code",
   "execution_count": 4,
   "metadata": {},
   "outputs": [
    {
     "data": {
      "application/vnd.jupyter.widget-view+json": {
       "model_id": "0205e8f03ebb4dd384596b744938414d",
       "version_major": 2,
       "version_minor": 0
      },
      "text/plain": [
       "VBox(children=(Text(value='', description='Input:', placeholder='Enter values separated by commas'), Button(de…"
      ]
     },
     "execution_count": 4,
     "metadata": {},
     "output_type": "execute_result"
    }
   ],
   "source": [
    "gui = widgets.VBox([text_input, button])\n",
    "gui\n"
   ]
  },
  {
   "cell_type": "markdown",
   "metadata": {},
   "source": [
    "## Creating a Sweep \n",
    "\n",
    "We create a custom experiment using the `custom_run` method. "
   ]
  },
  {
   "cell_type": "code",
   "execution_count": 4,
   "metadata": {},
   "outputs": [
    {
     "data": {
      "text/markdown": [
       "## Current Parameter Values for Gas Threshold Test \n",
       "| Parameter | Values to Use |\n",
       "| --- | --- |\n",
       "| label | default |\n",
       "| timestep_in_blocks | 1 |\n",
       "| uncle_count | 0 |\n",
       "| reward_per_block | 1.0 |\n",
       "| fee_subsidy_fraction | 1.0 |\n",
       "| phase_duration_proposal | 10 |\n",
       "| phase_duration_reveal | 10 |\n",
       "| phase_duration_commit_bond | 10 |\n",
       "| phase_duration_rollup | 30 |\n",
       "| phase_duration_race | 30 |\n",
       "| stake_activation_period | 40 |\n",
       "| unstake_cooldown_period | 40 |\n",
       "| proposal_probability_per_user_per_block | 0.2 |\n",
       "| block_content_reveal_probability | 0.2 |\n",
       "| tx_proof_reveal_probability | 0.2 |\n",
       "| rollup_proof_reveal_probability | 0.2 |\n",
       "| commit_bond_reveal_probability | 0.2 |\n",
       "| gas_threshold_for_tx | [1, 10, 100, 1000, 10000] |\n",
       "| blob_gas_threshold_for_tx | 50 |\n",
       "| proving_marketplace_usage_probability | 0.3 |\n",
       "| rewards_to_provers | 0.3 |\n",
       "| rewards_to_relay | 0.01 |\n",
       "| gwei_to_tokens | 1e-09 |\n"
      ],
      "text/plain": [
       "<IPython.core.display.Markdown object>"
      ]
     },
     "metadata": {},
     "output_type": "display_data"
    }
   ],
   "source": [
    "my_params_to_modify = {'gas_threshold_for_tx': [10**k for k in range(5)]}\n",
    "\n",
    "\n",
    "my_table = create_model_params_table(model_name = \"Gas Threshold Test\",\n",
    "                          params_to_modify = my_params_to_modify,  \n",
    "                          params_to_exclude = [\"gas_estimators\", \"tx_estimators\", \"slash_params\"],                      \n",
    "                          display_to_screen = True)\n"
   ]
  },
  {
   "cell_type": "code",
   "execution_count": null,
   "metadata": {},
   "outputs": [],
   "source": []
  },
  {
   "cell_type": "code",
   "execution_count": 5,
   "metadata": {},
   "outputs": [
    {
     "name": "stdout",
     "output_type": "stream",
     "text": [
      "\n",
      "                  ___________    ____\n",
      "  ________ __ ___/ / ____/   |  / __ \\\n",
      " / ___/ __` / __  / /   / /| | / / / /\n",
      "/ /__/ /_/ / /_/ / /___/ ___ |/ /_/ /\n",
      "\\___/\\__,_/\\__,_/\\____/_/  |_/_____/\n",
      "by cadCAD\n",
      "\n",
      "cadCAD Version: 0.5.1\n",
      "Execution Mode: local_proc\n",
      "Simulation Dimensions:\n",
      "Entire Simulation: (Models, Unique Timesteps, Params, Total Runs, Sub-States) = (1, 700, 26, 3, 13)\n",
      "     Simulation 0: (Timesteps, Params, Runs, Sub-States) = (700, 26, 3, 13)\n"
     ]
    },
    {
     "data": {
      "application/vnd.jupyter.widget-view+json": {
       "model_id": "31b117a292ab418d9150eeffdf4a563d",
       "version_major": 2,
       "version_minor": 0
      },
      "text/plain": [
       "Initializing configurations:   0%|          | 0/3 [00:00<?, ?it/s]"
      ]
     },
     "metadata": {},
     "output_type": "display_data"
    },
    {
     "name": "stdout",
     "output_type": "stream",
     "text": [
      "Execution Method: parallelize_simulations\n",
      "Execution Mode: parallelized\n"
     ]
    }
   ],
   "source": [
    "# sim_args = (INITIAL_STATE,\n",
    "#             tx_proof_reveal_sweep,\n",
    "#             AZTEC_MODEL_BLOCKS,\n",
    "#             70,\n",
    "#             10)\n",
    " \n",
    "# sim_df = sim_run(*sim_args)\n",
    "# sim_df.head()\n",
    "\n",
    "my_params_to_modify = {\"gas_threshold_for_tx\": [1, 10, 100]}\n",
    "sim_df = custom_run(params_to_modify=my_params_to_modify)"
   ]
  },
  {
   "cell_type": "code",
   "execution_count": null,
   "metadata": {},
   "outputs": [],
   "source": [
    "# sim_df.to_csv(\"limit_cases_proof_reveal_probability.csv\")"
   ]
  },
  {
   "cell_type": "code",
   "execution_count": null,
   "metadata": {},
   "outputs": [],
   "source": [
    "# sim_df.columns"
   ]
  },
  {
   "cell_type": "code",
   "execution_count": null,
   "metadata": {},
   "outputs": [],
   "source": [
    "sim_df[\"num_transactions\"] = sim_df['transactions'].apply(lambda x: len(x))"
   ]
  },
  {
   "cell_type": "code",
   "execution_count": null,
   "metadata": {},
   "outputs": [],
   "source": [
    "sns.scatterplot(data = sim_df,\n",
    "                x = \"time_l1\",\n",
    "                y = \"num_transactions\",\n",
    "                hue = \"gas_threshold_for_tx\")"
   ]
  },
  {
   "cell_type": "code",
   "execution_count": null,
   "metadata": {},
   "outputs": [],
   "source": [
    "gas_fees_df[gas_fees_df['time_l1'] == 700].groupby('gas_threshold_for_tx')['num_transactions'].mean()"
   ]
  },
  {
   "cell_type": "markdown",
   "metadata": {},
   "source": [
    "## Accessing the Data \n",
    "\n",
    "The data produced by the cadCAD simulation model, along with associated metrics, is stored in a dataframe with multiple variables. In future versions, the KPI calculations will also be produced during the simulation run. "
   ]
  },
  {
   "cell_type": "code",
   "execution_count": null,
   "metadata": {},
   "outputs": [],
   "source": [
    "sim_df.head(4)"
   ]
  },
  {
   "cell_type": "code",
   "execution_count": null,
   "metadata": {},
   "outputs": [],
   "source": [
    "len(sim_df)"
   ]
  },
  {
   "cell_type": "markdown",
   "metadata": {},
   "source": [
    "The data from this run can be saved to a `.csv` file. This is useful for e.g. combining results from experiments with different parameter choices. "
   ]
  },
  {
   "cell_type": "code",
   "execution_count": null,
   "metadata": {},
   "outputs": [],
   "source": [
    "sim_df.to_csv(\"test_data.csv\")"
   ]
  },
  {
   "cell_type": "code",
   "execution_count": null,
   "metadata": {},
   "outputs": [],
   "source": [
    "sim_df.columns"
   ]
  },
  {
   "cell_type": "code",
   "execution_count": null,
   "metadata": {},
   "outputs": [],
   "source": [
    "sns.scatterplot(x = \"time_l1\", y = \"finalized_blocks_count\", \n",
    "               data = sim_df, hue = \"tx_proof_reveal_probability\")"
   ]
  },
  {
   "cell_type": "markdown",
   "metadata": {},
   "source": [
    "## Visual Analysis\n",
    "\n",
    "In this section we demonstrate several graphical plots that can easily be generated from the data produced by the simulation model runs."
   ]
  },
  {
   "cell_type": "code",
   "execution_count": null,
   "metadata": {},
   "outputs": [],
   "source": [
    "sns.lineplot(x=sim_df.time_l1, \n",
    "             y=sim_df.current_process.map(lambda x: x.phase.name if x is not None else None))"
   ]
  },
  {
   "cell_type": "markdown",
   "metadata": {},
   "source": [
    "We have access to data on finalized blocks over time. In addition, the plots can be saved for further analysis and comparison. Here we create a plot of finalized blocks vs. time and save it in a relevant png file. (Again, this shows capability, not actual results, due to parameter choices.)"
   ]
  },
  {
   "cell_type": "code",
   "execution_count": null,
   "metadata": {},
   "outputs": [],
   "source": [
    "sns.lineplot(x=sim_df.time_l1, \n",
    "             y=sim_df.finalized_blocks_count)\n",
    "             \n",
    "plt.xlabel(\"Time (in L1 blocks)\")\n",
    "plt.ylabel(\"Finalized Blocks\")\n",
    "plt.title(\"Finalized Blocks over L1 Timesteps\")\n",
    "plt.show()"
   ]
  },
  {
   "cell_type": "code",
   "execution_count": null,
   "metadata": {},
   "outputs": [],
   "source": [
    "plt.savefig(\"finalized_blocks_plot.png\")"
   ]
  },
  {
   "cell_type": "markdown",
   "metadata": {},
   "source": [
    "Among other things, the data generated by the simulation also makes it possible to track the growth rate of blocks produced, as well as the rewards accrued to different types of agents in the system. "
   ]
  },
  {
   "cell_type": "code",
   "execution_count": null,
   "metadata": {},
   "outputs": [],
   "source": [
    "sns.lineplot(x=sim_df.time_l1, \n",
    "             y=sim_df.cumm_block_rewards)\n",
    "\n",
    "plt.xlabel(\"Time (in L1 blocks)\")\n",
    "plt.ylabel(\"Cumulative Block Rewards\")\n",
    "plt.title(\"Cumulative Block Rewards over L1 Timesteps\")\n",
    "plt.savefig(\"cum_block_rewards_over_time.png\")\n",
    "plt.show()"
   ]
  },
  {
   "cell_type": "code",
   "execution_count": null,
   "metadata": {},
   "outputs": [],
   "source": [
    "sim_df['balance_sequencers'] = sim_df.agents.map(lambda x: sum(el.balance for el in x.values() if el.is_sequencer == True))\n",
    "sim_df['balance_provers'] = sim_df.agents.map(lambda x: sum(el.balance for el in x.values() if el.is_prover == True))\n",
    "sim_df['balance_relays'] = sim_df.agents.map(lambda x: sum(el.balance for el in x.values() if el.is_relay == True))\n",
    "sim_df['balance_burnt'] = sim_df.agents.map(lambda x: sum(el.balance for el in x.values() if el.uuid == 'burnt'))\n",
    "sim_df['balance_l1_builder'] = sim_df.agents.map(lambda x: sum(el.balance for el in x.values() if el.uuid == 'l1-builder'))\n"
   ]
  },
  {
   "cell_type": "code",
   "execution_count": null,
   "metadata": {},
   "outputs": [],
   "source": []
  }
 ],
 "metadata": {
  "kernelspec": {
   "display_name": "base",
   "language": "python",
   "name": "python3"
  },
  "language_info": {
   "codemirror_mode": {
    "name": "ipython",
    "version": 3
   },
   "file_extension": ".py",
   "mimetype": "text/x-python",
   "name": "python",
   "nbconvert_exporter": "python",
   "pygments_lexer": "ipython3",
   "version": "3.11.4"
  }
 },
 "nbformat": 4,
 "nbformat_minor": 2
}
