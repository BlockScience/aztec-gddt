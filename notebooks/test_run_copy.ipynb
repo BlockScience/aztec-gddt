{
 "cells": [
  {
   "cell_type": "code",
   "execution_count": 1,
   "metadata": {},
   "outputs": [],
   "source": [
    "import sys\n",
    "sys.path.append('../')\n",
    "\n",
    "import pandas as pd\n",
    "import os\n",
    "import plotly.express as px"
   ]
  },
  {
   "cell_type": "code",
   "execution_count": 2,
   "metadata": {},
   "outputs": [
    {
     "ename": "TypeError",
     "evalue": "unsupported operand type(s) for |: 'type' and 'type'",
     "output_type": "error",
     "traceback": [
      "\u001b[1;31m---------------------------------------------------------------------------\u001b[0m",
      "\u001b[1;31mTypeError\u001b[0m                                 Traceback (most recent call last)",
      "\u001b[1;32mc:\\Users\\andre\\Desktop\\aztec-gddt\\notebooks\\test_run_copy.ipynb Cell 2\u001b[0m line \u001b[0;36m1\n\u001b[1;32m----> <a href='vscode-notebook-cell:/c%3A/Users/andre/Desktop/aztec-gddt/notebooks/test_run_copy.ipynb#W2sZmlsZQ%3D%3D?line=0'>1</a>\u001b[0m \u001b[39mfrom\u001b[39;00m \u001b[39maztec_gddt\u001b[39;00m\u001b[39m.\u001b[39;00m\u001b[39mexperiment\u001b[39;00m \u001b[39mimport\u001b[39;00m standard_run\n\u001b[0;32m      <a href='vscode-notebook-cell:/c%3A/Users/andre/Desktop/aztec-gddt/notebooks/test_run_copy.ipynb#W2sZmlsZQ%3D%3D?line=2'>3</a>\u001b[0m \u001b[39m# TODO: restore when non-breaking  sim_df = standard_run().set_index('time_l1')\u001b[39;00m\n\u001b[0;32m      <a href='vscode-notebook-cell:/c%3A/Users/andre/Desktop/aztec-gddt/notebooks/test_run_copy.ipynb#W2sZmlsZQ%3D%3D?line=3'>4</a>\u001b[0m sim_df \u001b[39m=\u001b[39m pd\u001b[39m.\u001b[39mread_csv(\u001b[39m\"\u001b[39m\u001b[39mtestforock.csv\u001b[39m\u001b[39m\"\u001b[39m) \u001b[39m#TODO: delete when non-breaking\u001b[39;00m\n",
      "File \u001b[1;32mc:\\Users\\andre\\Desktop\\aztec-gddt\\aztec_gddt\\__init__.py:1\u001b[0m\n\u001b[1;32m----> 1\u001b[0m \u001b[39mfrom\u001b[39;00m \u001b[39maztec_gddt\u001b[39;00m\u001b[39m.\u001b[39;00m\u001b[39mparams\u001b[39;00m \u001b[39mimport\u001b[39;00m SINGLE_RUN_PARAMS, INITIAL_STATE, TIMESTEPS, SAMPLES\n\u001b[0;32m      2\u001b[0m \u001b[39mfrom\u001b[39;00m \u001b[39maztec_gddt\u001b[39;00m\u001b[39m.\u001b[39;00m\u001b[39mstructure\u001b[39;00m \u001b[39mimport\u001b[39;00m AZTEC_MODEL_BLOCKS\n\u001b[0;32m      4\u001b[0m default_run_args \u001b[39m=\u001b[39m (INITIAL_STATE,\n\u001b[0;32m      5\u001b[0m                     {k: [v] \u001b[39mfor\u001b[39;00m k, v \u001b[39min\u001b[39;00m SINGLE_RUN_PARAMS\u001b[39m.\u001b[39mitems()},\n\u001b[0;32m      6\u001b[0m                     AZTEC_MODEL_BLOCKS,\n\u001b[0;32m      7\u001b[0m                     TIMESTEPS,\n\u001b[0;32m      8\u001b[0m                     SAMPLES)\n",
      "File \u001b[1;32mc:\\Users\\andre\\Desktop\\aztec-gddt\\aztec_gddt\\params.py:1\u001b[0m\n\u001b[1;32m----> 1\u001b[0m \u001b[39mfrom\u001b[39;00m \u001b[39maztec_gddt\u001b[39;00m\u001b[39m.\u001b[39;00m\u001b[39mtypes\u001b[39;00m \u001b[39mimport\u001b[39;00m \u001b[39m*\u001b[39m\n\u001b[0;32m      2\u001b[0m \u001b[39mfrom\u001b[39;00m \u001b[39muuid\u001b[39;00m \u001b[39mimport\u001b[39;00m uuid4\n\u001b[0;32m      3\u001b[0m \u001b[39mfrom\u001b[39;00m \u001b[39mscipy\u001b[39;00m\u001b[39m.\u001b[39;00m\u001b[39mstats\u001b[39;00m \u001b[39mimport\u001b[39;00m norm  \u001b[39m# type: ignore\u001b[39;00m\n",
      "File \u001b[1;32mc:\\Users\\andre\\Desktop\\aztec-gddt\\aztec_gddt\\types.py:187\u001b[0m\n\u001b[0;32m    182\u001b[0m \u001b[39m@dataclass\u001b[39m\n\u001b[0;32m    183\u001b[0m \u001b[39mclass\u001b[39;00m \u001b[39mRollupProof\u001b[39;00m(TransactionL1):\n\u001b[0;32m    184\u001b[0m     \u001b[39mpass\u001b[39;00m\n\u001b[1;32m--> 187\u001b[0m AnyL1Transaction \u001b[39m=\u001b[39m TransactionL1 \u001b[39m|\u001b[39;49m Proposal \u001b[39m|\u001b[39m CommitmentBond \u001b[39m|\u001b[39m ContentReveal \u001b[39m|\u001b[39m RollupProof\n\u001b[0;32m    189\u001b[0m SelectionResults \u001b[39m=\u001b[39m \u001b[39mdict\u001b[39m[ProcessUUID, \u001b[39mtuple\u001b[39m[Proposal, \u001b[39mlist\u001b[39m[Proposal]]]\n\u001b[0;32m    191\u001b[0m \u001b[39m# TODO: commit_bond aka Prover Commitment Bond Object -> tracking bond UUID (might be different from sequencer UUID, bond amount).\u001b[39;00m\n\u001b[0;32m    192\u001b[0m \u001b[39m# Alternative is to include prover UUID and bond amount in proposal class, but to set to \"None\" when instantiating.\u001b[39;00m\n\u001b[0;32m    193\u001b[0m \n\u001b[0;32m    194\u001b[0m \u001b[39m# Definition for simulation-specific types\u001b[39;00m\n",
      "\u001b[1;31mTypeError\u001b[0m: unsupported operand type(s) for |: 'type' and 'type'"
     ]
    }
   ],
   "source": [
    "# from aztec_gddt.experiment import standard_run\n",
    "\n",
    "# TODO: restore when non-breaking  sim_df = standard_run().set_index('time_l1')\n",
    "sim_df = pd.read_csv(\"testforock.csv\") #TODO: delete when non-breaking"
   ]
  },
  {
   "cell_type": "code",
   "execution_count": null,
   "metadata": {},
   "outputs": [],
   "source": [
    "sim_df.delta_blocks.unique()"
   ]
  },
  {
   "cell_type": "code",
   "execution_count": null,
   "metadata": {},
   "outputs": [],
   "source": [
    "sim_df.head(10)"
   ]
  },
  {
   "cell_type": "code",
   "execution_count": null,
   "metadata": {},
   "outputs": [],
   "source": [
    "# sim_df.current_process.map(lambda x: x.phase if x is not None else None).plot()\n",
    "type(sim_df.current_process.iloc[0])"
   ]
  },
  {
   "cell_type": "code",
   "execution_count": null,
   "metadata": {},
   "outputs": [],
   "source": [
    "sim_df.finalized_blocks_count.plot()"
   ]
  },
  {
   "cell_type": "code",
   "execution_count": null,
   "metadata": {},
   "outputs": [],
   "source": [
    "sim_df.cumm_block_rewards.plot()"
   ]
  },
  {
   "cell_type": "code",
   "execution_count": null,
   "metadata": {},
   "outputs": [],
   "source": [
    "sim_df.token_supply.iloc[-100]"
   ]
  },
  {
   "cell_type": "code",
   "execution_count": null,
   "metadata": {},
   "outputs": [],
   "source": [
    "sim_df.cumm_block_rewards.diff().plot()"
   ]
  },
  {
   "cell_type": "code",
   "execution_count": null,
   "metadata": {},
   "outputs": [],
   "source": [
    "sim_df.cumm_fee_cashback.diff().plot()"
   ]
  },
  {
   "cell_type": "code",
   "execution_count": null,
   "metadata": {},
   "outputs": [],
   "source": []
  }
 ],
 "metadata": {
  "kernelspec": {
   "display_name": "base",
   "language": "python",
   "name": "python3"
  },
  "language_info": {
   "codemirror_mode": {
    "name": "ipython",
    "version": 3
   },
   "file_extension": ".py",
   "mimetype": "text/x-python",
   "name": "python",
   "nbconvert_exporter": "python",
   "pygments_lexer": "ipython3",
   "version": "3.9.0"
  }
 },
 "nbformat": 4,
 "nbformat_minor": 2
}
