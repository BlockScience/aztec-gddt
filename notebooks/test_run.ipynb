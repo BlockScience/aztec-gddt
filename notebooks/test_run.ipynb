{
 "cells": [
  {
   "cell_type": "markdown",
   "metadata": {},
   "source": [
    "# Azted G-dDT Test Run"
   ]
  },
  {
   "cell_type": "code",
   "execution_count": 1,
   "metadata": {},
   "outputs": [],
   "source": [
    "import sys\n",
    "sys.path.append('../')\n",
    "\n",
    "import pandas as pd\n",
    "import os\n",
    "import plotly.express as px\n",
    "import seaborn as sns \n",
    "import matplotlib.pyplot as plt\n",
    "\n",
    "import plotly.io as pio\n",
    "pio.renderers.default = \"png\""
   ]
  },
  {
   "cell_type": "code",
   "execution_count": 2,
   "metadata": {},
   "outputs": [
    {
     "ename": "KeyError",
     "evalue": "'reward_per_block'",
     "output_type": "error",
     "traceback": [
      "\u001b[0;31m---------------------------------------------------------------------------\u001b[0m",
      "\u001b[0;31mKeyError\u001b[0m                                  Traceback (most recent call last)",
      "Cell \u001b[0;32mIn[2], line 3\u001b[0m\n\u001b[1;32m      1\u001b[0m \u001b[38;5;28;01mfrom\u001b[39;00m \u001b[38;5;21;01maztec_gddt\u001b[39;00m\u001b[38;5;21;01m.\u001b[39;00m\u001b[38;5;21;01mexperiment\u001b[39;00m \u001b[38;5;28;01mimport\u001b[39;00m standard_run\n\u001b[0;32m----> 3\u001b[0m sim_df \u001b[38;5;241m=\u001b[39m standard_run()\n",
      "File \u001b[0;32m~/repos/bsci/aztec-gddt/notebooks/../aztec_gddt/experiment.py:46\u001b[0m, in \u001b[0;36mstandard_run\u001b[0;34m(N_timesteps)\u001b[0m\n\u001b[1;32m     39\u001b[0m sim_args \u001b[38;5;241m=\u001b[39m (INITIAL_STATE,\n\u001b[1;32m     40\u001b[0m             sweep_params,\n\u001b[1;32m     41\u001b[0m             AZTEC_MODEL_BLOCKS,\n\u001b[1;32m     42\u001b[0m             N_timesteps,\n\u001b[1;32m     43\u001b[0m             N_samples)\n\u001b[1;32m     45\u001b[0m \u001b[38;5;66;03m# Run simulation\u001b[39;00m\n\u001b[0;32m---> 46\u001b[0m sim_df \u001b[38;5;241m=\u001b[39m sim_run(\u001b[38;5;241m*\u001b[39msim_args)\n\u001b[1;32m     47\u001b[0m \u001b[38;5;28;01mreturn\u001b[39;00m sim_df\n",
      "File \u001b[0;32m~/repos/bsci/aztec-gddt/notebooks/../aztec_gddt/utils/sim_run.py:81\u001b[0m, in \u001b[0;36msim_run\u001b[0;34m(state_variables, params, psubs, N_timesteps, N_samples, use_label, assign_params, drop_substeps, exec_mode, supress_cadCAD_print)\u001b[0m\n\u001b[1;32m     78\u001b[0m executor \u001b[38;5;241m=\u001b[39m Executor(exec_context\u001b[38;5;241m=\u001b[39mexec_context, configs\u001b[38;5;241m=\u001b[39mconfigs)\n\u001b[1;32m     80\u001b[0m \u001b[38;5;66;03m# Execute the cadCAD experiment\u001b[39;00m\n\u001b[0;32m---> 81\u001b[0m (records, tensor_field, _) \u001b[38;5;241m=\u001b[39m executor\u001b[38;5;241m.\u001b[39mexecute()\n\u001b[1;32m     83\u001b[0m \u001b[38;5;66;03m# Parse the output as a pandas DataFrame\u001b[39;00m\n\u001b[1;32m     84\u001b[0m df \u001b[38;5;241m=\u001b[39m pd\u001b[38;5;241m.\u001b[39mDataFrame(records)\n",
      "File \u001b[0;32m~/anaconda3/lib/python3.11/site-packages/cadCAD/engine/__init__.py:214\u001b[0m, in \u001b[0;36mExecutor.execute\u001b[0;34m(self)\u001b[0m\n\u001b[1;32m    210\u001b[0m         \u001b[38;5;28;01mraise\u001b[39;00m \u001b[38;5;167;01mValueError\u001b[39;00m(\u001b[38;5;124m\"\u001b[39m\u001b[38;5;124mInvalid execution mode specified\u001b[39m\u001b[38;5;124m\"\u001b[39m)\n\u001b[1;32m    213\u001b[0m     \u001b[38;5;28mprint\u001b[39m(\u001b[38;5;124m\"\u001b[39m\u001b[38;5;124mExecution Method: \u001b[39m\u001b[38;5;124m\"\u001b[39m \u001b[38;5;241m+\u001b[39m \u001b[38;5;28mself\u001b[39m\u001b[38;5;241m.\u001b[39mexec_method\u001b[38;5;241m.\u001b[39m\u001b[38;5;18m__name__\u001b[39m)\n\u001b[0;32m--> 214\u001b[0m     simulations_results \u001b[38;5;241m=\u001b[39m \u001b[38;5;28mself\u001b[39m\u001b[38;5;241m.\u001b[39mexec_method(\n\u001b[1;32m    215\u001b[0m         sim_executors, var_dict_list, states_lists, configs_structs, env_processes_list, Ts, SimIDs, RunIDs,\n\u001b[1;32m    216\u001b[0m         ExpIDs, SubsetIDs, SubsetWindows, original_N, \u001b[38;5;28mself\u001b[39m\u001b[38;5;241m.\u001b[39madditional_objs\n\u001b[1;32m    217\u001b[0m     )\n\u001b[1;32m    219\u001b[0m     final_result \u001b[38;5;241m=\u001b[39m get_final_results(\n\u001b[1;32m    220\u001b[0m         simulations_results, partial_state_updates, eps, sessions, remote_threshold)\n\u001b[1;32m    221\u001b[0m \u001b[38;5;28;01melif\u001b[39;00m \u001b[38;5;28mself\u001b[39m\u001b[38;5;241m.\u001b[39mexec_context \u001b[38;5;241m==\u001b[39m ExecutionMode\u001b[38;5;241m.\u001b[39mdistributed:\n",
      "File \u001b[0;32m~/anaconda3/lib/python3.11/site-packages/cadCAD/engine/execution.py:41\u001b[0m, in \u001b[0;36msingle_proc_exec\u001b[0;34m(simulation_execs, var_dict_list, states_lists, configs_structs, env_processes_list, Ts, SimIDs, Ns, ExpIDs, SubsetIDs, SubsetWindows, configured_n, additional_objs)\u001b[0m\n\u001b[1;32m     39\u001b[0m \u001b[38;5;28;01mfor\u001b[39;00m raw_param \u001b[38;5;129;01min\u001b[39;00m \u001b[38;5;28mzip\u001b[39m(\u001b[38;5;241m*\u001b[39mraw_params):\n\u001b[1;32m     40\u001b[0m     simulation_exec, states_list, config, env_processes, T, sim_id, N, subset_id, subset_window, var_dict \u001b[38;5;241m=\u001b[39m raw_param\n\u001b[0;32m---> 41\u001b[0m     result \u001b[38;5;241m=\u001b[39m simulation_exec(\n\u001b[1;32m     42\u001b[0m         var_dict, states_list, config, env_processes, T, sim_id, N, subset_id, subset_window, configured_n, additional_objs\n\u001b[1;32m     43\u001b[0m     )\n\u001b[1;32m     44\u001b[0m     results\u001b[38;5;241m.\u001b[39mappend(flatten(result))\n\u001b[1;32m     45\u001b[0m \u001b[38;5;28;01mreturn\u001b[39;00m flatten(results)\n",
      "File \u001b[0;32m~/anaconda3/lib/python3.11/site-packages/cadCAD/engine/simulation.py:306\u001b[0m, in \u001b[0;36mExecutor.simulation\u001b[0;34m(self, sweep_dict, states_list, configs, env_processes, time_seq, simulation_id, run, subset_id, subset_window, configured_N, additional_objs)\u001b[0m\n\u001b[1;32m    301\u001b[0m     \u001b[38;5;28;01mdel\u001b[39;00m states_list_copy\n\u001b[1;32m    303\u001b[0m     \u001b[38;5;28;01mreturn\u001b[39;00m first_timestep_per_run\n\u001b[1;32m    305\u001b[0m pipe_run \u001b[38;5;241m=\u001b[39m flatten(\n\u001b[0;32m--> 306\u001b[0m     [execute_run(sweep_dict, states_list, configs,\n\u001b[1;32m    307\u001b[0m                  env_processes, time_seq, run)]\n\u001b[1;32m    308\u001b[0m )\n\u001b[1;32m    310\u001b[0m \u001b[38;5;28;01mreturn\u001b[39;00m pipe_run\n",
      "File \u001b[0;32m~/anaconda3/lib/python3.11/site-packages/cadCAD/engine/simulation.py:298\u001b[0m, in \u001b[0;36mExecutor.simulation.<locals>.execute_run\u001b[0;34m(sweep_dict, states_list, configs, env_processes, time_seq, _run)\u001b[0m\n\u001b[1;32m    291\u001b[0m         \u001b[38;5;28;01myield\u001b[39;00m d\n\u001b[1;32m    293\u001b[0m states_list_copy: List[\u001b[38;5;28mdict\u001b[39m[\u001b[38;5;28mstr\u001b[39m, \u001b[38;5;28mobject\u001b[39m]] \u001b[38;5;241m=\u001b[39m \u001b[38;5;28mlist\u001b[39m(\n\u001b[1;32m    294\u001b[0m     generate_init_sys_metrics(\n\u001b[1;32m    295\u001b[0m         \u001b[38;5;28mtuple\u001b[39m(states_list), simulation_id, subset_id, run, subset_window)\n\u001b[1;32m    296\u001b[0m )\n\u001b[0;32m--> 298\u001b[0m first_timestep_per_run: List[\u001b[38;5;28mdict\u001b[39m[\u001b[38;5;28mstr\u001b[39m, \u001b[38;5;28mobject\u001b[39m]] \u001b[38;5;241m=\u001b[39m \u001b[38;5;28mself\u001b[39m\u001b[38;5;241m.\u001b[39mrun_pipeline(\n\u001b[1;32m    299\u001b[0m     sweep_dict, states_list_copy, configs, env_processes, time_seq, run, additional_objs\n\u001b[1;32m    300\u001b[0m )\n\u001b[1;32m    301\u001b[0m \u001b[38;5;28;01mdel\u001b[39;00m states_list_copy\n\u001b[1;32m    303\u001b[0m \u001b[38;5;28;01mreturn\u001b[39;00m first_timestep_per_run\n",
      "File \u001b[0;32m~/anaconda3/lib/python3.11/site-packages/cadCAD/engine/simulation.py:259\u001b[0m, in \u001b[0;36mExecutor.run_pipeline\u001b[0;34m(self, sweep_dict, states_list, configs, env_processes, time_seq, run, additional_objs)\u001b[0m\n\u001b[1;32m    256\u001b[0m simulation_list: List[\u001b[38;5;28mlist\u001b[39m[\u001b[38;5;28mdict\u001b[39m[\u001b[38;5;28mstr\u001b[39m, \u001b[38;5;28mobject\u001b[39m]]] \u001b[38;5;241m=\u001b[39m [states_list]\n\u001b[1;32m    258\u001b[0m \u001b[38;5;28;01mfor\u001b[39;00m time_step \u001b[38;5;129;01min\u001b[39;00m time_seq:\n\u001b[0;32m--> 259\u001b[0m     pipe_run: List[\u001b[38;5;28mdict\u001b[39m[\u001b[38;5;28mstr\u001b[39m, \u001b[38;5;28mobject\u001b[39m]] \u001b[38;5;241m=\u001b[39m \u001b[38;5;28mself\u001b[39m\u001b[38;5;241m.\u001b[39mstate_update_pipeline(\n\u001b[1;32m    260\u001b[0m         sweep_dict, simulation_list, configs, env_processes, time_step, run, additional_objs\n\u001b[1;32m    261\u001b[0m     )\n\u001b[1;32m    262\u001b[0m     _, \u001b[38;5;241m*\u001b[39mpipe_run \u001b[38;5;241m=\u001b[39m pipe_run\n\u001b[1;32m    263\u001b[0m     simulation_list\u001b[38;5;241m.\u001b[39mappend(pipe_run)\n",
      "File \u001b[0;32m~/anaconda3/lib/python3.11/site-packages/cadCAD/engine/simulation.py:234\u001b[0m, in \u001b[0;36mExecutor.state_update_pipeline\u001b[0;34m(self, sweep_dict, simulation_list, configs, env_processes, time_step, run, additional_objs)\u001b[0m\n\u001b[1;32m    232\u001b[0m sub_step \u001b[38;5;241m+\u001b[39m\u001b[38;5;241m=\u001b[39m \u001b[38;5;241m1\u001b[39m\n\u001b[1;32m    233\u001b[0m \u001b[38;5;28;01mfor\u001b[39;00m [s_conf, p_conf] \u001b[38;5;129;01min\u001b[39;00m configs:\n\u001b[0;32m--> 234\u001b[0m     states_list: List[\u001b[38;5;28mdict\u001b[39m[\u001b[38;5;28mstr\u001b[39m, \u001b[38;5;28mobject\u001b[39m]] \u001b[38;5;241m=\u001b[39m \u001b[38;5;28mself\u001b[39m\u001b[38;5;241m.\u001b[39mpartial_state_update(\n\u001b[1;32m    235\u001b[0m         sweep_dict, sub_step, states_list, simulation_list, s_conf, p_conf, env_processes, time_step, run,\n\u001b[1;32m    236\u001b[0m         additional_objs\n\u001b[1;32m    237\u001b[0m     )\n\u001b[1;32m    238\u001b[0m     sub_step \u001b[38;5;241m+\u001b[39m\u001b[38;5;241m=\u001b[39m \u001b[38;5;241m1\u001b[39m\n\u001b[1;32m    240\u001b[0m time_step \u001b[38;5;241m+\u001b[39m\u001b[38;5;241m=\u001b[39m \u001b[38;5;241m1\u001b[39m\n",
      "File \u001b[0;32m~/anaconda3/lib/python3.11/site-packages/cadCAD/engine/simulation.py:174\u001b[0m, in \u001b[0;36mExecutor.partial_state_update\u001b[0;34m(self, sweep_dict, sub_step, sL, sH, state_funcs, policy_funcs, env_processes, time_step, run, additional_objs)\u001b[0m\n\u001b[1;32m    170\u001b[0m \u001b[38;5;28;01melse\u001b[39;00m:\n\u001b[1;32m    171\u001b[0m     last_in_obj \u001b[38;5;241m=\u001b[39m deepcopy(sL[\u001b[38;5;241m-\u001b[39m\u001b[38;5;241m1\u001b[39m])\n\u001b[1;32m    173\u001b[0m _input: Dict[\u001b[38;5;28mstr\u001b[39m, Any] \u001b[38;5;241m=\u001b[39m \u001b[38;5;28mself\u001b[39m\u001b[38;5;241m.\u001b[39mpolicy_update_exception(\n\u001b[0;32m--> 174\u001b[0m     \u001b[38;5;28mself\u001b[39m\u001b[38;5;241m.\u001b[39mget_policy_input(sweep_dict, sub_step, sH, last_in_obj, policy_funcs, additional_objs)\n\u001b[1;32m    175\u001b[0m )\n\u001b[1;32m    177\u001b[0m \u001b[38;5;28;01mdef\u001b[39;00m \u001b[38;5;21mgenerate_record\u001b[39m(state_funcs):\n\u001b[1;32m    178\u001b[0m     \u001b[38;5;28;01mdef\u001b[39;00m \u001b[38;5;21mstate_scope_tuner\u001b[39m(f):\n",
      "File \u001b[0;32m~/anaconda3/lib/python3.11/site-packages/cadCAD/engine/simulation.py:87\u001b[0m, in \u001b[0;36mExecutor.get_policy_input\u001b[0;34m(self, sweep_dict, sub_step, sL, s, funcs, additional_objs)\u001b[0m\n\u001b[1;32m     84\u001b[0m \u001b[38;5;66;03m# Create a nested dict containing all results combination\u001b[39;00m\n\u001b[1;32m     85\u001b[0m \u001b[38;5;66;03m# new_dict[policy_input][policy_ordinal] = policy_input_value\u001b[39;00m\n\u001b[1;32m     86\u001b[0m new_dict: \u001b[38;5;28mdict\u001b[39m \u001b[38;5;241m=\u001b[39m {}\n\u001b[0;32m---> 87\u001b[0m \u001b[38;5;28;01mfor\u001b[39;00m i, col_result \u001b[38;5;129;01min\u001b[39;00m \u001b[38;5;28menumerate\u001b[39m(col_results):\n\u001b[1;32m     88\u001b[0m     \u001b[38;5;28;01mfor\u001b[39;00m label, value \u001b[38;5;129;01min\u001b[39;00m col_result\u001b[38;5;241m.\u001b[39mitems():\n\u001b[1;32m     89\u001b[0m         \u001b[38;5;28;01mif\u001b[39;00m label \u001b[38;5;129;01mnot\u001b[39;00m \u001b[38;5;129;01min\u001b[39;00m new_dict\u001b[38;5;241m.\u001b[39mkeys():\n",
      "File \u001b[0;32m~/anaconda3/lib/python3.11/site-packages/cadCAD/engine/simulation.py:81\u001b[0m, in \u001b[0;36mExecutor.get_policy_input.<locals>.execute_policy\u001b[0;34m(f)\u001b[0m\n\u001b[1;32m     80\u001b[0m \u001b[38;5;28;01mdef\u001b[39;00m \u001b[38;5;21mexecute_policy\u001b[39m(f: PolicyFunction) \u001b[38;5;241m-\u001b[39m\u001b[38;5;241m>\u001b[39m \u001b[38;5;28mdict\u001b[39m:\n\u001b[0;32m---> 81\u001b[0m     \u001b[38;5;28;01mreturn\u001b[39;00m policy_scope_tuner(args, additional_objs, f)\n",
      "File \u001b[0;32m~/anaconda3/lib/python3.11/site-packages/cadCAD/engine/simulation.py:23\u001b[0m, in \u001b[0;36mpolicy_scope_tuner\u001b[0;34m(args, additional_objs, f)\u001b[0m\n\u001b[1;32m     21\u001b[0m (sweep_dict, sub_step, sL, s) \u001b[38;5;241m=\u001b[39m args\n\u001b[1;32m     22\u001b[0m \u001b[38;5;28;01mif\u001b[39;00m additional_objs \u001b[38;5;129;01mis\u001b[39;00m \u001b[38;5;28;01mNone\u001b[39;00m:\n\u001b[0;32m---> 23\u001b[0m     \u001b[38;5;28;01mreturn\u001b[39;00m f(sweep_dict, sub_step, sL, s)\n\u001b[1;32m     24\u001b[0m \u001b[38;5;28;01melse\u001b[39;00m:\n\u001b[1;32m     25\u001b[0m     \u001b[38;5;28;01mreturn\u001b[39;00m f(sweep_dict, sub_step, sL, s, additional_objs)\n",
      "File \u001b[0;32m~/repos/bsci/aztec-gddt/notebooks/../aztec_gddt/logic.py:395\u001b[0m, in \u001b[0;36mp_commit_bond\u001b[0;34m(params, _2, history, state)\u001b[0m\n\u001b[1;32m    390\u001b[0m SAFETY_BUFFER \u001b[38;5;241m=\u001b[39m \u001b[38;5;241m2\u001b[39m \u001b[38;5;241m*\u001b[39m fee  \u001b[38;5;66;03m# HACK:\u001b[39;00m\n\u001b[1;32m    392\u001b[0m \u001b[38;5;66;03m# expected_rewards = (\u001b[39;00m\n\u001b[1;32m    393\u001b[0m \u001b[38;5;66;03m#    state[\"cumm_block_rewards\"] - history[-1][0][\"cumm_block_rewards\"]\u001b[39;00m\n\u001b[1;32m    394\u001b[0m \u001b[38;5;66;03m# )\u001b[39;00m\n\u001b[0;32m--> 395\u001b[0m expected_rewards \u001b[38;5;241m=\u001b[39m params[\u001b[38;5;124m\"\u001b[39m\u001b[38;5;124mreward_per_block\u001b[39m\u001b[38;5;124m\"\u001b[39m]\n\u001b[1;32m    396\u001b[0m expected_costs: \u001b[38;5;28mfloat\u001b[39m \u001b[38;5;241m=\u001b[39m params[\u001b[38;5;124m\"\u001b[39m\u001b[38;5;124mop_costs\u001b[39m\u001b[38;5;124m\"\u001b[39m] \u001b[38;5;241m+\u001b[39m fee \u001b[38;5;241m+\u001b[39m SAFETY_BUFFER\n\u001b[1;32m    398\u001b[0m \u001b[38;5;66;03m# Translate to ETH\u001b[39;00m\n",
      "\u001b[0;31mKeyError\u001b[0m: 'reward_per_block'"
     ]
    }
   ],
   "source": [
    "from aztec_gddt.experiment import standard_run\n",
    "\n",
    "sim_df = standard_run()"
   ]
  },
  {
   "cell_type": "code",
   "execution_count": null,
   "metadata": {},
   "outputs": [],
   "source": [
    "sim_df[\"agents\"].iloc[-1]"
   ]
  },
  {
   "cell_type": "code",
   "execution_count": null,
   "metadata": {},
   "outputs": [],
   "source": [
    "#sim_df.to_csv(\"march4_test_data.csv\")"
   ]
  },
  {
   "cell_type": "code",
   "execution_count": null,
   "metadata": {},
   "outputs": [],
   "source": [
    "sns.lineplot(x=sim_df.timestep, y=sim_df.time_l1)"
   ]
  },
  {
   "cell_type": "code",
   "execution_count": null,
   "metadata": {},
   "outputs": [],
   "source": [
    "sim_df.head(4)"
   ]
  },
  {
   "cell_type": "code",
   "execution_count": null,
   "metadata": {},
   "outputs": [],
   "source": [
    "fig_df = sim_df.copy()\n",
    "fig_df['process_order'] = fig_df.current_process.map(lambda x: x.phase.value if x is not None else None)\n",
    "fig_df['process_label'] = fig_df.current_process.map(lambda x: x.phase.name if x is not None else None)\n",
    "fig_df = fig_df.sort_values(['process_order', 'timestep'])#.query(\"time_l1 > 320 & time_l1 < 370\")\n",
    "\n",
    "\n",
    "plt.figure(figsize=(15, 5))\n",
    "sns.lineplot(x=fig_df.time_l1, \n",
    "             y=fig_df.process_label)\n",
    "\n",
    "plt.figure(figsize=(15, 5))\n",
    "sns.scatterplot(x=fig_df.time_l1, \n",
    "             y=fig_df.process_label)\n",
    "plt.show()"
   ]
  },
  {
   "cell_type": "code",
   "execution_count": null,
   "metadata": {},
   "outputs": [],
   "source": [
    "fig_df.set_index('time_l1').sort_index().process_label"
   ]
  },
  {
   "cell_type": "code",
   "execution_count": null,
   "metadata": {},
   "outputs": [],
   "source": [
    "sim_df.iloc[-1]"
   ]
  },
  {
   "cell_type": "code",
   "execution_count": null,
   "metadata": {},
   "outputs": [],
   "source": [
    "sns.lineplot(x=sim_df.time_l1, \n",
    "             y=sim_df.finalized_blocks_count)"
   ]
  },
  {
   "cell_type": "code",
   "execution_count": null,
   "metadata": {},
   "outputs": [],
   "source": [
    "sns.lineplot(x=sim_df.time_l1, \n",
    "             y=sim_df.cumm_block_rewards)"
   ]
  },
  {
   "cell_type": "code",
   "execution_count": null,
   "metadata": {},
   "outputs": [],
   "source": [
    "sim_df['balance_sequencers'] = sim_df.agents.map(lambda x: sum(el.balance for el in x.values() if el.is_sequencer == True))\n",
    "sim_df['balance_provers'] = sim_df.agents.map(lambda x: sum(el.balance for el in x.values() if el.is_prover == True))\n",
    "sim_df['balance_relays'] = sim_df.agents.map(lambda x: sum(el.balance for el in x.values() if el.is_relay == True))\n",
    "sim_df['balance_burnt'] = sim_df.agents.map(lambda x: sum(el.balance for el in x.values() if el.uuid == 'burnt'))\n",
    "sim_df['balance_l1_builder'] = sim_df.agents.map(lambda x: sum(el.balance for el in x.values() if el.uuid == 'l1-builder'))\n",
    "\n",
    "\n",
    "px.line(sim_df,\n",
    "        x='time_l1',\n",
    "        y=['balance_sequencers', \n",
    "           'balance_provers',\n",
    "           'balance_relays',\n",
    "           'balance_burnt',\n",
    "           'balance_l1_builder'],\n",
    "        log_y=True)"
   ]
  },
  {
   "cell_type": "code",
   "execution_count": null,
   "metadata": {},
   "outputs": [],
   "source": [
    "px.scatter(sim_df,\n",
    "        x='time_l1',\n",
    "        y=['gas_fee_l1', 'gas_fee_blob'])"
   ]
  },
  {
   "cell_type": "code",
   "execution_count": null,
   "metadata": {},
   "outputs": [],
   "source": [
    "px.histogram(sim_df,\n",
    "        x=['gas_fee_l1'])"
   ]
  },
  {
   "cell_type": "code",
   "execution_count": null,
   "metadata": {},
   "outputs": [],
   "source": [
    "px.histogram(sim_df,\n",
    "        x=['gas_fee_blob'])"
   ]
  },
  {
   "cell_type": "code",
   "execution_count": null,
   "metadata": {},
   "outputs": [],
   "source": [
    "sim_df.gas_fee_l1.min()"
   ]
  },
  {
   "cell_type": "code",
   "execution_count": null,
   "metadata": {},
   "outputs": [],
   "source": []
  }
 ],
 "metadata": {
  "kernelspec": {
   "display_name": "Python 3 (ipykernel)",
   "language": "python",
   "name": "python3"
  },
  "language_info": {
   "codemirror_mode": {
    "name": "ipython",
    "version": 3
   },
   "file_extension": ".py",
   "mimetype": "text/x-python",
   "name": "python",
   "nbconvert_exporter": "python",
   "pygments_lexer": "ipython3",
   "version": "3.11.5"
  }
 },
 "nbformat": 4,
 "nbformat_minor": 4
}
