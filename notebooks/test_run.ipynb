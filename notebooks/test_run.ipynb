{
 "cells": [
  {
   "cell_type": "code",
   "execution_count": 1,
   "metadata": {},
   "outputs": [],
   "source": [
    "import sys\n",
    "sys.path.append('../')\n",
    "\n",
    "import pandas as pd\n",
    "import os\n",
    "import plotly.express as px"
   ]
  },
  {
   "cell_type": "code",
   "execution_count": 2,
   "metadata": {},
   "outputs": [
    {
     "name": "stdout",
     "output_type": "stream",
     "text": [
      "\n",
      "                  ___________    ____\n",
      "  ________ __ ___/ / ____/   |  / __ \\\n",
      " / ___/ __` / __  / /   / /| | / / / /\n",
      "/ /__/ /_/ / /_/ / /___/ ___ |/ /_/ /\n",
      "\\___/\\__,_/\\__,_/\\____/_/  |_/_____/\n",
      "by cadCAD\n",
      "\n",
      "cadCAD Version: 0.5.0\n",
      "Execution Mode: local_proc\n",
      "Simulation Dimensions:\n",
      "Entire Simulation: (Models, Unique Timesteps, Params, Total Runs, Sub-States) = (1, 360, 24, 1, 13)\n",
      "     Simulation 0: (Timesteps, Params, Runs, Sub-States) = (360, 24, 1, 13)\n"
     ]
    },
    {
     "data": {
      "application/vnd.jupyter.widget-view+json": {
       "model_id": "dc27e7fa1d7147a8863a31a8a0f00f35",
       "version_major": 2,
       "version_minor": 0
      },
      "text/plain": [
       "Initializing configurations:   0%|          | 0/1 [00:00<?, ?it/s]"
      ]
     },
     "metadata": {},
     "output_type": "display_data"
    },
    {
     "name": "stdout",
     "output_type": "stream",
     "text": [
      "Execution Method: single_proc_exec\n",
      "Execution Mode: single_threaded\n"
     ]
    },
    {
     "data": {
      "application/vnd.jupyter.widget-view+json": {
       "model_id": "e4712580b4324dfc9053e66a63f8b19a",
       "version_major": 2,
       "version_minor": 0
      },
      "text/plain": [
       "Flattening results:   0%|          | 0/2161 [00:00<?, ?it/s]"
      ]
     },
     "metadata": {},
     "output_type": "display_data"
    },
    {
     "name": "stdout",
     "output_type": "stream",
     "text": [
      "Total execution time: 1.03s\n"
     ]
    }
   ],
   "source": [
    "from aztec_gddt.experiment import standard_run\n",
    "\n",
    "sim_df = standard_run().set_index('time_l1')"
   ]
  },
  {
   "cell_type": "code",
   "execution_count": 11,
   "metadata": {},
   "outputs": [
    {
     "data": {
      "text/plain": [
       "array([nan,  1.])"
      ]
     },
     "execution_count": 11,
     "metadata": {},
     "output_type": "execute_result"
    }
   ],
   "source": [
    "sim_df.delta_blocks.unique()"
   ]
  },
  {
   "cell_type": "code",
   "execution_count": 4,
   "metadata": {},
   "outputs": [
    {
     "data": {
      "text/html": [
       "<div>\n",
       "<style scoped>\n",
       "    .dataframe tbody tr th:only-of-type {\n",
       "        vertical-align: middle;\n",
       "    }\n",
       "\n",
       "    .dataframe tbody tr th {\n",
       "        vertical-align: top;\n",
       "    }\n",
       "\n",
       "    .dataframe thead th {\n",
       "        text-align: right;\n",
       "    }\n",
       "</style>\n",
       "<table border=\"1\" class=\"dataframe\">\n",
       "  <thead>\n",
       "    <tr style=\"text-align: right;\">\n",
       "      <th></th>\n",
       "      <th>delta_l1_blocks</th>\n",
       "      <th>advance_l1_blocks</th>\n",
       "      <th>agents</th>\n",
       "      <th>current_process</th>\n",
       "      <th>transactions</th>\n",
       "      <th>gas_fee_l1</th>\n",
       "      <th>gas_fee_blob</th>\n",
       "      <th>finalized_blocks_count</th>\n",
       "      <th>cumm_block_rewards</th>\n",
       "      <th>cumm_fee_cashback</th>\n",
       "      <th>...</th>\n",
       "      <th>tx_proof_reveal_probability</th>\n",
       "      <th>rollup_proof_reveal_probability</th>\n",
       "      <th>commit_bond_reveal_probability</th>\n",
       "      <th>gas_threshold_for_tx</th>\n",
       "      <th>blob_gas_threshold_for_tx</th>\n",
       "      <th>proving_marketplace_usage_probability</th>\n",
       "      <th>rewards_to_provers</th>\n",
       "      <th>rewards_to_relay</th>\n",
       "      <th>gas_estimators</th>\n",
       "      <th>tx_estimators</th>\n",
       "    </tr>\n",
       "    <tr>\n",
       "      <th>time_l1</th>\n",
       "      <th></th>\n",
       "      <th></th>\n",
       "      <th></th>\n",
       "      <th></th>\n",
       "      <th></th>\n",
       "      <th></th>\n",
       "      <th></th>\n",
       "      <th></th>\n",
       "      <th></th>\n",
       "      <th></th>\n",
       "      <th></th>\n",
       "      <th></th>\n",
       "      <th></th>\n",
       "      <th></th>\n",
       "      <th></th>\n",
       "      <th></th>\n",
       "      <th></th>\n",
       "      <th></th>\n",
       "      <th></th>\n",
       "      <th></th>\n",
       "      <th></th>\n",
       "    </tr>\n",
       "  </thead>\n",
       "  <tbody>\n",
       "    <tr>\n",
       "      <th>0</th>\n",
       "      <td>0</td>\n",
       "      <td>0</td>\n",
       "      <td>{6104ea00-ef41-4b34-b478-ad78b25a0e48: Agent(u...</td>\n",
       "      <td>None</td>\n",
       "      <td>{}</td>\n",
       "      <td>50</td>\n",
       "      <td>7</td>\n",
       "      <td>0</td>\n",
       "      <td>10000</td>\n",
       "      <td>50</td>\n",
       "      <td>...</td>\n",
       "      <td>0.3</td>\n",
       "      <td>0.3</td>\n",
       "      <td>0.3</td>\n",
       "      <td>70</td>\n",
       "      <td>50</td>\n",
       "      <td>0.3</td>\n",
       "      <td>0.495</td>\n",
       "      <td>0.01</td>\n",
       "      <td>L1GasEstimators(proposal=&lt;function &lt;lambda&gt; at...</td>\n",
       "      <td>UserTransactionEstimators(transaction_count=&lt;f...</td>\n",
       "    </tr>\n",
       "    <tr>\n",
       "      <th>1</th>\n",
       "      <td>0</td>\n",
       "      <td>0</td>\n",
       "      <td>{6104ea00-ef41-4b34-b478-ad78b25a0e48: Agent(u...</td>\n",
       "      <td>Process(uuid=UUID('5a03bf23-e72e-4a51-8fa0-847...</td>\n",
       "      <td>{}</td>\n",
       "      <td>50</td>\n",
       "      <td>7</td>\n",
       "      <td>0</td>\n",
       "      <td>10000</td>\n",
       "      <td>50</td>\n",
       "      <td>...</td>\n",
       "      <td>0.3</td>\n",
       "      <td>0.3</td>\n",
       "      <td>0.3</td>\n",
       "      <td>70</td>\n",
       "      <td>50</td>\n",
       "      <td>0.3</td>\n",
       "      <td>0.495</td>\n",
       "      <td>0.01</td>\n",
       "      <td>L1GasEstimators(proposal=&lt;function &lt;lambda&gt; at...</td>\n",
       "      <td>UserTransactionEstimators(transaction_count=&lt;f...</td>\n",
       "    </tr>\n",
       "    <tr>\n",
       "      <th>2</th>\n",
       "      <td>0</td>\n",
       "      <td>0</td>\n",
       "      <td>{6104ea00-ef41-4b34-b478-ad78b25a0e48: Agent(u...</td>\n",
       "      <td>Process(uuid=UUID('5a03bf23-e72e-4a51-8fa0-847...</td>\n",
       "      <td>{60e22582-d31e-4ef0-b809-fe23fc1239c8: Proposa...</td>\n",
       "      <td>50</td>\n",
       "      <td>7</td>\n",
       "      <td>0</td>\n",
       "      <td>10000</td>\n",
       "      <td>50</td>\n",
       "      <td>...</td>\n",
       "      <td>0.3</td>\n",
       "      <td>0.3</td>\n",
       "      <td>0.3</td>\n",
       "      <td>70</td>\n",
       "      <td>50</td>\n",
       "      <td>0.3</td>\n",
       "      <td>0.495</td>\n",
       "      <td>0.01</td>\n",
       "      <td>L1GasEstimators(proposal=&lt;function &lt;lambda&gt; at...</td>\n",
       "      <td>UserTransactionEstimators(transaction_count=&lt;f...</td>\n",
       "    </tr>\n",
       "    <tr>\n",
       "      <th>3</th>\n",
       "      <td>0</td>\n",
       "      <td>0</td>\n",
       "      <td>{6104ea00-ef41-4b34-b478-ad78b25a0e48: Agent(u...</td>\n",
       "      <td>Process(uuid=UUID('5a03bf23-e72e-4a51-8fa0-847...</td>\n",
       "      <td>{60e22582-d31e-4ef0-b809-fe23fc1239c8: Proposa...</td>\n",
       "      <td>50</td>\n",
       "      <td>7</td>\n",
       "      <td>0</td>\n",
       "      <td>10000</td>\n",
       "      <td>50</td>\n",
       "      <td>...</td>\n",
       "      <td>0.3</td>\n",
       "      <td>0.3</td>\n",
       "      <td>0.3</td>\n",
       "      <td>70</td>\n",
       "      <td>50</td>\n",
       "      <td>0.3</td>\n",
       "      <td>0.495</td>\n",
       "      <td>0.01</td>\n",
       "      <td>L1GasEstimators(proposal=&lt;function &lt;lambda&gt; at...</td>\n",
       "      <td>UserTransactionEstimators(transaction_count=&lt;f...</td>\n",
       "    </tr>\n",
       "    <tr>\n",
       "      <th>4</th>\n",
       "      <td>0</td>\n",
       "      <td>0</td>\n",
       "      <td>{6104ea00-ef41-4b34-b478-ad78b25a0e48: Agent(u...</td>\n",
       "      <td>Process(uuid=UUID('5a03bf23-e72e-4a51-8fa0-847...</td>\n",
       "      <td>{60e22582-d31e-4ef0-b809-fe23fc1239c8: Proposa...</td>\n",
       "      <td>50</td>\n",
       "      <td>7</td>\n",
       "      <td>0</td>\n",
       "      <td>10000</td>\n",
       "      <td>50</td>\n",
       "      <td>...</td>\n",
       "      <td>0.3</td>\n",
       "      <td>0.3</td>\n",
       "      <td>0.3</td>\n",
       "      <td>70</td>\n",
       "      <td>50</td>\n",
       "      <td>0.3</td>\n",
       "      <td>0.495</td>\n",
       "      <td>0.01</td>\n",
       "      <td>L1GasEstimators(proposal=&lt;function &lt;lambda&gt; at...</td>\n",
       "      <td>UserTransactionEstimators(transaction_count=&lt;f...</td>\n",
       "    </tr>\n",
       "    <tr>\n",
       "      <th>5</th>\n",
       "      <td>0</td>\n",
       "      <td>0</td>\n",
       "      <td>{6104ea00-ef41-4b34-b478-ad78b25a0e48: Agent(u...</td>\n",
       "      <td>Process(uuid=UUID('5a03bf23-e72e-4a51-8fa0-847...</td>\n",
       "      <td>{60e22582-d31e-4ef0-b809-fe23fc1239c8: Proposa...</td>\n",
       "      <td>50</td>\n",
       "      <td>7</td>\n",
       "      <td>0</td>\n",
       "      <td>10000</td>\n",
       "      <td>50</td>\n",
       "      <td>...</td>\n",
       "      <td>0.3</td>\n",
       "      <td>0.3</td>\n",
       "      <td>0.3</td>\n",
       "      <td>70</td>\n",
       "      <td>50</td>\n",
       "      <td>0.3</td>\n",
       "      <td>0.495</td>\n",
       "      <td>0.01</td>\n",
       "      <td>L1GasEstimators(proposal=&lt;function &lt;lambda&gt; at...</td>\n",
       "      <td>UserTransactionEstimators(transaction_count=&lt;f...</td>\n",
       "    </tr>\n",
       "    <tr>\n",
       "      <th>6</th>\n",
       "      <td>0</td>\n",
       "      <td>0</td>\n",
       "      <td>{6104ea00-ef41-4b34-b478-ad78b25a0e48: Agent(u...</td>\n",
       "      <td>Process(uuid=UUID('5a03bf23-e72e-4a51-8fa0-847...</td>\n",
       "      <td>{60e22582-d31e-4ef0-b809-fe23fc1239c8: Proposa...</td>\n",
       "      <td>50</td>\n",
       "      <td>7</td>\n",
       "      <td>0</td>\n",
       "      <td>10000</td>\n",
       "      <td>50</td>\n",
       "      <td>...</td>\n",
       "      <td>0.3</td>\n",
       "      <td>0.3</td>\n",
       "      <td>0.3</td>\n",
       "      <td>70</td>\n",
       "      <td>50</td>\n",
       "      <td>0.3</td>\n",
       "      <td>0.495</td>\n",
       "      <td>0.01</td>\n",
       "      <td>L1GasEstimators(proposal=&lt;function &lt;lambda&gt; at...</td>\n",
       "      <td>UserTransactionEstimators(transaction_count=&lt;f...</td>\n",
       "    </tr>\n",
       "    <tr>\n",
       "      <th>7</th>\n",
       "      <td>0</td>\n",
       "      <td>0</td>\n",
       "      <td>{6104ea00-ef41-4b34-b478-ad78b25a0e48: Agent(u...</td>\n",
       "      <td>Process(uuid=UUID('5a03bf23-e72e-4a51-8fa0-847...</td>\n",
       "      <td>{60e22582-d31e-4ef0-b809-fe23fc1239c8: Proposa...</td>\n",
       "      <td>50</td>\n",
       "      <td>7</td>\n",
       "      <td>0</td>\n",
       "      <td>10000</td>\n",
       "      <td>50</td>\n",
       "      <td>...</td>\n",
       "      <td>0.3</td>\n",
       "      <td>0.3</td>\n",
       "      <td>0.3</td>\n",
       "      <td>70</td>\n",
       "      <td>50</td>\n",
       "      <td>0.3</td>\n",
       "      <td>0.495</td>\n",
       "      <td>0.01</td>\n",
       "      <td>L1GasEstimators(proposal=&lt;function &lt;lambda&gt; at...</td>\n",
       "      <td>UserTransactionEstimators(transaction_count=&lt;f...</td>\n",
       "    </tr>\n",
       "    <tr>\n",
       "      <th>8</th>\n",
       "      <td>0</td>\n",
       "      <td>0</td>\n",
       "      <td>{6104ea00-ef41-4b34-b478-ad78b25a0e48: Agent(u...</td>\n",
       "      <td>Process(uuid=UUID('5a03bf23-e72e-4a51-8fa0-847...</td>\n",
       "      <td>{60e22582-d31e-4ef0-b809-fe23fc1239c8: Proposa...</td>\n",
       "      <td>50</td>\n",
       "      <td>7</td>\n",
       "      <td>0</td>\n",
       "      <td>10000</td>\n",
       "      <td>50</td>\n",
       "      <td>...</td>\n",
       "      <td>0.3</td>\n",
       "      <td>0.3</td>\n",
       "      <td>0.3</td>\n",
       "      <td>70</td>\n",
       "      <td>50</td>\n",
       "      <td>0.3</td>\n",
       "      <td>0.495</td>\n",
       "      <td>0.01</td>\n",
       "      <td>L1GasEstimators(proposal=&lt;function &lt;lambda&gt; at...</td>\n",
       "      <td>UserTransactionEstimators(transaction_count=&lt;f...</td>\n",
       "    </tr>\n",
       "    <tr>\n",
       "      <th>9</th>\n",
       "      <td>0</td>\n",
       "      <td>0</td>\n",
       "      <td>{6104ea00-ef41-4b34-b478-ad78b25a0e48: Agent(u...</td>\n",
       "      <td>Process(uuid=UUID('5a03bf23-e72e-4a51-8fa0-847...</td>\n",
       "      <td>{60e22582-d31e-4ef0-b809-fe23fc1239c8: Proposa...</td>\n",
       "      <td>50</td>\n",
       "      <td>7</td>\n",
       "      <td>0</td>\n",
       "      <td>10000</td>\n",
       "      <td>50</td>\n",
       "      <td>...</td>\n",
       "      <td>0.3</td>\n",
       "      <td>0.3</td>\n",
       "      <td>0.3</td>\n",
       "      <td>70</td>\n",
       "      <td>50</td>\n",
       "      <td>0.3</td>\n",
       "      <td>0.495</td>\n",
       "      <td>0.01</td>\n",
       "      <td>L1GasEstimators(proposal=&lt;function &lt;lambda&gt; at...</td>\n",
       "      <td>UserTransactionEstimators(transaction_count=&lt;f...</td>\n",
       "    </tr>\n",
       "  </tbody>\n",
       "</table>\n",
       "<p>10 rows × 43 columns</p>\n",
       "</div>"
      ],
      "text/plain": [
       "         delta_l1_blocks  advance_l1_blocks  \\\n",
       "time_l1                                       \n",
       "0                      0                  0   \n",
       "1                      0                  0   \n",
       "2                      0                  0   \n",
       "3                      0                  0   \n",
       "4                      0                  0   \n",
       "5                      0                  0   \n",
       "6                      0                  0   \n",
       "7                      0                  0   \n",
       "8                      0                  0   \n",
       "9                      0                  0   \n",
       "\n",
       "                                                    agents  \\\n",
       "time_l1                                                      \n",
       "0        {6104ea00-ef41-4b34-b478-ad78b25a0e48: Agent(u...   \n",
       "1        {6104ea00-ef41-4b34-b478-ad78b25a0e48: Agent(u...   \n",
       "2        {6104ea00-ef41-4b34-b478-ad78b25a0e48: Agent(u...   \n",
       "3        {6104ea00-ef41-4b34-b478-ad78b25a0e48: Agent(u...   \n",
       "4        {6104ea00-ef41-4b34-b478-ad78b25a0e48: Agent(u...   \n",
       "5        {6104ea00-ef41-4b34-b478-ad78b25a0e48: Agent(u...   \n",
       "6        {6104ea00-ef41-4b34-b478-ad78b25a0e48: Agent(u...   \n",
       "7        {6104ea00-ef41-4b34-b478-ad78b25a0e48: Agent(u...   \n",
       "8        {6104ea00-ef41-4b34-b478-ad78b25a0e48: Agent(u...   \n",
       "9        {6104ea00-ef41-4b34-b478-ad78b25a0e48: Agent(u...   \n",
       "\n",
       "                                           current_process  \\\n",
       "time_l1                                                      \n",
       "0                                                     None   \n",
       "1        Process(uuid=UUID('5a03bf23-e72e-4a51-8fa0-847...   \n",
       "2        Process(uuid=UUID('5a03bf23-e72e-4a51-8fa0-847...   \n",
       "3        Process(uuid=UUID('5a03bf23-e72e-4a51-8fa0-847...   \n",
       "4        Process(uuid=UUID('5a03bf23-e72e-4a51-8fa0-847...   \n",
       "5        Process(uuid=UUID('5a03bf23-e72e-4a51-8fa0-847...   \n",
       "6        Process(uuid=UUID('5a03bf23-e72e-4a51-8fa0-847...   \n",
       "7        Process(uuid=UUID('5a03bf23-e72e-4a51-8fa0-847...   \n",
       "8        Process(uuid=UUID('5a03bf23-e72e-4a51-8fa0-847...   \n",
       "9        Process(uuid=UUID('5a03bf23-e72e-4a51-8fa0-847...   \n",
       "\n",
       "                                              transactions  gas_fee_l1  \\\n",
       "time_l1                                                                  \n",
       "0                                                       {}          50   \n",
       "1                                                       {}          50   \n",
       "2        {60e22582-d31e-4ef0-b809-fe23fc1239c8: Proposa...          50   \n",
       "3        {60e22582-d31e-4ef0-b809-fe23fc1239c8: Proposa...          50   \n",
       "4        {60e22582-d31e-4ef0-b809-fe23fc1239c8: Proposa...          50   \n",
       "5        {60e22582-d31e-4ef0-b809-fe23fc1239c8: Proposa...          50   \n",
       "6        {60e22582-d31e-4ef0-b809-fe23fc1239c8: Proposa...          50   \n",
       "7        {60e22582-d31e-4ef0-b809-fe23fc1239c8: Proposa...          50   \n",
       "8        {60e22582-d31e-4ef0-b809-fe23fc1239c8: Proposa...          50   \n",
       "9        {60e22582-d31e-4ef0-b809-fe23fc1239c8: Proposa...          50   \n",
       "\n",
       "         gas_fee_blob  finalized_blocks_count  cumm_block_rewards  \\\n",
       "time_l1                                                             \n",
       "0                   7                       0               10000   \n",
       "1                   7                       0               10000   \n",
       "2                   7                       0               10000   \n",
       "3                   7                       0               10000   \n",
       "4                   7                       0               10000   \n",
       "5                   7                       0               10000   \n",
       "6                   7                       0               10000   \n",
       "7                   7                       0               10000   \n",
       "8                   7                       0               10000   \n",
       "9                   7                       0               10000   \n",
       "\n",
       "         cumm_fee_cashback  ...  tx_proof_reveal_probability  \\\n",
       "time_l1                     ...                                \n",
       "0                       50  ...                          0.3   \n",
       "1                       50  ...                          0.3   \n",
       "2                       50  ...                          0.3   \n",
       "3                       50  ...                          0.3   \n",
       "4                       50  ...                          0.3   \n",
       "5                       50  ...                          0.3   \n",
       "6                       50  ...                          0.3   \n",
       "7                       50  ...                          0.3   \n",
       "8                       50  ...                          0.3   \n",
       "9                       50  ...                          0.3   \n",
       "\n",
       "        rollup_proof_reveal_probability  commit_bond_reveal_probability  \\\n",
       "time_l1                                                                   \n",
       "0                                   0.3                             0.3   \n",
       "1                                   0.3                             0.3   \n",
       "2                                   0.3                             0.3   \n",
       "3                                   0.3                             0.3   \n",
       "4                                   0.3                             0.3   \n",
       "5                                   0.3                             0.3   \n",
       "6                                   0.3                             0.3   \n",
       "7                                   0.3                             0.3   \n",
       "8                                   0.3                             0.3   \n",
       "9                                   0.3                             0.3   \n",
       "\n",
       "         gas_threshold_for_tx  blob_gas_threshold_for_tx  \\\n",
       "time_l1                                                    \n",
       "0                          70                         50   \n",
       "1                          70                         50   \n",
       "2                          70                         50   \n",
       "3                          70                         50   \n",
       "4                          70                         50   \n",
       "5                          70                         50   \n",
       "6                          70                         50   \n",
       "7                          70                         50   \n",
       "8                          70                         50   \n",
       "9                          70                         50   \n",
       "\n",
       "         proving_marketplace_usage_probability  rewards_to_provers  \\\n",
       "time_l1                                                              \n",
       "0                                          0.3               0.495   \n",
       "1                                          0.3               0.495   \n",
       "2                                          0.3               0.495   \n",
       "3                                          0.3               0.495   \n",
       "4                                          0.3               0.495   \n",
       "5                                          0.3               0.495   \n",
       "6                                          0.3               0.495   \n",
       "7                                          0.3               0.495   \n",
       "8                                          0.3               0.495   \n",
       "9                                          0.3               0.495   \n",
       "\n",
       "         rewards_to_relay                                     gas_estimators  \\\n",
       "time_l1                                                                        \n",
       "0                    0.01  L1GasEstimators(proposal=<function <lambda> at...   \n",
       "1                    0.01  L1GasEstimators(proposal=<function <lambda> at...   \n",
       "2                    0.01  L1GasEstimators(proposal=<function <lambda> at...   \n",
       "3                    0.01  L1GasEstimators(proposal=<function <lambda> at...   \n",
       "4                    0.01  L1GasEstimators(proposal=<function <lambda> at...   \n",
       "5                    0.01  L1GasEstimators(proposal=<function <lambda> at...   \n",
       "6                    0.01  L1GasEstimators(proposal=<function <lambda> at...   \n",
       "7                    0.01  L1GasEstimators(proposal=<function <lambda> at...   \n",
       "8                    0.01  L1GasEstimators(proposal=<function <lambda> at...   \n",
       "9                    0.01  L1GasEstimators(proposal=<function <lambda> at...   \n",
       "\n",
       "                                             tx_estimators  \n",
       "time_l1                                                     \n",
       "0        UserTransactionEstimators(transaction_count=<f...  \n",
       "1        UserTransactionEstimators(transaction_count=<f...  \n",
       "2        UserTransactionEstimators(transaction_count=<f...  \n",
       "3        UserTransactionEstimators(transaction_count=<f...  \n",
       "4        UserTransactionEstimators(transaction_count=<f...  \n",
       "5        UserTransactionEstimators(transaction_count=<f...  \n",
       "6        UserTransactionEstimators(transaction_count=<f...  \n",
       "7        UserTransactionEstimators(transaction_count=<f...  \n",
       "8        UserTransactionEstimators(transaction_count=<f...  \n",
       "9        UserTransactionEstimators(transaction_count=<f...  \n",
       "\n",
       "[10 rows x 43 columns]"
      ]
     },
     "execution_count": 4,
     "metadata": {},
     "output_type": "execute_result"
    }
   ],
   "source": [
    "sim_df.head(10)"
   ]
  },
  {
   "cell_type": "code",
   "execution_count": 5,
   "metadata": {},
   "outputs": [
    {
     "data": {
      "text/plain": [
       "<Axes: xlabel='time_l1'>"
      ]
     },
     "execution_count": 5,
     "metadata": {},
     "output_type": "execute_result"
    },
    {
     "data": {
      "image/png": "[encoded data removed]",
      "text/plain": [
       "<Figure size 640x480 with 1 Axes>"
      ]
     },
     "metadata": {},
     "output_type": "display_data"
    }
   ],
   "source": [
    "sim_df.current_process.map(lambda x: x.phase if x is not None else None).plot()"
   ]
  },
  {
   "cell_type": "code",
   "execution_count": 6,
   "metadata": {},
   "outputs": [
    {
     "data": {
      "text/plain": [
       "<Axes: xlabel='time_l1'>"
      ]
     },
     "execution_count": 6,
     "metadata": {},
     "output_type": "execute_result"
    },
    {
     "data": {
      "image/png": "[encoded data removed]",
      "text/plain": [
       "<Figure size 640x480 with 1 Axes>"
      ]
     },
     "metadata": {},
     "output_type": "display_data"
    }
   ],
   "source": [
    "sim_df.finalized_blocks_count.plot()"
   ]
  },
  {
   "cell_type": "code",
   "execution_count": 7,
   "metadata": {},
   "outputs": [
    {
     "data": {
      "text/plain": [
       "<Axes: xlabel='time_l1'>"
      ]
     },
     "execution_count": 7,
     "metadata": {},
     "output_type": "execute_result"
    },
    {
     "data": {
      "image/png": "[encoded data removed]",
      "text/plain": [
       "<Figure size 640x480 with 1 Axes>"
      ]
     },
     "metadata": {},
     "output_type": "display_data"
    }
   ],
   "source": [
    "sim_df.cumm_block_rewards.plot()"
   ]
  },
  {
   "cell_type": "code",
   "execution_count": 8,
   "metadata": {},
   "outputs": [
    {
     "data": {
      "text/plain": [
       "TokenSupply(circulating=194400635.75340158, staked=0.0, burnt=50.0, issued=10050.0)"
      ]
     },
     "execution_count": 8,
     "metadata": {},
     "output_type": "execute_result"
    }
   ],
   "source": [
    "sim_df.token_supply.iloc[-100]"
   ]
  },
  {
   "cell_type": "code",
   "execution_count": 9,
   "metadata": {},
   "outputs": [
    {
     "data": {
      "text/plain": [
       "<Axes: xlabel='time_l1'>"
      ]
     },
     "execution_count": 9,
     "metadata": {},
     "output_type": "execute_result"
    },
    {
     "data": {
      "image/png": "[encoded data removed]",
      "text/plain": [
       "<Figure size 640x480 with 1 Axes>"
      ]
     },
     "metadata": {},
     "output_type": "display_data"
    }
   ],
   "source": [
    "sim_df.cumm_block_rewards.diff().plot()"
   ]
  },
  {
   "cell_type": "code",
   "execution_count": 10,
   "metadata": {},
   "outputs": [
    {
     "data": {
      "text/plain": [
       "<Axes: xlabel='time_l1'>"
      ]
     },
     "execution_count": 10,
     "metadata": {},
     "output_type": "execute_result"
    },
    {
     "data": {
      "image/png": "[encoded data removed]",
      "text/plain": [
       "<Figure size 640x480 with 1 Axes>"
      ]
     },
     "metadata": {},
     "output_type": "display_data"
    }
   ],
   "source": [
    "sim_df.cumm_fee_cashback.diff().plot()"
   ]
  },
  {
   "cell_type": "code",
   "execution_count": null,
   "metadata": {},
   "outputs": [],
   "source": []
  }
 ],
 "metadata": {
  "kernelspec": {
   "display_name": "base",
   "language": "python",
   "name": "python3"
  },
  "language_info": {
   "codemirror_mode": {
    "name": "ipython",
    "version": 3
   },
   "file_extension": ".py",
   "mimetype": "text/x-python",
   "name": "python",
   "nbconvert_exporter": "python",
   "pygments_lexer": "ipython3",
   "version": "3.11.0"
  }
 },
 "nbformat": 4,
 "nbformat_minor": 2
}
