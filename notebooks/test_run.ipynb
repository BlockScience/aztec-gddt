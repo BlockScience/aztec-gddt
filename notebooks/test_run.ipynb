{
 "cells": [
  {
   "cell_type": "code",
   "execution_count": 2,
   "metadata": {},
   "outputs": [],
   "source": [
    "import sys\n",
    "sys.path.append('../')\n",
    "\n",
    "import pandas as pd\n",
    "import os\n",
    "import plotly.express as px"
   ]
  },
  {
   "cell_type": "code",
   "execution_count": 3,
   "metadata": {},
   "outputs": [
    {
     "name": "stderr",
     "output_type": "stream",
     "text": [
      "/opt/homebrew/Caskroom/miniconda/base/lib/python3.11/site-packages/tqdm/auto.py:21: TqdmWarning: IProgress not found. Please update jupyter and ipywidgets. See https://ipywidgets.readthedocs.io/en/stable/user_install.html\n",
      "  from .autonotebook import tqdm as notebook_tqdm\n"
     ]
    },
    {
     "name": "stdout",
     "output_type": "stream",
     "text": [
      "\n",
      "                  ___________    ____\n",
      "  ________ __ ___/ / ____/   |  / __ \\\n",
      " / ___/ __` / __  / /   / /| | / / / /\n",
      "/ /__/ /_/ / /_/ / /___/ ___ |/ /_/ /\n",
      "\\___/\\__,_/\\__,_/\\____/_/  |_/_____/\n",
      "by cadCAD\n",
      "\n",
      "cadCAD Version: 0.4.28\n",
      "Execution Mode: local_proc\n",
      "Simulation Dimensions:\n",
      "Entire Simulation: (Models, Unique Timesteps, Params, Total Runs, Sub-States) = (1, 360, 15, 1, 2)\n",
      "     Simulation 0: (Timesteps, Params, Runs, Sub-States) = (360, 15, 1, 2)\n"
     ]
    },
    {
     "name": "stderr",
     "output_type": "stream",
     "text": [
      "Initializing configurations: 100%|██████████| 1/1 [00:00<00:00, 87.21it/s]\n"
     ]
    },
    {
     "name": "stdout",
     "output_type": "stream",
     "text": [
      "Execution Method: local_simulations\n",
      "Execution Mode: single_threaded\n"
     ]
    },
    {
     "ename": "KeyError",
     "evalue": "'time_l1'",
     "output_type": "error",
     "traceback": [
      "\u001b[0;31m---------------------------------------------------------------------------\u001b[0m",
      "\u001b[0;31mKeyError\u001b[0m                                  Traceback (most recent call last)",
      "\u001b[1;32m/Users/danlessa/repos/bsci/aztec-gddt/notebooks/test_run.ipynb Cell 2\u001b[0m line \u001b[0;36m3\n\u001b[1;32m      <a href='vscode-notebook-cell:/Users/danlessa/repos/bsci/aztec-gddt/notebooks/test_run.ipynb#W1sZmlsZQ%3D%3D?line=0'>1</a>\u001b[0m \u001b[39mfrom\u001b[39;00m \u001b[39maztec_gddt\u001b[39;00m\u001b[39m.\u001b[39;00m\u001b[39mexperiment\u001b[39;00m \u001b[39mimport\u001b[39;00m standard_run\n\u001b[0;32m----> <a href='vscode-notebook-cell:/Users/danlessa/repos/bsci/aztec-gddt/notebooks/test_run.ipynb#W1sZmlsZQ%3D%3D?line=2'>3</a>\u001b[0m sim_df \u001b[39m=\u001b[39m standard_run()\n",
      "File \u001b[0;32m~/repos/bsci/aztec-gddt/notebooks/../aztec_gddt/experiment.py:32\u001b[0m, in \u001b[0;36mstandard_run\u001b[0;34m()\u001b[0m\n\u001b[1;32m     25\u001b[0m sim_args \u001b[39m=\u001b[39m (INITIAL_STATE,\n\u001b[1;32m     26\u001b[0m             sweep_params,\n\u001b[1;32m     27\u001b[0m             AZTEC_MODEL_BLOCKS,\n\u001b[1;32m     28\u001b[0m             N_timesteps,\n\u001b[1;32m     29\u001b[0m             N_samples)\n\u001b[1;32m     31\u001b[0m \u001b[39m# Run simulation\u001b[39;00m\n\u001b[0;32m---> 32\u001b[0m sim_df \u001b[39m=\u001b[39m easy_run(\u001b[39m*\u001b[39msim_args)\n\u001b[1;32m     33\u001b[0m \u001b[39mreturn\u001b[39;00m sim_df\n",
      "File \u001b[0;32m/opt/homebrew/Caskroom/miniconda/base/lib/python3.11/site-packages/cadCAD_tools/execution/easy_run.py:54\u001b[0m, in \u001b[0;36measy_run\u001b[0;34m(state_variables, params, psubs, N_timesteps, N_samples, use_label, assign_params, drop_substeps, exec_mode)\u001b[0m\n\u001b[1;32m     51\u001b[0m executor \u001b[39m=\u001b[39m Executor(exec_context\u001b[39m=\u001b[39mexec_context, configs\u001b[39m=\u001b[39mconfigs)\n\u001b[1;32m     53\u001b[0m \u001b[39m# Execute the cadCAD experiment\u001b[39;00m\n\u001b[0;32m---> 54\u001b[0m (records, tensor_field, _) \u001b[39m=\u001b[39m executor\u001b[39m.\u001b[39mexecute()\n\u001b[1;32m     56\u001b[0m \u001b[39m# Parse the output as a pandas DataFrame\u001b[39;00m\n\u001b[1;32m     57\u001b[0m df \u001b[39m=\u001b[39m pd\u001b[39m.\u001b[39mDataFrame(records)\n",
      "File \u001b[0;32m/opt/homebrew/Caskroom/miniconda/base/lib/python3.11/site-packages/cadCAD/engine/__init__.py:156\u001b[0m, in \u001b[0;36mExecutor.execute\u001b[0;34m(self)\u001b[0m\n\u001b[1;32m    153\u001b[0m         \u001b[39mself\u001b[39m\u001b[39m.\u001b[39mexec_context, \u001b[39mself\u001b[39m\u001b[39m.\u001b[39mexec_method \u001b[39m=\u001b[39m auto_mode_switcher(config_amt)\n\u001b[1;32m    155\u001b[0m     \u001b[39mprint\u001b[39m(\u001b[39m\"\u001b[39m\u001b[39mExecution Method: \u001b[39m\u001b[39m\"\u001b[39m \u001b[39m+\u001b[39m \u001b[39mself\u001b[39m\u001b[39m.\u001b[39mexec_method\u001b[39m.\u001b[39m\u001b[39m__name__\u001b[39m)\n\u001b[0;32m--> 156\u001b[0m     simulations_results \u001b[39m=\u001b[39m \u001b[39mself\u001b[39m\u001b[39m.\u001b[39mexec_method(\n\u001b[1;32m    157\u001b[0m         sim_executors, var_dict_list, states_lists, configs_structs, env_processes_list, Ts, SimIDs, RunIDs,\n\u001b[1;32m    158\u001b[0m         ExpIDs, SubsetIDs, SubsetWindows, original_N\n\u001b[1;32m    159\u001b[0m     )\n\u001b[1;32m    161\u001b[0m     final_result \u001b[39m=\u001b[39m get_final_results(simulations_results, partial_state_updates, eps, sessions, remote_threshold)\n\u001b[1;32m    162\u001b[0m \u001b[39melif\u001b[39;00m \u001b[39mself\u001b[39m\u001b[39m.\u001b[39mexec_context \u001b[39m==\u001b[39m ExecutionMode\u001b[39m.\u001b[39mdistributed:\n",
      "File \u001b[0;32m/opt/homebrew/Caskroom/miniconda/base/lib/python3.11/site-packages/cadCAD/engine/execution.py:124\u001b[0m, in \u001b[0;36mlocal_simulations\u001b[0;34m(simulation_execs, var_dict_list, states_lists, configs_structs, env_processes_list, Ts, SimIDs, Ns, ExpIDs, SubsetIDs, SubsetWindows, configured_n)\u001b[0m\n\u001b[1;32m    122\u001b[0m \u001b[39mif\u001b[39;00m config_amt \u001b[39m==\u001b[39m \u001b[39m1\u001b[39m: \u001b[39m# and configured_n != 1\u001b[39;00m\n\u001b[1;32m    123\u001b[0m     _params \u001b[39m=\u001b[39m var_dict_list[\u001b[39m0\u001b[39m]\n\u001b[0;32m--> 124\u001b[0m     \u001b[39mreturn\u001b[39;00m single_proc_exec(\n\u001b[1;32m    125\u001b[0m         simulation_execs, _params, states_lists, configs_structs, env_processes_list,\n\u001b[1;32m    126\u001b[0m         Ts, SimIDs, Ns, ExpIDs, SubsetIDs, SubsetWindows, configured_n\n\u001b[1;32m    127\u001b[0m     )\n\u001b[1;32m    128\u001b[0m \u001b[39melif\u001b[39;00m config_amt \u001b[39m>\u001b[39m \u001b[39m1\u001b[39m: \u001b[39m# and configured_n != 1\u001b[39;00m\n\u001b[1;32m    129\u001b[0m     _params \u001b[39m=\u001b[39m var_dict_list\n",
      "File \u001b[0;32m/opt/homebrew/Caskroom/miniconda/base/lib/python3.11/site-packages/cadCAD/engine/execution.py:34\u001b[0m, in \u001b[0;36msingle_proc_exec\u001b[0;34m(simulation_execs, var_dict_list, states_lists, configs_structs, env_processes_list, Ts, SimIDs, Ns, ExpIDs, SubsetIDs, SubsetWindows, configured_n)\u001b[0m\n\u001b[1;32m     27\u001b[0m params \u001b[39m=\u001b[39m [\n\u001b[1;32m     28\u001b[0m     simulation_execs, states_lists, configs_structs, env_processes_list,\n\u001b[1;32m     29\u001b[0m     Ts, SimIDs, Ns, SubsetIDs, SubsetWindows\n\u001b[1;32m     30\u001b[0m ]\n\u001b[1;32m     31\u001b[0m simulation_exec, states_list, config, env_processes, T, sim_id, N, subset_id, subset_window \u001b[39m=\u001b[39m \u001b[39mlist\u001b[39m(\n\u001b[1;32m     32\u001b[0m     \u001b[39mmap\u001b[39m(\u001b[39mlambda\u001b[39;00m x: x\u001b[39m.\u001b[39mpop(), params)\n\u001b[1;32m     33\u001b[0m )\n\u001b[0;32m---> 34\u001b[0m result \u001b[39m=\u001b[39m simulation_exec(\n\u001b[1;32m     35\u001b[0m     var_dict_list, states_list, config, env_processes, T, sim_id, N, subset_id, subset_window, configured_n\n\u001b[1;32m     36\u001b[0m )\n\u001b[1;32m     37\u001b[0m \u001b[39mreturn\u001b[39;00m flatten(result)\n",
      "File \u001b[0;32m/opt/homebrew/Caskroom/miniconda/base/lib/python3.11/site-packages/cadCAD/engine/simulation.py:301\u001b[0m, in \u001b[0;36mExecutor.simulation\u001b[0;34m(self, sweep_dict, states_list, configs, env_processes, time_seq, simulation_id, run, subset_id, subset_window, configured_N, additional_objs)\u001b[0m\n\u001b[1;32m    296\u001b[0m     \u001b[39mdel\u001b[39;00m states_list_copy\n\u001b[1;32m    298\u001b[0m     \u001b[39mreturn\u001b[39;00m first_timestep_per_run\n\u001b[1;32m    300\u001b[0m pipe_run \u001b[39m=\u001b[39m flatten(\n\u001b[0;32m--> 301\u001b[0m     [execute_run(sweep_dict, states_list, configs,\n\u001b[1;32m    302\u001b[0m                  env_processes, time_seq, run)]\n\u001b[1;32m    303\u001b[0m )\n\u001b[1;32m    305\u001b[0m \u001b[39mreturn\u001b[39;00m pipe_run\n",
      "File \u001b[0;32m/opt/homebrew/Caskroom/miniconda/base/lib/python3.11/site-packages/cadCAD/engine/simulation.py:293\u001b[0m, in \u001b[0;36mExecutor.simulation.<locals>.execute_run\u001b[0;34m(sweep_dict, states_list, configs, env_processes, time_seq, _run)\u001b[0m\n\u001b[1;32m    286\u001b[0m         \u001b[39myield\u001b[39;00m d\n\u001b[1;32m    288\u001b[0m states_list_copy: \u001b[39mlist\u001b[39m[\u001b[39mdict\u001b[39m[\u001b[39mstr\u001b[39m, \u001b[39mobject\u001b[39m]] \u001b[39m=\u001b[39m \u001b[39mlist\u001b[39m(\n\u001b[1;32m    289\u001b[0m     generate_init_sys_metrics(\n\u001b[1;32m    290\u001b[0m         \u001b[39mtuple\u001b[39m(states_list), simulation_id, subset_id, run, subset_window)\n\u001b[1;32m    291\u001b[0m )\n\u001b[0;32m--> 293\u001b[0m first_timestep_per_run: \u001b[39mlist\u001b[39m[\u001b[39mdict\u001b[39m[\u001b[39mstr\u001b[39m, \u001b[39mobject\u001b[39m]] \u001b[39m=\u001b[39m \u001b[39mself\u001b[39m\u001b[39m.\u001b[39mrun_pipeline(\n\u001b[1;32m    294\u001b[0m     sweep_dict, states_list_copy, configs, env_processes, time_seq, run, additional_objs\n\u001b[1;32m    295\u001b[0m )\n\u001b[1;32m    296\u001b[0m \u001b[39mdel\u001b[39;00m states_list_copy\n\u001b[1;32m    298\u001b[0m \u001b[39mreturn\u001b[39;00m first_timestep_per_run\n",
      "File \u001b[0;32m/opt/homebrew/Caskroom/miniconda/base/lib/python3.11/site-packages/cadCAD/engine/simulation.py:254\u001b[0m, in \u001b[0;36mExecutor.run_pipeline\u001b[0;34m(self, sweep_dict, states_list, configs, env_processes, time_seq, run, additional_objs)\u001b[0m\n\u001b[1;32m    251\u001b[0m simulation_list: \u001b[39mlist\u001b[39m[\u001b[39mlist\u001b[39m[\u001b[39mdict\u001b[39m[\u001b[39mstr\u001b[39m, \u001b[39mobject\u001b[39m]]] \u001b[39m=\u001b[39m [states_list]\n\u001b[1;32m    253\u001b[0m \u001b[39mfor\u001b[39;00m time_step \u001b[39min\u001b[39;00m time_seq:\n\u001b[0;32m--> 254\u001b[0m     pipe_run: \u001b[39mlist\u001b[39m[\u001b[39mdict\u001b[39m[\u001b[39mstr\u001b[39m, \u001b[39mobject\u001b[39m]] \u001b[39m=\u001b[39m \u001b[39mself\u001b[39m\u001b[39m.\u001b[39mstate_update_pipeline(\n\u001b[1;32m    255\u001b[0m         sweep_dict, simulation_list, configs, env_processes, time_step, run, additional_objs\n\u001b[1;32m    256\u001b[0m     )\n\u001b[1;32m    257\u001b[0m     _, \u001b[39m*\u001b[39mpipe_run \u001b[39m=\u001b[39m pipe_run\n\u001b[1;32m    258\u001b[0m     simulation_list\u001b[39m.\u001b[39mappend(pipe_run)\n",
      "File \u001b[0;32m/opt/homebrew/Caskroom/miniconda/base/lib/python3.11/site-packages/cadCAD/engine/simulation.py:229\u001b[0m, in \u001b[0;36mExecutor.state_update_pipeline\u001b[0;34m(self, sweep_dict, simulation_list, configs, env_processes, time_step, run, additional_objs)\u001b[0m\n\u001b[1;32m    227\u001b[0m sub_step \u001b[39m+\u001b[39m\u001b[39m=\u001b[39m \u001b[39m1\u001b[39m\n\u001b[1;32m    228\u001b[0m \u001b[39mfor\u001b[39;00m [s_conf, p_conf] \u001b[39min\u001b[39;00m configs:\n\u001b[0;32m--> 229\u001b[0m     states_list: \u001b[39mlist\u001b[39m[\u001b[39mdict\u001b[39m[\u001b[39mstr\u001b[39m, \u001b[39mobject\u001b[39m]] \u001b[39m=\u001b[39m \u001b[39mself\u001b[39m\u001b[39m.\u001b[39mpartial_state_update(\n\u001b[1;32m    230\u001b[0m         sweep_dict, sub_step, states_list, simulation_list, s_conf, p_conf, env_processes, time_step, run,\n\u001b[1;32m    231\u001b[0m         additional_objs\n\u001b[1;32m    232\u001b[0m     )\n\u001b[1;32m    233\u001b[0m     sub_step \u001b[39m+\u001b[39m\u001b[39m=\u001b[39m \u001b[39m1\u001b[39m\n\u001b[1;32m    235\u001b[0m time_step \u001b[39m+\u001b[39m\u001b[39m=\u001b[39m \u001b[39m1\u001b[39m\n",
      "File \u001b[0;32m/opt/homebrew/Caskroom/miniconda/base/lib/python3.11/site-packages/cadCAD/engine/simulation.py:194\u001b[0m, in \u001b[0;36mExecutor.partial_state_update\u001b[0;34m(self, sweep_dict, sub_step, sL, sH, state_funcs, policy_funcs, env_processes, time_step, run, additional_objs)\u001b[0m\n\u001b[1;32m    190\u001b[0m     \u001b[39mdel\u001b[39;00m source\n\u001b[1;32m    191\u001b[0m     \u001b[39mreturn\u001b[39;00m destination\n\u001b[1;32m    193\u001b[0m last_in_copy: \u001b[39mdict\u001b[39m[\u001b[39mstr\u001b[39m, \u001b[39mobject\u001b[39m] \u001b[39m=\u001b[39m transfer_missing_fields(\n\u001b[0;32m--> 194\u001b[0m     last_in_obj, \u001b[39mdict\u001b[39m(generate_record(state_funcs)))\n\u001b[1;32m    195\u001b[0m last_in_copy: \u001b[39mdict\u001b[39m[\u001b[39mstr\u001b[39m, \u001b[39mobject\u001b[39m] \u001b[39m=\u001b[39m \u001b[39mself\u001b[39m\u001b[39m.\u001b[39mapply_env_proc(\n\u001b[1;32m    196\u001b[0m     sweep_dict, env_processes, last_in_copy)\n\u001b[1;32m    197\u001b[0m last_in_copy[\u001b[39m'\u001b[39m\u001b[39msubstep\u001b[39m\u001b[39m'\u001b[39m], last_in_copy[\u001b[39m'\u001b[39m\u001b[39mtimestep\u001b[39m\u001b[39m'\u001b[39m], last_in_copy[\u001b[39m'\u001b[39m\u001b[39mrun\u001b[39m\u001b[39m'\u001b[39m] \u001b[39m=\u001b[39m sub_step, time_step, run\n",
      "File \u001b[0;32m/opt/homebrew/Caskroom/miniconda/base/lib/python3.11/site-packages/cadCAD/engine/simulation.py:184\u001b[0m, in \u001b[0;36mExecutor.partial_state_update.<locals>.generate_record\u001b[0;34m(state_funcs)\u001b[0m\n\u001b[1;32m    182\u001b[0m         \u001b[39mreturn\u001b[39;00m \u001b[39mself\u001b[39m\u001b[39m.\u001b[39mstate_update_exception(f(sweep_dict, sub_step, sH, last_in_obj, _input, additional_objs))\n\u001b[1;32m    183\u001b[0m \u001b[39mfor\u001b[39;00m f \u001b[39min\u001b[39;00m state_funcs:\n\u001b[0;32m--> 184\u001b[0m     \u001b[39myield\u001b[39;00m state_scope_tuner(f)\n",
      "File \u001b[0;32m/opt/homebrew/Caskroom/miniconda/base/lib/python3.11/site-packages/cadCAD/engine/simulation.py:180\u001b[0m, in \u001b[0;36mExecutor.partial_state_update.<locals>.generate_record.<locals>.state_scope_tuner\u001b[0;34m(f)\u001b[0m\n\u001b[1;32m    178\u001b[0m lenf \u001b[39m=\u001b[39m f\u001b[39m.\u001b[39m\u001b[39m__code__\u001b[39m\u001b[39m.\u001b[39mco_argcount\n\u001b[1;32m    179\u001b[0m \u001b[39mif\u001b[39;00m lenf \u001b[39m==\u001b[39m \u001b[39m5\u001b[39m:\n\u001b[0;32m--> 180\u001b[0m     \u001b[39mreturn\u001b[39;00m \u001b[39mself\u001b[39m\u001b[39m.\u001b[39mstate_update_exception(f(sweep_dict, sub_step, sH, last_in_obj, _input))\n\u001b[1;32m    181\u001b[0m \u001b[39melif\u001b[39;00m lenf \u001b[39m==\u001b[39m \u001b[39m6\u001b[39m:\n\u001b[1;32m    182\u001b[0m     \u001b[39mreturn\u001b[39;00m \u001b[39mself\u001b[39m\u001b[39m.\u001b[39mstate_update_exception(f(sweep_dict, sub_step, sH, last_in_obj, _input, additional_objs))\n",
      "File \u001b[0;32m~/repos/bsci/aztec-gddt/notebooks/../aztec_gddt/logic.py:86\u001b[0m, in \u001b[0;36ms_block_time\u001b[0;34m(params, _2, _3, state, signal)\u001b[0m\n\u001b[1;32m     72\u001b[0m \u001b[39mdef\u001b[39;00m \u001b[39ms_block_time\u001b[39m(params: AztecModelParams, _2, _3,\n\u001b[1;32m     73\u001b[0m                  state: AztecModelState,\n\u001b[1;32m     74\u001b[0m                  signal: Signal) \u001b[39m-\u001b[39m\u001b[39m>\u001b[39m VariableUpdate:\n\u001b[1;32m     75\u001b[0m \u001b[39m    \u001b[39m\u001b[39m\"\"\"State update function advancing block time.  \u001b[39;00m\n\u001b[1;32m     76\u001b[0m \n\u001b[1;32m     77\u001b[0m \u001b[39m    Args:\u001b[39;00m\n\u001b[0;32m   (...)\u001b[0m\n\u001b[1;32m     84\u001b[0m \u001b[39m            A two-element tuple that all state update functions must return.\u001b[39;00m\n\u001b[1;32m     85\u001b[0m \u001b[39m    \"\"\"\u001b[39;00m\n\u001b[0;32m---> 86\u001b[0m     \u001b[39mreturn\u001b[39;00m (\u001b[39m'\u001b[39m\u001b[39mblock_time\u001b[39m\u001b[39m'\u001b[39m, state[\u001b[39m'\u001b[39m\u001b[39mtime_l1\u001b[39m\u001b[39m'\u001b[39m] \u001b[39m+\u001b[39m signal[\u001b[39m'\u001b[39m\u001b[39mdelta_blocks\u001b[39m\u001b[39m'\u001b[39m])\n",
      "\u001b[0;31mKeyError\u001b[0m: 'time_l1'"
     ]
    }
   ],
   "source": [
    "from aztec_gddt.experiment import standard_run\n",
    "\n",
    "sim_df = standard_run()"
   ]
  },
  {
   "cell_type": "code",
   "execution_count": null,
   "metadata": {},
   "outputs": [],
   "source": []
  }
 ],
 "metadata": {
  "kernelspec": {
   "display_name": "base",
   "language": "python",
   "name": "python3"
  },
  "language_info": {
   "codemirror_mode": {
    "name": "ipython",
    "version": 3
   },
   "file_extension": ".py",
   "mimetype": "text/x-python",
   "name": "python",
   "nbconvert_exporter": "python",
   "pygments_lexer": "ipython3",
   "version": "3.11.0"
  }
 },
 "nbformat": 4,
 "nbformat_minor": 2
}
