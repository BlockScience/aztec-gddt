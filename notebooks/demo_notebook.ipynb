{
 "cells": [
  {
   "cell_type": "markdown",
   "metadata": {},
   "source": [
    "# Overview of the Aztec GDDT Model \n",
    "\n",
    "## NOTE: In Progress\n",
    "## <span style=\"color:red\">  STATUS: INTERNAL ONLY. DO NOT SHARE OUTSIDE BSCI IN CURRENT FORM. </span>"
   ]
  },
  {
   "cell_type": "markdown",
   "metadata": {},
   "source": [
    "## Importing Necessary Repostories"
   ]
  },
  {
   "cell_type": "code",
   "execution_count": 1,
   "metadata": {},
   "outputs": [],
   "source": [
    "# System \n",
    "import sys\n",
    "sys.path.append('../')\n",
    "import os\n",
    "\n",
    "# Data Processing\n",
    "import pandas as pd\n",
    "\n",
    "# Graphics Packages\n",
    "import matplotlib.pyplot as plt\n",
    "import plotly.express as px\n",
    "import seaborn as sns\n",
    "\n",
    "# Custom Helper Methods\n",
    "from viz_helper import (find_interesting_cols, \n",
    "                        generate_scatterplots)"
   ]
  },
  {
   "cell_type": "markdown",
   "metadata": {},
   "source": [
    "## Introduction \n",
    "\n",
    "In this notebook, we give a demonstration of how the Aztec GDDT cadCAD simulation model can be used. "
   ]
  },
  {
   "cell_type": "markdown",
   "metadata": {},
   "source": [
    "## Running the Model \n",
    "\n",
    "In a future version, we will provide information on how the user can input their own parameter choices) to the `sim_run` function (found in the  [utils.py]() file in this repository). \n",
    "\n",
    "For the purposes of this demonstration notebook, we run the model according to a standard predefined set of input parameters. "
   ]
  },
  {
   "cell_type": "code",
   "execution_count": 2,
   "metadata": {},
   "outputs": [],
   "source": [
    "# TODO: restore when non-breaking from aztec_gddt.experiment import standard_run\n",
    "\n",
    "# TODO: restore when non-breaking  sim_df = standard_run().set_index('time_l1')\n",
    "sim_df = pd.read_csv(\"test_data.csv\") #TODO: delete when non-breaking"
   ]
  },
  {
   "cell_type": "code",
   "execution_count": 9,
   "metadata": {},
   "outputs": [
    {
     "name": "stdout",
     "output_type": "stream",
     "text": [
      "time_l1\n",
      "timestep\n",
      "delta_blocks\n",
      "disbursed_block_rewards\n",
      "disbursed_fee_cashback\n"
     ]
    }
   ],
   "source": [
    "interesting_cols = find_interesting_cols(sim_df, \n",
    "                                         numeric_only = True)\n",
    "for col in interesting_cols:\n",
    "    print(col)"
   ]
  },
  {
   "cell_type": "markdown",
   "metadata": {},
   "source": [
    "## Visual Analysis\n",
    "\n",
    "In this section we demonstrate several graphical plots that can easily be generated from the data produced by the simulation model runs. Since the cadCAD model produces a large amount of data, we utilize helper functions (found in `viz_helper.py`) to preprocess the data before creating the final graphics. "
   ]
  },
  {
   "cell_type": "code",
   "execution_count": 4,
   "metadata": {},
   "outputs": [
    {
     "name": "stdout",
     "output_type": "stream",
     "text": [
      "There are currently 5 interesting columns.\n"
     ]
    }
   ],
   "source": [
    "vars_to_exclude = [] \n",
    "interesting_cols = find_interesting_cols(sim_df, vars_to_exclude)\n",
    "\n",
    "print(f\"There are currently {len(interesting_cols)} interesting columns.\")\n",
    "#exclude non-useful vars. "
   ]
  },
  {
   "cell_type": "code",
   "execution_count": 5,
   "metadata": {},
   "outputs": [],
   "source": [
    "time_vars = [col for col in interesting_cols if \"time\" in col]\n",
    "other_vars = [col for col in interesting_cols if not(col in time_cols)]\n",
    "\n",
    "generate_scatterplots(df = sim_df,\n",
    "                      x_cols = time_vars,\n",
    "                      y_cols = other_vars)\n",
    "\n",
    "\n",
    "        \n",
    "    \n"
   ]
  },
  {
   "cell_type": "code",
   "execution_count": null,
   "metadata": {},
   "outputs": [],
   "source": []
  }
 ],
 "metadata": {
  "kernelspec": {
   "display_name": "base",
   "language": "python",
   "name": "python3"
  },
  "language_info": {
   "codemirror_mode": {
    "name": "ipython",
    "version": 3
   },
   "file_extension": ".py",
   "mimetype": "text/x-python",
   "name": "python",
   "nbconvert_exporter": "python",
   "pygments_lexer": "ipython3",
   "version": "3.9.0"
  }
 },
 "nbformat": 4,
 "nbformat_minor": 2
}
