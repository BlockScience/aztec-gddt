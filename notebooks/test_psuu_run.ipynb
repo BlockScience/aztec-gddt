{
 "cells": [
  {
   "cell_type": "markdown",
   "metadata": {},
   "source": [
    "# Azted G-dDT Test Run"
   ]
  },
  {
   "cell_type": "code",
   "execution_count": 1,
   "metadata": {},
   "outputs": [],
   "source": [
    "import sys\n",
    "sys.path.append('../')\n",
    "\n",
    "import pandas as pd\n",
    "import os\n",
    "import plotly.express as px\n",
    "import seaborn as sns \n",
    "import matplotlib.pyplot as plt\n",
    "\n",
    "import plotly.io as pio\n",
    "pio.renderers.default = \"png\"\n",
    "import math"
   ]
  },
  {
   "cell_type": "code",
   "execution_count": 2,
   "metadata": {},
   "outputs": [
    {
     "name": "stdout",
     "output_type": "stream",
     "text": [
      "Expected run time: 0.31s\n"
     ]
    }
   ],
   "source": [
    "N_sw = 4_000\n",
    "N_s = 3\n",
    "N_t = 250\n",
    "state_measurements = N_sw * N_s * N_t\n",
    "measurements_per_second = 8_000\n",
    "estimated_time_run = state_measurements / measurements_per_second\n",
    "print(f\"Expected run time: {estimated_time_run :.2f}s\")"
   ]
  },
  {
   "cell_type": "code",
   "execution_count": 3,
   "metadata": {},
   "outputs": [
    {
     "name": "stdout",
     "output_type": "stream",
     "text": [
      "147456\n",
      "Performing PSuU run\n",
      "\n",
      "                  ___________    ____\n",
      "  ________ __ ___/ / ____/   |  / __ \\\n",
      " / ___/ __` / __  / /   / /| | / / / /\n",
      "/ /__/ /_/ / /_/ / /___/ ___ |/ /_/ /\n",
      "\\___/\\__,_/\\__,_/\\____/_/  |_/_____/\n",
      "by cadCAD\n",
      "\n",
      "cadCAD Version: 0.5.1\n",
      "Execution Mode: single_proc\n",
      "Simulation Dimensions:\n",
      "Entire Simulation: (Models, Unique Timesteps, Params, Total Runs, Sub-States) = (1, 250, 36, 10, 14)\n",
      "     Simulation 0: (Timesteps, Params, Runs, Sub-States) = (250, 36, 10, 14)\n"
     ]
    },
    {
     "data": {
      "application/vnd.jupyter.widget-view+json": {
       "model_id": "c20e25c4704f4a6885f4b85f579f74bc",
       "version_major": 2,
       "version_minor": 0
      },
      "text/plain": [
       "Initializing configurations:   0%|          | 0/10 [00:00<?, ?it/s]"
      ]
     },
     "metadata": {},
     "output_type": "display_data"
    },
    {
     "name": "stdout",
     "output_type": "stream",
     "text": [
      "Execution Method: single_proc_exec\n",
      "Execution Mode: single_threaded\n"
     ]
    },
    {
     "data": {
      "application/vnd.jupyter.widget-view+json": {
       "model_id": "722d88ee6435408b8cc626c819d7ad28",
       "version_major": 2,
       "version_minor": 0
      },
      "text/plain": [
       "Flattening results:   0%|          | 0/2580 [00:00<?, ?it/s]"
      ]
     },
     "metadata": {},
     "output_type": "display_data"
    },
    {
     "name": "stdout",
     "output_type": "stream",
     "text": [
      "Total execution time: 0.34s\n"
     ]
    }
   ],
   "source": [
    "from aztec_gddt.experiment import *\n",
    "\n",
    "sim_df = psuu_exploratory_run(N_sw, N_s, N_t)"
   ]
  },
  {
   "cell_type": "code",
   "execution_count": 4,
   "metadata": {},
   "outputs": [
    {
     "data": {
      "text/plain": [
       "Index(['time_l1', 'delta_l1_blocks', 'advance_l1_blocks', 'slashes', 'agents',\n",
       "       'current_process', 'transactions', 'gas_fee_l1', 'gas_fee_blob',\n",
       "       'finalized_blocks_count', 'cumm_block_rewards', 'cumm_fee_cashback',\n",
       "       'cumm_burn', 'token_supply', 'simulation', 'subset', 'run', 'timestep',\n",
       "       'delta_blocks', 'timestep_in_blocks', 'uncle_count', 'reward_per_block',\n",
       "       'fee_subsidy_fraction', 'phase_duration_proposal_min_blocks',\n",
       "       'phase_duration_proposal_max_blocks',\n",
       "       'phase_duration_reveal_min_blocks', 'phase_duration_reveal_max_blocks',\n",
       "       'phase_duration_commit_bond_min_blocks',\n",
       "       'phase_duration_commit_bond_max_blocks',\n",
       "       'phase_duration_rollup_min_blocks', 'phase_duration_rollup_max_blocks',\n",
       "       'phase_duration_race_min_blocks', 'phase_duration_race_max_blocks',\n",
       "       'stake_activation_period', 'unstake_cooldown_period',\n",
       "       'proposal_probability_per_user_per_block',\n",
       "       'block_content_reveal_probability', 'tx_proof_reveal_probability',\n",
       "       'rollup_proof_reveal_probability', 'commit_bond_reveal_probability',\n",
       "       'gas_threshold_for_tx', 'blob_gas_threshold_for_tx',\n",
       "       'proving_marketplace_usage_probability', 'rewards_to_provers',\n",
       "       'rewards_to_relay', 'gwei_to_tokens', 'slash_params',\n",
       "       'commit_bond_amount', 'op_costs'],\n",
       "      dtype='object')"
      ]
     },
     "execution_count": 4,
     "metadata": {},
     "output_type": "execute_result"
    }
   ],
   "source": [
    "sim_df.columns"
   ]
  },
  {
   "cell_type": "code",
   "execution_count": 5,
   "metadata": {},
   "outputs": [],
   "source": [
    "def trajectory_race_mode_fraction(trajectory_df) -> float:\n",
    "    return trajectory_df.current_process.map(lambda x: (x.phase == SelectionPhase.proof_race) if type(x) == Process else False).mean()\n",
    "\n",
    "\n",
    "def trajectory_skipped_fraction(trajectory_df) -> float:\n",
    "    return trajectory_df.current_process.map(lambda x: (x.phase == SelectionPhase.skipped) if type(x) == Process else False).mean()"
   ]
  },
  {
   "cell_type": "code",
   "execution_count": 6,
   "metadata": {},
   "outputs": [],
   "source": [
    "governance_surface_params = [\n",
    "    'phase_duration_proposal_min_blocks',\n",
    "    'phase_duration_proposal_max_blocks',\n",
    "    'phase_duration_reveal_min_blocks',\n",
    "    'phase_duration_reveal_max_blocks',\n",
    "    'phase_duration_commit_bond_min_blocks',\n",
    "    'phase_duration_commit_bond_max_blocks',\n",
    "    'phase_duration_rollup_min_blocks',\n",
    "    'phase_duration_rollup_max_blocks',\n",
    "    'phase_duration_race_min_blocks',\n",
    "    'phase_duration_race_max_blocks',\n",
    "    'reward_per_block'\n",
    "]\n",
    "\n",
    "trajectory_id_columns = ['simulation', 'subset', 'run']\n",
    "\n",
    "agg_columns = ['simulation', 'subset', 'run'] + governance_surface_params"
   ]
  },
  {
   "cell_type": "code",
   "execution_count": 7,
   "metadata": {},
   "outputs": [],
   "source": [
    "KPIs_per_trajectory = {\n",
    "    'fraction_race_mode': trajectory_race_mode_fraction,\n",
    "    'fraction_skipped': trajectory_skipped_fraction\n",
    "}\n",
    "\n",
    "kpi_dfs = []\n",
    "for kpi, kpi_f in KPIs_per_trajectory.items():\n",
    "    kpi_s = sim_df.head(1000).groupby(agg_columns).apply(kpi_f, include_groups=False)\n",
    "    kpi_s.name = kpi\n",
    "    kpi_dfs.append(kpi_s)\n",
    "\n",
    "\n",
    "all_kpi_df = pd.concat(kpi_dfs, axis=1)"
   ]
  },
  {
   "cell_type": "code",
   "execution_count": 8,
   "metadata": {},
   "outputs": [
    {
     "data": {
      "text/plain": [
       "array([[<Axes: title={'center': 'fraction_race_mode'}>,\n",
       "        <Axes: title={'center': 'fraction_skipped'}>]], dtype=object)"
      ]
     },
     "execution_count": 8,
     "metadata": {},
     "output_type": "execute_result"
    },
    {
     "data": {
      "image/png": "[encoded data removed]",
      "text/plain": [
       "<Figure size 640x480 with 2 Axes>"
      ]
     },
     "metadata": {},
     "output_type": "display_data"
    }
   ],
   "source": [
    "all_kpi_df.hist()"
   ]
  },
  {
   "cell_type": "code",
   "execution_count": 9,
   "metadata": {},
   "outputs": [
    {
     "data": {
      "text/plain": [
       "<seaborn.axisgrid.PairGrid at 0x15f3f1650>"
      ]
     },
     "execution_count": 9,
     "metadata": {},
     "output_type": "execute_result"
    }
   ],
   "source": [
    "sns.pairplot(all_kpi_df.reset_index().drop(columns=trajectory_id_columns))"
   ]
  },
  {
   "cell_type": "code",
   "execution_count": null,
   "metadata": {},
   "outputs": [],
   "source": [
    "from sklearn.tree import plot_tree\n",
    "from sklearn.tree import DecisionTreeClassifier\n",
    "from sklearn.ensemble import RandomForestClassifier\n",
    "\n",
    "\n",
    "df = all_kpi_df.reset_index()\n",
    "kpi = 'fraction_race_mode'\n",
    "features = list(set(governance_surface_params) - {kpi})\n",
    "X = df.loc[:, features]\n",
    "y = df.loc[:, kpi] > df.loc[:, kpi].median()\n",
    "\n",
    "model = DecisionTreeClassifier(max_depth=3)\n",
    "rf = RandomForestClassifier()\n",
    "model.fit(X, y)\n",
    "rf.fit(X, y)\n",
    "\n",
    "\n",
    "\n",
    "rf_df = (pd.DataFrame(list(zip(X.columns, rf.feature_importances_)),\n",
    "                    columns=['features', 'importance'])\n",
    "        .sort_values(by='importance', ascending=False)\n",
    "        )\n",
    "\n",
    "\n",
    "fig, axes = plt.subplots(nrows=2,\n",
    "                            figsize=(36, 12),\n",
    "                            dpi=100,\n",
    "                            gridspec_kw={'height_ratios': [3, 1]})\n",
    "\n",
    "(ax_dt, ax_rf) = axes[0], axes[1]\n",
    "plot_tree(model,\n",
    "            rounded=True,\n",
    "            proportion=True,\n",
    "            fontsize=8,\n",
    "            feature_names=X.columns,\n",
    "            class_names=['threshold not met', 'threshold met'],\n",
    "            filled=True,\n",
    "            ax=ax_dt)\n",
    "ax_dt.set_title(\n",
    "    f'Decision tree, score: {model.score(X, y) :.0%}. N: {len(X) :.2e}')\n",
    "sns.barplot(data=rf_df,\n",
    "            x=rf_df.features,\n",
    "            y=rf_df.importance,\n",
    "            ax=ax_rf,\n",
    "            label='small')\n",
    "plt.setp(ax_rf.xaxis.get_majorticklabels(), rotation=45)\n",
    "ax_rf.set_title(f'Feature importance')\n",
    "plt.show()"
   ]
  },
  {
   "cell_type": "code",
   "execution_count": null,
   "metadata": {},
   "outputs": [],
   "source": []
  }
 ],
 "metadata": {
  "kernelspec": {
   "display_name": "base",
   "language": "python",
   "name": "python3"
  },
  "language_info": {
   "codemirror_mode": {
    "name": "ipython",
    "version": 3
   },
   "file_extension": ".py",
   "mimetype": "text/x-python",
   "name": "python",
   "nbconvert_exporter": "python",
   "pygments_lexer": "ipython3",
   "version": "3.11.5"
  }
 },
 "nbformat": 4,
 "nbformat_minor": 2
}
