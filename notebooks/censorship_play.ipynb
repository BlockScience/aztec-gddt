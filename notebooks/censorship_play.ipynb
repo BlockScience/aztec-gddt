{
 "cells": [
  {
   "cell_type": "markdown",
   "metadata": {},
   "source": [
    "# Cleaning Censorship Data"
   ]
  },
  {
   "cell_type": "markdown",
   "metadata": {},
   "source": []
  },
  {
   "cell_type": "markdown",
   "metadata": {},
   "source": [
    "## Requirements\n",
    "First, make sure the requirements are installed. "
   ]
  },
  {
   "cell_type": "code",
   "execution_count": 1,
   "metadata": {},
   "outputs": [],
   "source": [
    "import seaborn as sns\n",
    "import plotly.io as pio\n",
    "import matplotlib.pyplot as plt\n",
    "import plotly.express as px\n",
    "import os\n",
    "import pandas as pd\n",
    "import sys\n",
    "sys.path.append('../')\n",
    "\n",
    "from IPython.core.getipython import get_ipython\n",
    "\n",
    "pio.renderers.default = \"png\""
   ]
  },
  {
   "cell_type": "code",
   "execution_count": 3,
   "metadata": {},
   "outputs": [],
   "source": [
    "data = pd.read_csv(\"../data/builder_validator_data.csv.gz\")"
   ]
  },
  {
   "cell_type": "code",
   "execution_count": 5,
   "metadata": {},
   "outputs": [],
   "source": [
    "data.drop_duplicates(inplace = True)"
   ]
  },
  {
   "cell_type": "code",
   "execution_count": 6,
   "metadata": {},
   "outputs": [
    {
     "data": {
      "text/html": [
       "<div>\n",
       "<style scoped>\n",
       "    .dataframe tbody tr th:only-of-type {\n",
       "        vertical-align: middle;\n",
       "    }\n",
       "\n",
       "    .dataframe tbody tr th {\n",
       "        vertical-align: top;\n",
       "    }\n",
       "\n",
       "    .dataframe thead th {\n",
       "        text-align: right;\n",
       "    }\n",
       "</style>\n",
       "<table border=\"1\" class=\"dataframe\">\n",
       "  <thead>\n",
       "    <tr style=\"text-align: right;\">\n",
       "      <th></th>\n",
       "      <th>Unnamed: 0</th>\n",
       "      <th>date</th>\n",
       "      <th>slot</th>\n",
       "      <th>block_number</th>\n",
       "      <th>relay</th>\n",
       "      <th>builder</th>\n",
       "      <th>builder_pubkey</th>\n",
       "      <th>validator</th>\n",
       "      <th>proposer_pubkey</th>\n",
       "      <th>mevboost_value</th>\n",
       "    </tr>\n",
       "  </thead>\n",
       "  <tbody>\n",
       "    <tr>\n",
       "      <th>0</th>\n",
       "      <td>500118</td>\n",
       "      <td>2022-09-15 06:42:59</td>\n",
       "      <td>4700013</td>\n",
       "      <td>15537394.0</td>\n",
       "      <td>NaN</td>\n",
       "      <td>NaN</td>\n",
       "      <td>NaN</td>\n",
       "      <td>celsius</td>\n",
       "      <td>0xa04520c5c37237e358cdd10d75d055d2e81ada151e63...</td>\n",
       "      <td>NaN</td>\n",
       "    </tr>\n",
       "    <tr>\n",
       "      <th>1</th>\n",
       "      <td>1897668</td>\n",
       "      <td>2022-09-15 06:43:11</td>\n",
       "      <td>4700014</td>\n",
       "      <td>15537395.0</td>\n",
       "      <td>NaN</td>\n",
       "      <td>NaN</td>\n",
       "      <td>NaN</td>\n",
       "      <td>stakehound</td>\n",
       "      <td>0xa605e658a0dd0dd77adb9fc2398f78f24c648125126d...</td>\n",
       "      <td>NaN</td>\n",
       "    </tr>\n",
       "    <tr>\n",
       "      <th>2</th>\n",
       "      <td>562765</td>\n",
       "      <td>2022-09-15 06:43:23</td>\n",
       "      <td>4700015</td>\n",
       "      <td>15537396.0</td>\n",
       "      <td>NaN</td>\n",
       "      <td>NaN</td>\n",
       "      <td>NaN</td>\n",
       "      <td>lido</td>\n",
       "      <td>0xb11a32a0f8f7acb81f959e7c68af49705bb64d78b41b...</td>\n",
       "      <td>NaN</td>\n",
       "    </tr>\n",
       "    <tr>\n",
       "      <th>3</th>\n",
       "      <td>2812199</td>\n",
       "      <td>2022-09-15 06:43:35</td>\n",
       "      <td>4700016</td>\n",
       "      <td>15537397.0</td>\n",
       "      <td>NaN</td>\n",
       "      <td>NaN</td>\n",
       "      <td>NaN</td>\n",
       "      <td>binance</td>\n",
       "      <td>0x863b410dfb618b4f6b947f3ede710001aa274bc74b1d...</td>\n",
       "      <td>NaN</td>\n",
       "    </tr>\n",
       "    <tr>\n",
       "      <th>4</th>\n",
       "      <td>1690921</td>\n",
       "      <td>2022-09-15 06:43:47</td>\n",
       "      <td>4700017</td>\n",
       "      <td>15537398.0</td>\n",
       "      <td>NaN</td>\n",
       "      <td>NaN</td>\n",
       "      <td>NaN</td>\n",
       "      <td>0xb9be1d7a0a871eef07ca47796842b0449032462d69d2...</td>\n",
       "      <td>0xb9be1d7a0a871eef07ca47796842b0449032462d69d2...</td>\n",
       "      <td>NaN</td>\n",
       "    </tr>\n",
       "  </tbody>\n",
       "</table>\n",
       "</div>"
      ],
      "text/plain": [
       "   Unnamed: 0                 date     slot  block_number relay builder  \\\n",
       "0      500118  2022-09-15 06:42:59  4700013    15537394.0   NaN     NaN   \n",
       "1     1897668  2022-09-15 06:43:11  4700014    15537395.0   NaN     NaN   \n",
       "2      562765  2022-09-15 06:43:23  4700015    15537396.0   NaN     NaN   \n",
       "3     2812199  2022-09-15 06:43:35  4700016    15537397.0   NaN     NaN   \n",
       "4     1690921  2022-09-15 06:43:47  4700017    15537398.0   NaN     NaN   \n",
       "\n",
       "  builder_pubkey                                          validator  \\\n",
       "0            NaN                                            celsius   \n",
       "1            NaN                                         stakehound   \n",
       "2            NaN                                               lido   \n",
       "3            NaN                                            binance   \n",
       "4            NaN  0xb9be1d7a0a871eef07ca47796842b0449032462d69d2...   \n",
       "\n",
       "                                     proposer_pubkey  mevboost_value  \n",
       "0  0xa04520c5c37237e358cdd10d75d055d2e81ada151e63...             NaN  \n",
       "1  0xa605e658a0dd0dd77adb9fc2398f78f24c648125126d...             NaN  \n",
       "2  0xb11a32a0f8f7acb81f959e7c68af49705bb64d78b41b...             NaN  \n",
       "3  0x863b410dfb618b4f6b947f3ede710001aa274bc74b1d...             NaN  \n",
       "4  0xb9be1d7a0a871eef07ca47796842b0449032462d69d2...             NaN  "
      ]
     },
     "execution_count": 6,
     "metadata": {},
     "output_type": "execute_result"
    }
   ],
   "source": [
    "data.head(5)"
   ]
  },
  {
   "cell_type": "code",
   "execution_count": 8,
   "metadata": {},
   "outputs": [],
   "source": [
    "clean_data = data[['date','slot','block_number','builder','validator','builder_pubkey','mevboost_value']]"
   ]
  },
  {
   "cell_type": "code",
   "execution_count": 9,
   "metadata": {},
   "outputs": [],
   "source": [
    "def update_builder(df):\n",
    "    mask = df['builder'].isnull() & df['builder_pubkey'].isnull() & df['mevboost_value'].isnull()\n",
    "    df.loc[mask, 'builder'] = df.loc[mask, 'validator']\n",
    "    return df"
   ]
  },
  {
   "cell_type": "code",
   "execution_count": 10,
   "metadata": {},
   "outputs": [],
   "source": [
    "updated_clean_data = update_builder(clean_data)"
   ]
  },
  {
   "cell_type": "code",
   "execution_count": 11,
   "metadata": {},
   "outputs": [
    {
     "data": {
      "text/plain": [
       "True"
      ]
     },
     "execution_count": 11,
     "metadata": {},
     "output_type": "execute_result"
    }
   ],
   "source": [
    "len(updated_clean_data) == len(clean_data)"
   ]
  },
  {
   "cell_type": "code",
   "execution_count": 13,
   "metadata": {},
   "outputs": [
    {
     "data": {
      "text/plain": [
       "date                                            2024-04-24 06:12:35\n",
       "slot                                                        8926261\n",
       "block_number                                             19723375.0\n",
       "builder           0x967b8d4e4e688c749f2cccdcf43b8506328c2c2bff0c...\n",
       "validator         0x967b8d4e4e688c749f2cccdcf43b8506328c2c2bff0c...\n",
       "builder_pubkey                                                  NaN\n",
       "mevboost_value                                                  NaN\n",
       "Name: 8685487, dtype: object"
      ]
     },
     "execution_count": 13,
     "metadata": {},
     "output_type": "execute_result"
    }
   ],
   "source": [
    "updated_clean_data.iloc[-1]"
   ]
  },
  {
   "cell_type": "code",
   "execution_count": 15,
   "metadata": {},
   "outputs": [],
   "source": [
    "updated_clean_data = updated_clean_data[['date', 'slot', 'block_number', 'builder', 'validator']]"
   ]
  },
  {
   "cell_type": "code",
   "execution_count": 16,
   "metadata": {},
   "outputs": [],
   "source": [
    "updated_clean_data.to_csv(\"eth_builder_validator_data.csv.gz\",\n",
    "                          compression = \"gzip\")"
   ]
  },
  {
   "cell_type": "code",
   "execution_count": 17,
   "metadata": {},
   "outputs": [],
   "source": [
    "updated_clean_data.to_parquet(\"eth_builder_validator_data.parquet.gz\",\n",
    "                          compression = \"gzip\")"
   ]
  }
 ],
 "metadata": {
  "kernelspec": {
   "display_name": "Python 3 (ipykernel)",
   "language": "python",
   "name": "python3"
  },
  "language_info": {
   "codemirror_mode": {
    "name": "ipython",
    "version": 3
   },
   "file_extension": ".py",
   "mimetype": "text/x-python",
   "name": "python",
   "nbconvert_exporter": "python",
   "pygments_lexer": "ipython3",
   "version": "3.11.6"
  }
 },
 "nbformat": 4,
 "nbformat_minor": 4
}
