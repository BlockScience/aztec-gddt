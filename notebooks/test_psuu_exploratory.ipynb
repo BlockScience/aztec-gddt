{
 "cells": [
  {
   "cell_type": "code",
   "execution_count": 1,
   "metadata": {},
   "outputs": [],
   "source": [
    "import pandas as pd\n",
    "import os\n",
    "from random import sample\n",
    "from pathlib import Path\n",
    "from tqdm.auto import tqdm\n",
    "import sys\n",
    "sys.path.append(\"../\")"
   ]
  },
  {
   "cell_type": "code",
   "execution_count": 2,
   "metadata": {},
   "outputs": [
    {
     "data": {
      "application/vnd.jupyter.widget-view+json": {
       "model_id": "a3972652bd1644d092ffcab7bd753d17",
       "version_major": 2,
       "version_minor": 0
      },
      "text/plain": [
       "  0%|          | 0/10 [00:00<?, ?it/s]"
      ]
     },
     "metadata": {},
     "output_type": "display_data"
    }
   ],
   "source": [
    "N_files_to_sample = 10\n",
    "READ_FILE = False\n",
    "PICKLE_PATH = Path('../data/simulations/psuu_run_concat_20240325T223806Z.pkl.gz')\n",
    "\n",
    "if READ_FILE:\n",
    "    df = pd.read_pickle(PICKLE_PATH)\n",
    "else:\n",
    "    data_path = Path(\"../data/simulations/psuu_run_20240325T223806Z/\")\n",
    "    pickle_files: list[str] = [f for f in os.listdir(data_path) if \".pkl\" in f]\n",
    "\n",
    "    files_to_open = [data_path / f for f in sample(pickle_files, N_files_to_sample)]\n",
    "    dfs = []\n",
    "    for f in tqdm(files_to_open):\n",
    "        dfs.append(pd.read_pickle(f))\n",
    "\n",
    "    df = pd.concat(dfs)\n",
    "    del dfs\n",
    "    df.to_pickle(PICKLE_PATH)"
   ]
  },
  {
   "cell_type": "code",
   "execution_count": 3,
   "metadata": {},
   "outputs": [],
   "source": [
    "import aztec_gddt.metrics as m"
   ]
  },
  {
   "cell_type": "code",
   "execution_count": 4,
   "metadata": {},
   "outputs": [],
   "source": [
    "governance_surface_params = [\n",
    "    'phase_duration_proposal_min_blocks',\n",
    "    'phase_duration_proposal_max_blocks',\n",
    "    'phase_duration_reveal_min_blocks',\n",
    "    'phase_duration_reveal_max_blocks',\n",
    "    'phase_duration_commit_bond_min_blocks',\n",
    "    'phase_duration_commit_bond_max_blocks',\n",
    "    'phase_duration_rollup_min_blocks',\n",
    "    'phase_duration_rollup_max_blocks',\n",
    "    'phase_duration_race_min_blocks',\n",
    "    'phase_duration_race_max_blocks',\n",
    "    'reward_per_block'\n",
    "]\n",
    "trajectory_id_columns = ['simulation', 'subset', 'run']\n",
    "agg_columns = ['simulation', 'subset', 'run'] + governance_surface_params"
   ]
  },
  {
   "cell_type": "code",
   "execution_count": 5,
   "metadata": {},
   "outputs": [],
   "source": [
    "KPIs_per_trajectory = {\n",
    "   # 'K1': m.find_proportion_race_mode,\n",
    "    'K2': m.find_proportion_slashed_due_to_prover\n",
    "}\n",
    "\n",
    "kpi_dfs = []\n",
    "for kpi, kpi_f in KPIs_per_trajectory.items():\n",
    "    kpi_s = df.groupby(agg_columns).apply(kpi_f, include_groups=False)\n",
    "    kpi_s.name = kpi\n",
    "    kpi_dfs.append(kpi_s)\n"
   ]
  },
  {
   "cell_type": "code",
   "execution_count": null,
   "metadata": {},
   "outputs": [
    {
     "data": {
      "text/plain": [
       "Index(['time_l1', 'delta_l1_blocks', 'advance_l1_blocks', 'slashes', 'agents',\n",
       "       'current_process', 'transactions', 'gas_fee_l1', 'gas_fee_blob',\n",
       "       'finalized_blocks_count', 'cumm_block_rewards', 'cumm_fee_cashback',\n",
       "       'cumm_burn', 'token_supply', 'simulation', 'subset', 'run', 'timestep',\n",
       "       'delta_blocks', 'timestep_in_blocks', 'uncle_count', 'reward_per_block',\n",
       "       'fee_subsidy_fraction', 'phase_duration_proposal_min_blocks',\n",
       "       'phase_duration_proposal_max_blocks',\n",
       "       'phase_duration_reveal_min_blocks', 'phase_duration_reveal_max_blocks',\n",
       "       'phase_duration_commit_bond_min_blocks',\n",
       "       'phase_duration_commit_bond_max_blocks',\n",
       "       'phase_duration_rollup_min_blocks', 'phase_duration_rollup_max_blocks',\n",
       "       'phase_duration_race_min_blocks', 'phase_duration_race_max_blocks',\n",
       "       'stake_activation_period', 'unstake_cooldown_period',\n",
       "       'proposal_probability_per_user_per_block',\n",
       "       'block_content_reveal_probability', 'tx_proof_reveal_probability',\n",
       "       'rollup_proof_reveal_probability', 'commit_bond_reveal_probability',\n",
       "       'gas_threshold_for_tx', 'blob_gas_threshold_for_tx',\n",
       "       'proving_marketplace_usage_probability', 'rewards_to_provers',\n",
       "       'rewards_to_relay', 'gwei_to_tokens', 'slash_params',\n",
       "       'commit_bond_amount', 'op_costs'],\n",
       "      dtype='object')"
      ]
     },
     "execution_count": 16,
     "metadata": {},
     "output_type": "execute_result"
    }
   ],
   "source": [
    "df.columns"
   ]
  },
  {
   "cell_type": "code",
   "execution_count": null,
   "metadata": {},
   "outputs": [
    {
     "ename": "AttributeError",
     "evalue": "'Process' object has no attribute 'process_id'",
     "output_type": "error",
     "traceback": [
      "\u001b[0;31m---------------------------------------------------------------------------\u001b[0m",
      "\u001b[0;31mAttributeError\u001b[0m                            Traceback (most recent call last)",
      "Cell \u001b[0;32mIn[19], line 1\u001b[0m\n\u001b[0;32m----> 1\u001b[0m \u001b[43mdf\u001b[49m\u001b[38;5;241;43m.\u001b[39;49m\u001b[43mcurrent_process\u001b[49m\u001b[38;5;241;43m.\u001b[39;49m\u001b[43miloc\u001b[49m\u001b[43m[\u001b[49m\u001b[38;5;241;43m1\u001b[39;49m\u001b[43m]\u001b[49m\u001b[38;5;241;43m.\u001b[39;49m\u001b[43mprocess_id\u001b[49m\n",
      "\u001b[0;31mAttributeError\u001b[0m: 'Process' object has no attribute 'process_id'"
     ]
    }
   ],
   "source": [
    "df.current_process.iloc[1].process_id"
   ]
  },
  {
   "cell_type": "code",
   "execution_count": null,
   "metadata": {},
   "outputs": [],
   "source": []
  }
 ],
 "metadata": {
  "kernelspec": {
   "display_name": "venv",
   "language": "python",
   "name": "python3"
  },
  "language_info": {
   "codemirror_mode": {
    "name": "ipython",
    "version": 3
   },
   "file_extension": ".py",
   "mimetype": "text/x-python",
   "name": "python",
   "nbconvert_exporter": "python",
   "pygments_lexer": "ipython3",
   "version": "3.11.5"
  }
 },
 "nbformat": 4,
 "nbformat_minor": 2
}
